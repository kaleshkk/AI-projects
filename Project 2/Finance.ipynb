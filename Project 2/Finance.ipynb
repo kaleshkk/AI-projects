{
 "cells": [
  {
   "cell_type": "markdown",
   "metadata": {},
   "source": [
    "# Project 2 - Finance"
   ]
  },
  {
   "cell_type": "markdown",
   "metadata": {},
   "source": [
    "### DESCRIPTION"
   ]
  },
  {
   "cell_type": "markdown",
   "metadata": {},
   "source": [
    "#### Problem Statement\n",
    "- Finance Industry is the biggest consumer of Data Scientists. It faces constant attack by fraudsters, who try to trick the system. Correctly identifying fraudulent transactions is often compared with finding needle in a haystack because of the low event rate. \n",
    "- It is important that credit card companies are able to recognize fraudulent credit card transactions so that the customers are not charged for items that they did not purchase.\n",
    "You are required to try various techniques such as supervised models with oversampling, unsupervised anomaly detection, and heuristics to get good accuracy at fraud detection."
   ]
  },
  {
   "cell_type": "markdown",
   "metadata": {},
   "source": [
    "#### Dataset Snapshot\n",
    "\n",
    "The datasets contain transactions made by credit cards in September 2013 by European cardholders. This dataset represents transactions that occurred in two days, where we have 492 frauds out of 284,807 transactions. The dataset is highly unbalanced, the positive class (frauds) account for 0.172% of all transactions."
   ]
  },
  {
   "cell_type": "markdown",
   "metadata": {},
   "source": [
    "### Project Task: Week 1\n",
    "\n",
    "#### Exploratory Data Analysis (EDA):\n",
    "- Perform an EDA on the Dataset.\n",
    "      - Check all the latent features and parameters with their mean and standard deviation. Value are close to 0 centered (mean) with unit standard deviation\n",
    "      - Find if there is any connection between Time, Amount, and the transaction being fraudulent.\n",
    "- Check the class count for each class. It’s a class Imbalance problem.\n",
    "- Use techniques like undersampling or oversampling before running Naïve Bayes, Logistic Regression or SVM.\n",
    "       - Oversampling or undersampling can be used to tackle the class imbalance problem\n",
    "       - Oversampling increases the prior probability of imbalanced class and in case of other classifiers, error gets multiplied as the low-proportionate class is mimicked multiple times.\n",
    "- Following are the matrices for evaluating the model performance: Precision, Recall, F1-Score, AUC-ROC curve. Use F1-Score as the evaluation criteria for this project."
   ]
  },
  {
   "cell_type": "code",
   "execution_count": 1,
   "metadata": {},
   "outputs": [
    {
     "name": "stdout",
     "output_type": "stream",
     "text": [
      "Requirement already satisfied: matplotlib in /usr/local/lib/python3.7/site-packages (3.4.2)\n",
      "Requirement already satisfied: pyparsing>=2.2.1 in /usr/local/lib/python3.7/site-packages (from matplotlib) (2.4.7)\n",
      "Requirement already satisfied: cycler>=0.10 in /usr/local/lib/python3.7/site-packages (from matplotlib) (0.10.0)\n",
      "Requirement already satisfied: numpy>=1.16 in /usr/local/lib/python3.7/site-packages (from matplotlib) (1.18.5)\n",
      "Requirement already satisfied: pillow>=6.2.0 in /usr/local/lib/python3.7/site-packages (from matplotlib) (8.2.0)\n",
      "Requirement already satisfied: python-dateutil>=2.7 in /usr/local/lib/python3.7/site-packages (from matplotlib) (2.8.1)\n",
      "Requirement already satisfied: kiwisolver>=1.0.1 in /usr/local/lib/python3.7/site-packages (from matplotlib) (1.3.1)\n",
      "Requirement already satisfied: six in /usr/local/lib/python3.7/site-packages (from cycler>=0.10->matplotlib) (1.15.0)\n",
      "\u001b[33mWARNING: Running pip as root will break packages and permissions. You should install packages reliably by using venv: https://pip.pypa.io/warnings/venv\u001b[0m\n",
      "\u001b[33mWARNING: You are using pip version 21.1.1; however, version 21.1.2 is available.\n",
      "You should consider upgrading via the '/usr/local/bin/python3.7 -m pip install --upgrade pip' command.\u001b[0m\n",
      "Requirement already satisfied: seaborn in /usr/local/lib/python3.7/site-packages (0.11.1)\n",
      "Requirement already satisfied: matplotlib>=2.2 in /usr/local/lib/python3.7/site-packages (from seaborn) (3.4.2)\n",
      "Requirement already satisfied: pandas>=0.23 in /usr/local/lib/python3.7/site-packages (from seaborn) (1.1.0)\n",
      "Requirement already satisfied: numpy>=1.15 in /usr/local/lib/python3.7/site-packages (from seaborn) (1.18.5)\n",
      "Requirement already satisfied: scipy>=1.0 in /usr/local/lib/python3.7/site-packages (from seaborn) (1.5.2)\n",
      "Requirement already satisfied: python-dateutil>=2.7 in /usr/local/lib/python3.7/site-packages (from matplotlib>=2.2->seaborn) (2.8.1)\n",
      "Requirement already satisfied: pillow>=6.2.0 in /usr/local/lib/python3.7/site-packages (from matplotlib>=2.2->seaborn) (8.2.0)\n",
      "Requirement already satisfied: kiwisolver>=1.0.1 in /usr/local/lib/python3.7/site-packages (from matplotlib>=2.2->seaborn) (1.3.1)\n",
      "Requirement already satisfied: cycler>=0.10 in /usr/local/lib/python3.7/site-packages (from matplotlib>=2.2->seaborn) (0.10.0)\n",
      "Requirement already satisfied: pyparsing>=2.2.1 in /usr/local/lib/python3.7/site-packages (from matplotlib>=2.2->seaborn) (2.4.7)\n",
      "Requirement already satisfied: six in /usr/local/lib/python3.7/site-packages (from cycler>=0.10->matplotlib>=2.2->seaborn) (1.15.0)\n",
      "Requirement already satisfied: pytz>=2017.2 in /usr/local/lib/python3.7/site-packages (from pandas>=0.23->seaborn) (2021.1)\n",
      "\u001b[33mWARNING: Running pip as root will break packages and permissions. You should install packages reliably by using venv: https://pip.pypa.io/warnings/venv\u001b[0m\n",
      "\u001b[33mWARNING: You are using pip version 21.1.1; however, version 21.1.2 is available.\n",
      "You should consider upgrading via the '/usr/local/bin/python -m pip install --upgrade pip' command.\u001b[0m\n",
      "Requirement already satisfied: imbalanced-learn in /usr/local/lib/python3.7/site-packages (0.8.0)\n",
      "Requirement already satisfied: scipy>=0.19.1 in /usr/local/lib/python3.7/site-packages (from imbalanced-learn) (1.5.2)\n",
      "Requirement already satisfied: numpy>=1.13.3 in /usr/local/lib/python3.7/site-packages (from imbalanced-learn) (1.18.5)\n",
      "Requirement already satisfied: scikit-learn>=0.24 in /usr/local/lib/python3.7/site-packages (from imbalanced-learn) (0.24.2)\n",
      "Requirement already satisfied: joblib>=0.11 in /usr/local/lib/python3.7/site-packages (from imbalanced-learn) (1.0.1)\n",
      "Requirement already satisfied: threadpoolctl>=2.0.0 in /usr/local/lib/python3.7/site-packages (from scikit-learn>=0.24->imbalanced-learn) (2.1.0)\n",
      "\u001b[33mWARNING: Running pip as root will break packages and permissions. You should install packages reliably by using venv: https://pip.pypa.io/warnings/venv\u001b[0m\n",
      "\u001b[33mWARNING: You are using pip version 21.1.1; however, version 21.1.2 is available.\n",
      "You should consider upgrading via the '/usr/local/bin/python3.7 -m pip install --upgrade pip' command.\u001b[0m\n",
      "Requirement already satisfied: delayed in /usr/local/lib/python3.7/site-packages (0.11.0b1)\n",
      "Requirement already satisfied: redis in /usr/local/lib/python3.7/site-packages (from delayed) (3.5.3)\n",
      "Requirement already satisfied: hiredis in /usr/local/lib/python3.7/site-packages (from delayed) (2.0.0)\n",
      "\u001b[33mWARNING: Running pip as root will break packages and permissions. You should install packages reliably by using venv: https://pip.pypa.io/warnings/venv\u001b[0m\n",
      "\u001b[33mWARNING: You are using pip version 21.1.1; however, version 21.1.2 is available.\n",
      "You should consider upgrading via the '/usr/local/bin/python3.7 -m pip install --upgrade pip' command.\u001b[0m\n",
      "Requirement already satisfied: xgboost in /usr/local/lib/python3.7/site-packages (1.4.2)\n",
      "Requirement already satisfied: scipy in /usr/local/lib/python3.7/site-packages (from xgboost) (1.5.2)\n",
      "Requirement already satisfied: numpy in /usr/local/lib/python3.7/site-packages (from xgboost) (1.18.5)\n",
      "\u001b[33mWARNING: Running pip as root will break packages and permissions. You should install packages reliably by using venv: https://pip.pypa.io/warnings/venv\u001b[0m\n",
      "\u001b[33mWARNING: You are using pip version 21.1.1; however, version 21.1.2 is available.\n",
      "You should consider upgrading via the '/usr/local/bin/python3.7 -m pip install --upgrade pip' command.\u001b[0m\n"
     ]
    }
   ],
   "source": [
    "!pip install matplotlib\n",
    "!python -m pip install seaborn\n",
    "!pip install -U imbalanced-learn\n",
    "!pip install delayed\n",
    "!pip install xgboost"
   ]
  },
  {
   "cell_type": "code",
   "execution_count": 2,
   "metadata": {},
   "outputs": [],
   "source": [
    "import pandas as pd\n",
    "from matplotlib import pyplot as plt\n",
    "import seaborn as sns\n",
    "import numpy as np\n",
    "import copy\n",
    "import time\n",
    "import sys\n",
    "from datetime import datetime\n",
    "\n",
    "from sklearn.preprocessing import RobustScaler\n",
    "\n",
    "from imblearn.over_sampling import RandomOverSampler\n",
    "from imblearn.under_sampling import RandomUnderSampler\n",
    "\n",
    "from sklearn.metrics import confusion_matrix, accuracy_score, classification_report, plot_roc_curve, auc, f1_score, precision_score, recall_score\n",
    "from sklearn.preprocessing import StandardScaler\n",
    "from sklearn.model_selection import GridSearchCV, cross_val_score, KFold, RandomizedSearchCV\n",
    "from sklearn.pipeline import Pipeline\n",
    "\n",
    "from sklearn.linear_model import SGDClassifier, LogisticRegression\n",
    "from sklearn.svm import SVC\n",
    "from sklearn.naive_bayes import GaussianNB, MultinomialNB\n",
    "\n",
    "from sklearn.ensemble import RandomForestClassifier, BaggingClassifier, GradientBoostingClassifier, ExtraTreesClassifier, AdaBoostClassifier\n",
    "import xgboost as xgb\n",
    "\n",
    "import tensorflow as tf\n",
    "from tensorflow.keras import Sequential\n",
    "from tensorflow.keras.layers import Dense,BatchNormalization,Dropout\n",
    "from tensorflow.keras.wrappers.scikit_learn import KerasClassifier\n",
    "\n",
    "from sklearn.ensemble import IsolationForest\n",
    "from sklearn.neighbors import LocalOutlierFactor"
   ]
  },
  {
   "cell_type": "code",
   "execution_count": 3,
   "metadata": {},
   "outputs": [],
   "source": [
    "# read data\n",
    "df_train_original = pd.read_csv('./dataset/train_data.csv')\n",
    "df_test_original = pd.read_csv('./dataset/test_data_hidden.csv')\n",
    "# df_test_original = pd.read_csv('./dataset/test_data.csv')"
   ]
  },
  {
   "cell_type": "code",
   "execution_count": 4,
   "metadata": {},
   "outputs": [],
   "source": [
    "df_train = copy.deepcopy(df_train_original)\n",
    "df_test = copy.deepcopy(df_test_original)"
   ]
  },
  {
   "cell_type": "code",
   "execution_count": 5,
   "metadata": {},
   "outputs": [
    {
     "name": "stdout",
     "output_type": "stream",
     "text": [
      "(49820, 31)\n",
      "(51731, 31)\n"
     ]
    }
   ],
   "source": [
    "print(df_train.shape)\n",
    "print(df_test.shape)"
   ]
  },
  {
   "cell_type": "code",
   "execution_count": 6,
   "metadata": {},
   "outputs": [
    {
     "data": {
      "text/html": [
       "<div>\n",
       "<style scoped>\n",
       "    .dataframe tbody tr th:only-of-type {\n",
       "        vertical-align: middle;\n",
       "    }\n",
       "\n",
       "    .dataframe tbody tr th {\n",
       "        vertical-align: top;\n",
       "    }\n",
       "\n",
       "    .dataframe thead th {\n",
       "        text-align: right;\n",
       "    }\n",
       "</style>\n",
       "<table border=\"1\" class=\"dataframe\">\n",
       "  <thead>\n",
       "    <tr style=\"text-align: right;\">\n",
       "      <th></th>\n",
       "      <th>Time</th>\n",
       "      <th>V1</th>\n",
       "      <th>V2</th>\n",
       "      <th>V3</th>\n",
       "      <th>V4</th>\n",
       "      <th>V5</th>\n",
       "      <th>V6</th>\n",
       "      <th>V7</th>\n",
       "      <th>V8</th>\n",
       "      <th>V9</th>\n",
       "      <th>...</th>\n",
       "      <th>V21</th>\n",
       "      <th>V22</th>\n",
       "      <th>V23</th>\n",
       "      <th>V24</th>\n",
       "      <th>V25</th>\n",
       "      <th>V26</th>\n",
       "      <th>V27</th>\n",
       "      <th>V28</th>\n",
       "      <th>Amount</th>\n",
       "      <th>Class</th>\n",
       "    </tr>\n",
       "  </thead>\n",
       "  <tbody>\n",
       "    <tr>\n",
       "      <th>0</th>\n",
       "      <td>38355.0</td>\n",
       "      <td>1.043949</td>\n",
       "      <td>0.318555</td>\n",
       "      <td>1.045810</td>\n",
       "      <td>2.805989</td>\n",
       "      <td>-0.561113</td>\n",
       "      <td>-0.367956</td>\n",
       "      <td>0.032736</td>\n",
       "      <td>-0.042333</td>\n",
       "      <td>-0.322674</td>\n",
       "      <td>...</td>\n",
       "      <td>-0.240105</td>\n",
       "      <td>-0.680315</td>\n",
       "      <td>0.085328</td>\n",
       "      <td>0.684812</td>\n",
       "      <td>0.318620</td>\n",
       "      <td>-0.204963</td>\n",
       "      <td>0.001662</td>\n",
       "      <td>0.037894</td>\n",
       "      <td>49.67</td>\n",
       "      <td>0.0</td>\n",
       "    </tr>\n",
       "    <tr>\n",
       "      <th>1</th>\n",
       "      <td>22555.0</td>\n",
       "      <td>-1.665159</td>\n",
       "      <td>0.808440</td>\n",
       "      <td>1.805627</td>\n",
       "      <td>1.903416</td>\n",
       "      <td>-0.821627</td>\n",
       "      <td>0.934790</td>\n",
       "      <td>-0.824802</td>\n",
       "      <td>0.975890</td>\n",
       "      <td>1.747469</td>\n",
       "      <td>...</td>\n",
       "      <td>-0.335332</td>\n",
       "      <td>-0.510994</td>\n",
       "      <td>0.035839</td>\n",
       "      <td>0.147565</td>\n",
       "      <td>-0.529358</td>\n",
       "      <td>-0.566950</td>\n",
       "      <td>-0.595998</td>\n",
       "      <td>-0.220086</td>\n",
       "      <td>16.94</td>\n",
       "      <td>0.0</td>\n",
       "    </tr>\n",
       "    <tr>\n",
       "      <th>2</th>\n",
       "      <td>2431.0</td>\n",
       "      <td>-0.324096</td>\n",
       "      <td>0.601836</td>\n",
       "      <td>0.865329</td>\n",
       "      <td>-2.138000</td>\n",
       "      <td>0.294663</td>\n",
       "      <td>-1.251553</td>\n",
       "      <td>1.072114</td>\n",
       "      <td>-0.334896</td>\n",
       "      <td>1.071268</td>\n",
       "      <td>...</td>\n",
       "      <td>0.012220</td>\n",
       "      <td>0.352856</td>\n",
       "      <td>-0.341505</td>\n",
       "      <td>-0.145791</td>\n",
       "      <td>0.094194</td>\n",
       "      <td>-0.804026</td>\n",
       "      <td>0.229428</td>\n",
       "      <td>-0.021623</td>\n",
       "      <td>1.00</td>\n",
       "      <td>0.0</td>\n",
       "    </tr>\n",
       "    <tr>\n",
       "      <th>3</th>\n",
       "      <td>86773.0</td>\n",
       "      <td>-0.258270</td>\n",
       "      <td>1.217501</td>\n",
       "      <td>-0.585348</td>\n",
       "      <td>-0.875347</td>\n",
       "      <td>1.222481</td>\n",
       "      <td>-0.311027</td>\n",
       "      <td>1.073860</td>\n",
       "      <td>-0.161408</td>\n",
       "      <td>0.200665</td>\n",
       "      <td>...</td>\n",
       "      <td>-0.424626</td>\n",
       "      <td>-0.781158</td>\n",
       "      <td>0.019316</td>\n",
       "      <td>0.178614</td>\n",
       "      <td>-0.315616</td>\n",
       "      <td>0.096665</td>\n",
       "      <td>0.269740</td>\n",
       "      <td>-0.020635</td>\n",
       "      <td>10.78</td>\n",
       "      <td>0.0</td>\n",
       "    </tr>\n",
       "    <tr>\n",
       "      <th>4</th>\n",
       "      <td>127202.0</td>\n",
       "      <td>2.142162</td>\n",
       "      <td>-0.494988</td>\n",
       "      <td>-1.936511</td>\n",
       "      <td>-0.818288</td>\n",
       "      <td>-0.025213</td>\n",
       "      <td>-1.027245</td>\n",
       "      <td>-0.151627</td>\n",
       "      <td>-0.305750</td>\n",
       "      <td>-0.869482</td>\n",
       "      <td>...</td>\n",
       "      <td>0.010115</td>\n",
       "      <td>0.021722</td>\n",
       "      <td>0.079463</td>\n",
       "      <td>-0.480899</td>\n",
       "      <td>0.023846</td>\n",
       "      <td>-0.279076</td>\n",
       "      <td>-0.030121</td>\n",
       "      <td>-0.043888</td>\n",
       "      <td>39.96</td>\n",
       "      <td>0.0</td>\n",
       "    </tr>\n",
       "  </tbody>\n",
       "</table>\n",
       "<p>5 rows × 31 columns</p>\n",
       "</div>"
      ],
      "text/plain": [
       "       Time        V1        V2        V3        V4        V5        V6  \\\n",
       "0   38355.0  1.043949  0.318555  1.045810  2.805989 -0.561113 -0.367956   \n",
       "1   22555.0 -1.665159  0.808440  1.805627  1.903416 -0.821627  0.934790   \n",
       "2    2431.0 -0.324096  0.601836  0.865329 -2.138000  0.294663 -1.251553   \n",
       "3   86773.0 -0.258270  1.217501 -0.585348 -0.875347  1.222481 -0.311027   \n",
       "4  127202.0  2.142162 -0.494988 -1.936511 -0.818288 -0.025213 -1.027245   \n",
       "\n",
       "         V7        V8        V9  ...       V21       V22       V23       V24  \\\n",
       "0  0.032736 -0.042333 -0.322674  ... -0.240105 -0.680315  0.085328  0.684812   \n",
       "1 -0.824802  0.975890  1.747469  ... -0.335332 -0.510994  0.035839  0.147565   \n",
       "2  1.072114 -0.334896  1.071268  ...  0.012220  0.352856 -0.341505 -0.145791   \n",
       "3  1.073860 -0.161408  0.200665  ... -0.424626 -0.781158  0.019316  0.178614   \n",
       "4 -0.151627 -0.305750 -0.869482  ...  0.010115  0.021722  0.079463 -0.480899   \n",
       "\n",
       "        V25       V26       V27       V28  Amount  Class  \n",
       "0  0.318620 -0.204963  0.001662  0.037894   49.67    0.0  \n",
       "1 -0.529358 -0.566950 -0.595998 -0.220086   16.94    0.0  \n",
       "2  0.094194 -0.804026  0.229428 -0.021623    1.00    0.0  \n",
       "3 -0.315616  0.096665  0.269740 -0.020635   10.78    0.0  \n",
       "4  0.023846 -0.279076 -0.030121 -0.043888   39.96    0.0  \n",
       "\n",
       "[5 rows x 31 columns]"
      ]
     },
     "execution_count": 6,
     "metadata": {},
     "output_type": "execute_result"
    }
   ],
   "source": [
    "df_train.head(5)"
   ]
  },
  {
   "cell_type": "code",
   "execution_count": 7,
   "metadata": {},
   "outputs": [
    {
     "data": {
      "text/html": [
       "<div>\n",
       "<style scoped>\n",
       "    .dataframe tbody tr th:only-of-type {\n",
       "        vertical-align: middle;\n",
       "    }\n",
       "\n",
       "    .dataframe tbody tr th {\n",
       "        vertical-align: top;\n",
       "    }\n",
       "\n",
       "    .dataframe thead th {\n",
       "        text-align: right;\n",
       "    }\n",
       "</style>\n",
       "<table border=\"1\" class=\"dataframe\">\n",
       "  <thead>\n",
       "    <tr style=\"text-align: right;\">\n",
       "      <th></th>\n",
       "      <th>Time</th>\n",
       "      <th>V1</th>\n",
       "      <th>V2</th>\n",
       "      <th>V3</th>\n",
       "      <th>V4</th>\n",
       "      <th>V5</th>\n",
       "      <th>V6</th>\n",
       "      <th>V7</th>\n",
       "      <th>V8</th>\n",
       "      <th>V9</th>\n",
       "      <th>...</th>\n",
       "      <th>V21</th>\n",
       "      <th>V22</th>\n",
       "      <th>V23</th>\n",
       "      <th>V24</th>\n",
       "      <th>V25</th>\n",
       "      <th>V26</th>\n",
       "      <th>V27</th>\n",
       "      <th>V28</th>\n",
       "      <th>Amount</th>\n",
       "      <th>Class</th>\n",
       "    </tr>\n",
       "  </thead>\n",
       "  <tbody>\n",
       "    <tr>\n",
       "      <th>0</th>\n",
       "      <td>113050.0</td>\n",
       "      <td>0.114697</td>\n",
       "      <td>0.796303</td>\n",
       "      <td>-0.149553</td>\n",
       "      <td>-0.823011</td>\n",
       "      <td>0.878763</td>\n",
       "      <td>-0.553152</td>\n",
       "      <td>0.939259</td>\n",
       "      <td>-0.108502</td>\n",
       "      <td>0.111137</td>\n",
       "      <td>...</td>\n",
       "      <td>-0.335776</td>\n",
       "      <td>-0.807853</td>\n",
       "      <td>-0.055940</td>\n",
       "      <td>-1.025281</td>\n",
       "      <td>-0.369557</td>\n",
       "      <td>0.204653</td>\n",
       "      <td>0.242724</td>\n",
       "      <td>0.085713</td>\n",
       "      <td>0.89</td>\n",
       "      <td>0.0</td>\n",
       "    </tr>\n",
       "    <tr>\n",
       "      <th>1</th>\n",
       "      <td>26667.0</td>\n",
       "      <td>-0.039318</td>\n",
       "      <td>0.495784</td>\n",
       "      <td>-0.810884</td>\n",
       "      <td>0.546693</td>\n",
       "      <td>1.986257</td>\n",
       "      <td>4.386342</td>\n",
       "      <td>-1.344891</td>\n",
       "      <td>-1.743736</td>\n",
       "      <td>-0.563103</td>\n",
       "      <td>...</td>\n",
       "      <td>-1.377003</td>\n",
       "      <td>-0.072200</td>\n",
       "      <td>-0.197573</td>\n",
       "      <td>1.014807</td>\n",
       "      <td>1.011293</td>\n",
       "      <td>-0.167684</td>\n",
       "      <td>0.113136</td>\n",
       "      <td>0.256836</td>\n",
       "      <td>85.00</td>\n",
       "      <td>0.0</td>\n",
       "    </tr>\n",
       "    <tr>\n",
       "      <th>2</th>\n",
       "      <td>159519.0</td>\n",
       "      <td>2.275706</td>\n",
       "      <td>-1.531508</td>\n",
       "      <td>-1.021969</td>\n",
       "      <td>-1.602152</td>\n",
       "      <td>-1.220329</td>\n",
       "      <td>-0.462376</td>\n",
       "      <td>-1.196485</td>\n",
       "      <td>-0.147058</td>\n",
       "      <td>-0.950224</td>\n",
       "      <td>...</td>\n",
       "      <td>-0.193271</td>\n",
       "      <td>-0.103533</td>\n",
       "      <td>0.150945</td>\n",
       "      <td>-0.811083</td>\n",
       "      <td>-0.197913</td>\n",
       "      <td>-0.128446</td>\n",
       "      <td>0.014197</td>\n",
       "      <td>-0.051289</td>\n",
       "      <td>42.70</td>\n",
       "      <td>0.0</td>\n",
       "    </tr>\n",
       "    <tr>\n",
       "      <th>3</th>\n",
       "      <td>137545.0</td>\n",
       "      <td>1.940137</td>\n",
       "      <td>-0.357671</td>\n",
       "      <td>-1.210551</td>\n",
       "      <td>0.382523</td>\n",
       "      <td>0.050823</td>\n",
       "      <td>-0.171322</td>\n",
       "      <td>-0.109124</td>\n",
       "      <td>-0.002115</td>\n",
       "      <td>0.869258</td>\n",
       "      <td>...</td>\n",
       "      <td>0.157994</td>\n",
       "      <td>0.650355</td>\n",
       "      <td>0.034206</td>\n",
       "      <td>0.739535</td>\n",
       "      <td>0.223605</td>\n",
       "      <td>-0.195509</td>\n",
       "      <td>-0.012791</td>\n",
       "      <td>-0.056841</td>\n",
       "      <td>29.99</td>\n",
       "      <td>0.0</td>\n",
       "    </tr>\n",
       "    <tr>\n",
       "      <th>4</th>\n",
       "      <td>63369.0</td>\n",
       "      <td>1.081395</td>\n",
       "      <td>-0.502615</td>\n",
       "      <td>1.075887</td>\n",
       "      <td>-0.543359</td>\n",
       "      <td>-1.472946</td>\n",
       "      <td>-1.065484</td>\n",
       "      <td>-0.443231</td>\n",
       "      <td>-0.143374</td>\n",
       "      <td>1.659826</td>\n",
       "      <td>...</td>\n",
       "      <td>0.224157</td>\n",
       "      <td>0.821209</td>\n",
       "      <td>-0.137223</td>\n",
       "      <td>0.986259</td>\n",
       "      <td>0.563228</td>\n",
       "      <td>-0.574206</td>\n",
       "      <td>0.089673</td>\n",
       "      <td>0.052036</td>\n",
       "      <td>68.00</td>\n",
       "      <td>0.0</td>\n",
       "    </tr>\n",
       "  </tbody>\n",
       "</table>\n",
       "<p>5 rows × 31 columns</p>\n",
       "</div>"
      ],
      "text/plain": [
       "       Time        V1        V2        V3        V4        V5        V6  \\\n",
       "0  113050.0  0.114697  0.796303 -0.149553 -0.823011  0.878763 -0.553152   \n",
       "1   26667.0 -0.039318  0.495784 -0.810884  0.546693  1.986257  4.386342   \n",
       "2  159519.0  2.275706 -1.531508 -1.021969 -1.602152 -1.220329 -0.462376   \n",
       "3  137545.0  1.940137 -0.357671 -1.210551  0.382523  0.050823 -0.171322   \n",
       "4   63369.0  1.081395 -0.502615  1.075887 -0.543359 -1.472946 -1.065484   \n",
       "\n",
       "         V7        V8        V9  ...       V21       V22       V23       V24  \\\n",
       "0  0.939259 -0.108502  0.111137  ... -0.335776 -0.807853 -0.055940 -1.025281   \n",
       "1 -1.344891 -1.743736 -0.563103  ... -1.377003 -0.072200 -0.197573  1.014807   \n",
       "2 -1.196485 -0.147058 -0.950224  ... -0.193271 -0.103533  0.150945 -0.811083   \n",
       "3 -0.109124 -0.002115  0.869258  ...  0.157994  0.650355  0.034206  0.739535   \n",
       "4 -0.443231 -0.143374  1.659826  ...  0.224157  0.821209 -0.137223  0.986259   \n",
       "\n",
       "        V25       V26       V27       V28  Amount  Class  \n",
       "0 -0.369557  0.204653  0.242724  0.085713    0.89    0.0  \n",
       "1  1.011293 -0.167684  0.113136  0.256836   85.00    0.0  \n",
       "2 -0.197913 -0.128446  0.014197 -0.051289   42.70    0.0  \n",
       "3  0.223605 -0.195509 -0.012791 -0.056841   29.99    0.0  \n",
       "4  0.563228 -0.574206  0.089673  0.052036   68.00    0.0  \n",
       "\n",
       "[5 rows x 31 columns]"
      ]
     },
     "execution_count": 7,
     "metadata": {},
     "output_type": "execute_result"
    }
   ],
   "source": [
    "df_test.head(5)"
   ]
  },
  {
   "cell_type": "code",
   "execution_count": 8,
   "metadata": {},
   "outputs": [
    {
     "name": "stdout",
     "output_type": "stream",
     "text": [
      "number of duplicate train rows:  (45, 31)\n"
     ]
    }
   ],
   "source": [
    "# Rows containing train duplicate data\n",
    "duplicate_rows_df_train = df_train[df_train.duplicated()]\n",
    "print(\"number of duplicate train rows: \", duplicate_rows_df_train.shape)"
   ]
  },
  {
   "cell_type": "code",
   "execution_count": 9,
   "metadata": {
    "scrolled": true
   },
   "outputs": [
    {
     "name": "stdout",
     "output_type": "stream",
     "text": [
      "number of duplicate test rows:  (35, 31)\n"
     ]
    }
   ],
   "source": [
    "# Rows containing test duplicate data\n",
    "duplicate_rows_df_train = df_test[df_test.duplicated()]\n",
    "print(\"number of duplicate test rows: \", duplicate_rows_df_train.shape)"
   ]
  },
  {
   "cell_type": "code",
   "execution_count": 10,
   "metadata": {},
   "outputs": [],
   "source": [
    "# Remove duplicate entires\n",
    "df_train = df_train.drop_duplicates()\n",
    "df_test = df_test.drop_duplicates()"
   ]
  },
  {
   "cell_type": "code",
   "execution_count": 11,
   "metadata": {
    "scrolled": true
   },
   "outputs": [
    {
     "name": "stdout",
     "output_type": "stream",
     "text": [
      "(49775, 31)\n",
      "(51696, 31)\n"
     ]
    }
   ],
   "source": [
    "print(df_train.shape)\n",
    "print(df_test.shape)"
   ]
  },
  {
   "cell_type": "markdown",
   "metadata": {},
   "source": [
    "#### 1.a Check all the latent features and parameters with their mean and standard deviation. Value are close to 0 centered (mean)"
   ]
  },
  {
   "cell_type": "code",
   "execution_count": 12,
   "metadata": {},
   "outputs": [
    {
     "data": {
      "text/html": [
       "<div>\n",
       "<style scoped>\n",
       "    .dataframe tbody tr th:only-of-type {\n",
       "        vertical-align: middle;\n",
       "    }\n",
       "\n",
       "    .dataframe tbody tr th {\n",
       "        vertical-align: top;\n",
       "    }\n",
       "\n",
       "    .dataframe thead th {\n",
       "        text-align: right;\n",
       "    }\n",
       "</style>\n",
       "<table border=\"1\" class=\"dataframe\">\n",
       "  <thead>\n",
       "    <tr style=\"text-align: right;\">\n",
       "      <th></th>\n",
       "      <th>count</th>\n",
       "      <th>mean</th>\n",
       "      <th>std</th>\n",
       "      <th>min</th>\n",
       "      <th>25%</th>\n",
       "      <th>50%</th>\n",
       "      <th>75%</th>\n",
       "      <th>max</th>\n",
       "    </tr>\n",
       "  </thead>\n",
       "  <tbody>\n",
       "    <tr>\n",
       "      <th>Time</th>\n",
       "      <td>49775.0</td>\n",
       "      <td>94982.460593</td>\n",
       "      <td>47587.599737</td>\n",
       "      <td>1.000000</td>\n",
       "      <td>54272.500000</td>\n",
       "      <td>84999.000000</td>\n",
       "      <td>139695.500000</td>\n",
       "      <td>172788.000000</td>\n",
       "    </tr>\n",
       "    <tr>\n",
       "      <th>V1</th>\n",
       "      <td>49775.0</td>\n",
       "      <td>-0.018686</td>\n",
       "      <td>2.011125</td>\n",
       "      <td>-46.855047</td>\n",
       "      <td>-0.926589</td>\n",
       "      <td>0.003073</td>\n",
       "      <td>1.316281</td>\n",
       "      <td>2.406284</td>\n",
       "    </tr>\n",
       "    <tr>\n",
       "      <th>V2</th>\n",
       "      <td>49775.0</td>\n",
       "      <td>-0.011404</td>\n",
       "      <td>1.709330</td>\n",
       "      <td>-63.344698</td>\n",
       "      <td>-0.606529</td>\n",
       "      <td>0.057337</td>\n",
       "      <td>0.805030</td>\n",
       "      <td>22.057729</td>\n",
       "    </tr>\n",
       "    <tr>\n",
       "      <th>V3</th>\n",
       "      <td>49775.0</td>\n",
       "      <td>-0.005354</td>\n",
       "      <td>1.548371</td>\n",
       "      <td>-31.813586</td>\n",
       "      <td>-0.889742</td>\n",
       "      <td>0.176664</td>\n",
       "      <td>1.032670</td>\n",
       "      <td>4.029428</td>\n",
       "    </tr>\n",
       "    <tr>\n",
       "      <th>V4</th>\n",
       "      <td>49775.0</td>\n",
       "      <td>0.004637</td>\n",
       "      <td>1.432208</td>\n",
       "      <td>-5.416315</td>\n",
       "      <td>-0.857632</td>\n",
       "      <td>-0.017937</td>\n",
       "      <td>0.751129</td>\n",
       "      <td>16.715537</td>\n",
       "    </tr>\n",
       "    <tr>\n",
       "      <th>V5</th>\n",
       "      <td>49775.0</td>\n",
       "      <td>-0.008664</td>\n",
       "      <td>1.382881</td>\n",
       "      <td>-42.147898</td>\n",
       "      <td>-0.701238</td>\n",
       "      <td>-0.062255</td>\n",
       "      <td>0.599577</td>\n",
       "      <td>29.162172</td>\n",
       "    </tr>\n",
       "    <tr>\n",
       "      <th>V6</th>\n",
       "      <td>49775.0</td>\n",
       "      <td>0.006113</td>\n",
       "      <td>1.330202</td>\n",
       "      <td>-20.367836</td>\n",
       "      <td>-0.767659</td>\n",
       "      <td>-0.272083</td>\n",
       "      <td>0.405894</td>\n",
       "      <td>22.529298</td>\n",
       "    </tr>\n",
       "    <tr>\n",
       "      <th>V7</th>\n",
       "      <td>49775.0</td>\n",
       "      <td>-0.008490</td>\n",
       "      <td>1.253202</td>\n",
       "      <td>-43.557242</td>\n",
       "      <td>-0.562308</td>\n",
       "      <td>0.033625</td>\n",
       "      <td>0.564746</td>\n",
       "      <td>36.677268</td>\n",
       "    </tr>\n",
       "    <tr>\n",
       "      <th>V8</th>\n",
       "      <td>49775.0</td>\n",
       "      <td>0.002226</td>\n",
       "      <td>1.249907</td>\n",
       "      <td>-73.216718</td>\n",
       "      <td>-0.207571</td>\n",
       "      <td>0.024914</td>\n",
       "      <td>0.333363</td>\n",
       "      <td>17.941363</td>\n",
       "    </tr>\n",
       "    <tr>\n",
       "      <th>V9</th>\n",
       "      <td>49775.0</td>\n",
       "      <td>0.000042</td>\n",
       "      <td>1.114440</td>\n",
       "      <td>-13.320155</td>\n",
       "      <td>-0.654103</td>\n",
       "      <td>-0.052561</td>\n",
       "      <td>0.603923</td>\n",
       "      <td>10.392889</td>\n",
       "    </tr>\n",
       "    <tr>\n",
       "      <th>V10</th>\n",
       "      <td>49775.0</td>\n",
       "      <td>0.005836</td>\n",
       "      <td>1.113380</td>\n",
       "      <td>-24.588262</td>\n",
       "      <td>-0.534055</td>\n",
       "      <td>-0.086150</td>\n",
       "      <td>0.464591</td>\n",
       "      <td>13.727347</td>\n",
       "    </tr>\n",
       "    <tr>\n",
       "      <th>V11</th>\n",
       "      <td>49775.0</td>\n",
       "      <td>0.002042</td>\n",
       "      <td>1.027091</td>\n",
       "      <td>-4.682931</td>\n",
       "      <td>-0.762247</td>\n",
       "      <td>-0.033749</td>\n",
       "      <td>0.741759</td>\n",
       "      <td>11.669205</td>\n",
       "    </tr>\n",
       "    <tr>\n",
       "      <th>V12</th>\n",
       "      <td>49775.0</td>\n",
       "      <td>-0.010736</td>\n",
       "      <td>1.021204</td>\n",
       "      <td>-18.683715</td>\n",
       "      <td>-0.417415</td>\n",
       "      <td>0.132749</td>\n",
       "      <td>0.611540</td>\n",
       "      <td>7.848392</td>\n",
       "    </tr>\n",
       "    <tr>\n",
       "      <th>V13</th>\n",
       "      <td>49775.0</td>\n",
       "      <td>-0.003147</td>\n",
       "      <td>0.998782</td>\n",
       "      <td>-5.791881</td>\n",
       "      <td>-0.658109</td>\n",
       "      <td>-0.016266</td>\n",
       "      <td>0.655738</td>\n",
       "      <td>4.369998</td>\n",
       "    </tr>\n",
       "    <tr>\n",
       "      <th>V14</th>\n",
       "      <td>49775.0</td>\n",
       "      <td>0.002653</td>\n",
       "      <td>0.984984</td>\n",
       "      <td>-18.493773</td>\n",
       "      <td>-0.419780</td>\n",
       "      <td>0.053819</td>\n",
       "      <td>0.497331</td>\n",
       "      <td>10.526766</td>\n",
       "    </tr>\n",
       "    <tr>\n",
       "      <th>V15</th>\n",
       "      <td>49775.0</td>\n",
       "      <td>-0.000766</td>\n",
       "      <td>0.915765</td>\n",
       "      <td>-4.196620</td>\n",
       "      <td>-0.577175</td>\n",
       "      <td>0.051339</td>\n",
       "      <td>0.649315</td>\n",
       "      <td>5.825654</td>\n",
       "    </tr>\n",
       "    <tr>\n",
       "      <th>V16</th>\n",
       "      <td>49775.0</td>\n",
       "      <td>0.002511</td>\n",
       "      <td>0.892291</td>\n",
       "      <td>-13.256833</td>\n",
       "      <td>-0.463774</td>\n",
       "      <td>0.068545</td>\n",
       "      <td>0.530814</td>\n",
       "      <td>6.351853</td>\n",
       "    </tr>\n",
       "    <tr>\n",
       "      <th>V17</th>\n",
       "      <td>49775.0</td>\n",
       "      <td>-0.003582</td>\n",
       "      <td>0.883525</td>\n",
       "      <td>-22.883999</td>\n",
       "      <td>-0.483061</td>\n",
       "      <td>-0.065740</td>\n",
       "      <td>0.401597</td>\n",
       "      <td>7.611862</td>\n",
       "    </tr>\n",
       "    <tr>\n",
       "      <th>V18</th>\n",
       "      <td>49775.0</td>\n",
       "      <td>0.003795</td>\n",
       "      <td>0.843381</td>\n",
       "      <td>-9.287832</td>\n",
       "      <td>-0.495987</td>\n",
       "      <td>0.005211</td>\n",
       "      <td>0.510037</td>\n",
       "      <td>5.041069</td>\n",
       "    </tr>\n",
       "    <tr>\n",
       "      <th>V19</th>\n",
       "      <td>49775.0</td>\n",
       "      <td>0.002435</td>\n",
       "      <td>0.814511</td>\n",
       "      <td>-7.213527</td>\n",
       "      <td>-0.455023</td>\n",
       "      <td>0.008069</td>\n",
       "      <td>0.460578</td>\n",
       "      <td>4.891062</td>\n",
       "    </tr>\n",
       "    <tr>\n",
       "      <th>V20</th>\n",
       "      <td>49775.0</td>\n",
       "      <td>0.000897</td>\n",
       "      <td>0.803862</td>\n",
       "      <td>-25.222345</td>\n",
       "      <td>-0.211995</td>\n",
       "      <td>-0.061712</td>\n",
       "      <td>0.134693</td>\n",
       "      <td>39.420904</td>\n",
       "    </tr>\n",
       "    <tr>\n",
       "      <th>V21</th>\n",
       "      <td>49775.0</td>\n",
       "      <td>-0.000538</td>\n",
       "      <td>0.770270</td>\n",
       "      <td>-34.830382</td>\n",
       "      <td>-0.227635</td>\n",
       "      <td>-0.027866</td>\n",
       "      <td>0.186964</td>\n",
       "      <td>27.202839</td>\n",
       "    </tr>\n",
       "    <tr>\n",
       "      <th>V22</th>\n",
       "      <td>49775.0</td>\n",
       "      <td>0.002759</td>\n",
       "      <td>0.729673</td>\n",
       "      <td>-10.933144</td>\n",
       "      <td>-0.541486</td>\n",
       "      <td>0.009736</td>\n",
       "      <td>0.532538</td>\n",
       "      <td>10.503090</td>\n",
       "    </tr>\n",
       "    <tr>\n",
       "      <th>V23</th>\n",
       "      <td>49775.0</td>\n",
       "      <td>-0.003600</td>\n",
       "      <td>0.660129</td>\n",
       "      <td>-44.807735</td>\n",
       "      <td>-0.164045</td>\n",
       "      <td>-0.010882</td>\n",
       "      <td>0.149255</td>\n",
       "      <td>13.944567</td>\n",
       "    </tr>\n",
       "    <tr>\n",
       "      <th>V24</th>\n",
       "      <td>49775.0</td>\n",
       "      <td>0.002617</td>\n",
       "      <td>0.602102</td>\n",
       "      <td>-2.790479</td>\n",
       "      <td>-0.351048</td>\n",
       "      <td>0.042591</td>\n",
       "      <td>0.440542</td>\n",
       "      <td>4.022866</td>\n",
       "    </tr>\n",
       "    <tr>\n",
       "      <th>V25</th>\n",
       "      <td>49774.0</td>\n",
       "      <td>-0.002312</td>\n",
       "      <td>0.521638</td>\n",
       "      <td>-10.295397</td>\n",
       "      <td>-0.319345</td>\n",
       "      <td>0.012377</td>\n",
       "      <td>0.347896</td>\n",
       "      <td>4.032572</td>\n",
       "    </tr>\n",
       "    <tr>\n",
       "      <th>V26</th>\n",
       "      <td>49774.0</td>\n",
       "      <td>-0.000412</td>\n",
       "      <td>0.481761</td>\n",
       "      <td>-2.534330</td>\n",
       "      <td>-0.327176</td>\n",
       "      <td>-0.052539</td>\n",
       "      <td>0.241244</td>\n",
       "      <td>3.463246</td>\n",
       "    </tr>\n",
       "    <tr>\n",
       "      <th>V27</th>\n",
       "      <td>49774.0</td>\n",
       "      <td>0.004313</td>\n",
       "      <td>0.395197</td>\n",
       "      <td>-9.543518</td>\n",
       "      <td>-0.071368</td>\n",
       "      <td>0.001224</td>\n",
       "      <td>0.092245</td>\n",
       "      <td>11.135740</td>\n",
       "    </tr>\n",
       "    <tr>\n",
       "      <th>V28</th>\n",
       "      <td>49774.0</td>\n",
       "      <td>0.000452</td>\n",
       "      <td>0.336381</td>\n",
       "      <td>-9.617915</td>\n",
       "      <td>-0.053209</td>\n",
       "      <td>0.011160</td>\n",
       "      <td>0.078886</td>\n",
       "      <td>15.870474</td>\n",
       "    </tr>\n",
       "    <tr>\n",
       "      <th>Amount</th>\n",
       "      <td>49774.0</td>\n",
       "      <td>90.271051</td>\n",
       "      <td>258.760090</td>\n",
       "      <td>0.000000</td>\n",
       "      <td>5.900000</td>\n",
       "      <td>22.000000</td>\n",
       "      <td>78.395000</td>\n",
       "      <td>19656.530000</td>\n",
       "    </tr>\n",
       "    <tr>\n",
       "      <th>Class</th>\n",
       "      <td>49774.0</td>\n",
       "      <td>0.001728</td>\n",
       "      <td>0.041531</td>\n",
       "      <td>0.000000</td>\n",
       "      <td>0.000000</td>\n",
       "      <td>0.000000</td>\n",
       "      <td>0.000000</td>\n",
       "      <td>1.000000</td>\n",
       "    </tr>\n",
       "  </tbody>\n",
       "</table>\n",
       "</div>"
      ],
      "text/plain": [
       "          count          mean           std        min           25%  \\\n",
       "Time    49775.0  94982.460593  47587.599737   1.000000  54272.500000   \n",
       "V1      49775.0     -0.018686      2.011125 -46.855047     -0.926589   \n",
       "V2      49775.0     -0.011404      1.709330 -63.344698     -0.606529   \n",
       "V3      49775.0     -0.005354      1.548371 -31.813586     -0.889742   \n",
       "V4      49775.0      0.004637      1.432208  -5.416315     -0.857632   \n",
       "V5      49775.0     -0.008664      1.382881 -42.147898     -0.701238   \n",
       "V6      49775.0      0.006113      1.330202 -20.367836     -0.767659   \n",
       "V7      49775.0     -0.008490      1.253202 -43.557242     -0.562308   \n",
       "V8      49775.0      0.002226      1.249907 -73.216718     -0.207571   \n",
       "V9      49775.0      0.000042      1.114440 -13.320155     -0.654103   \n",
       "V10     49775.0      0.005836      1.113380 -24.588262     -0.534055   \n",
       "V11     49775.0      0.002042      1.027091  -4.682931     -0.762247   \n",
       "V12     49775.0     -0.010736      1.021204 -18.683715     -0.417415   \n",
       "V13     49775.0     -0.003147      0.998782  -5.791881     -0.658109   \n",
       "V14     49775.0      0.002653      0.984984 -18.493773     -0.419780   \n",
       "V15     49775.0     -0.000766      0.915765  -4.196620     -0.577175   \n",
       "V16     49775.0      0.002511      0.892291 -13.256833     -0.463774   \n",
       "V17     49775.0     -0.003582      0.883525 -22.883999     -0.483061   \n",
       "V18     49775.0      0.003795      0.843381  -9.287832     -0.495987   \n",
       "V19     49775.0      0.002435      0.814511  -7.213527     -0.455023   \n",
       "V20     49775.0      0.000897      0.803862 -25.222345     -0.211995   \n",
       "V21     49775.0     -0.000538      0.770270 -34.830382     -0.227635   \n",
       "V22     49775.0      0.002759      0.729673 -10.933144     -0.541486   \n",
       "V23     49775.0     -0.003600      0.660129 -44.807735     -0.164045   \n",
       "V24     49775.0      0.002617      0.602102  -2.790479     -0.351048   \n",
       "V25     49774.0     -0.002312      0.521638 -10.295397     -0.319345   \n",
       "V26     49774.0     -0.000412      0.481761  -2.534330     -0.327176   \n",
       "V27     49774.0      0.004313      0.395197  -9.543518     -0.071368   \n",
       "V28     49774.0      0.000452      0.336381  -9.617915     -0.053209   \n",
       "Amount  49774.0     90.271051    258.760090   0.000000      5.900000   \n",
       "Class   49774.0      0.001728      0.041531   0.000000      0.000000   \n",
       "\n",
       "                 50%            75%            max  \n",
       "Time    84999.000000  139695.500000  172788.000000  \n",
       "V1          0.003073       1.316281       2.406284  \n",
       "V2          0.057337       0.805030      22.057729  \n",
       "V3          0.176664       1.032670       4.029428  \n",
       "V4         -0.017937       0.751129      16.715537  \n",
       "V5         -0.062255       0.599577      29.162172  \n",
       "V6         -0.272083       0.405894      22.529298  \n",
       "V7          0.033625       0.564746      36.677268  \n",
       "V8          0.024914       0.333363      17.941363  \n",
       "V9         -0.052561       0.603923      10.392889  \n",
       "V10        -0.086150       0.464591      13.727347  \n",
       "V11        -0.033749       0.741759      11.669205  \n",
       "V12         0.132749       0.611540       7.848392  \n",
       "V13        -0.016266       0.655738       4.369998  \n",
       "V14         0.053819       0.497331      10.526766  \n",
       "V15         0.051339       0.649315       5.825654  \n",
       "V16         0.068545       0.530814       6.351853  \n",
       "V17        -0.065740       0.401597       7.611862  \n",
       "V18         0.005211       0.510037       5.041069  \n",
       "V19         0.008069       0.460578       4.891062  \n",
       "V20        -0.061712       0.134693      39.420904  \n",
       "V21        -0.027866       0.186964      27.202839  \n",
       "V22         0.009736       0.532538      10.503090  \n",
       "V23        -0.010882       0.149255      13.944567  \n",
       "V24         0.042591       0.440542       4.022866  \n",
       "V25         0.012377       0.347896       4.032572  \n",
       "V26        -0.052539       0.241244       3.463246  \n",
       "V27         0.001224       0.092245      11.135740  \n",
       "V28         0.011160       0.078886      15.870474  \n",
       "Amount     22.000000      78.395000   19656.530000  \n",
       "Class       0.000000       0.000000       1.000000  "
      ]
     },
     "execution_count": 12,
     "metadata": {},
     "output_type": "execute_result"
    }
   ],
   "source": [
    "df_train.describe().T"
   ]
  },
  {
   "cell_type": "markdown",
   "metadata": {},
   "source": [
    "#### 1.b Find if there is any connection between Time, Amount, and the transaction being fraudulent."
   ]
  },
  {
   "cell_type": "code",
   "execution_count": 13,
   "metadata": {},
   "outputs": [
    {
     "name": "stderr",
     "output_type": "stream",
     "text": [
      "/usr/local/lib/python3.7/site-packages/seaborn/distributions.py:2557: FutureWarning: `distplot` is a deprecated function and will be removed in a future version. Please adapt your code to use either `displot` (a figure-level function with similar flexibility) or `histplot` (an axes-level function for histograms).\n",
      "  warnings.warn(msg, FutureWarning)\n"
     ]
    },
    {
     "data": {
      "text/plain": [
       "<AxesSubplot:title={'center':'Time ditributions'}, xlabel='Time', ylabel='Density'>"
      ]
     },
     "execution_count": 13,
     "metadata": {},
     "output_type": "execute_result"
    },
    {
     "data": {
      "image/png": "[encoded data removed]",
      "text/plain": [
       "<Figure size 720x576 with 1 Axes>"
      ]
     },
     "metadata": {
      "needs_background": "light"
     },
     "output_type": "display_data"
    }
   ],
   "source": [
    "# visualizations of time\n",
    "plt.figure(figsize=(10,8))\n",
    "plt.title(\"Time ditributions\")\n",
    "sns.distplot(df_train.Time)"
   ]
  },
  {
   "cell_type": "code",
   "execution_count": 14,
   "metadata": {},
   "outputs": [
    {
     "name": "stdout",
     "output_type": "stream",
     "text": [
      "0.0002777777777777778\n",
      "47.99666666666667\n"
     ]
    }
   ],
   "source": [
    "# The time inseconds need to converts\n",
    "df_train['Time'] = df_train['Time'] / 3600\n",
    "# df_train_original['Time'] = df_train_original['Time'] / 24\n",
    "print(df_train['Time'].min())\n",
    "print(df_train['Time'].max())"
   ]
  },
  {
   "cell_type": "code",
   "execution_count": 15,
   "metadata": {},
   "outputs": [
    {
     "name": "stderr",
     "output_type": "stream",
     "text": [
      "/usr/local/lib/python3.7/site-packages/seaborn/distributions.py:2557: FutureWarning: `distplot` is a deprecated function and will be removed in a future version. Please adapt your code to use either `displot` (a figure-level function with similar flexibility) or `histplot` (an axes-level function for histograms).\n",
      "  warnings.warn(msg, FutureWarning)\n"
     ]
    },
    {
     "data": {
      "text/plain": [
       "Text(0.5, 1.0, 'Transaction Times')"
      ]
     },
     "execution_count": 15,
     "metadata": {},
     "output_type": "execute_result"
    },
    {
     "data": {
      "image/png": "[encoded data removed]",
      "text/plain": [
       "<Figure size 960x480 with 1 Axes>"
      ]
     },
     "metadata": {
      "needs_background": "light"
     },
     "output_type": "display_data"
    }
   ],
   "source": [
    "plt.figure(figsize=(12,6), dpi=80)\n",
    "sns.distplot(df_train.Time, bins=48)\n",
    "plt.xlim([0,48])\n",
    "plt.xticks(np.arange(0,54,6))\n",
    "plt.xlabel('Time ditributions in Hrs')\n",
    "plt.ylabel('Count')\n",
    "plt.title('Transaction Times')"
   ]
  },
  {
   "cell_type": "code",
   "execution_count": 16,
   "metadata": {},
   "outputs": [
    {
     "name": "stderr",
     "output_type": "stream",
     "text": [
      "/usr/local/lib/python3.7/site-packages/seaborn/distributions.py:2557: FutureWarning: `distplot` is a deprecated function and will be removed in a future version. Please adapt your code to use either `displot` (a figure-level function with similar flexibility) or `histplot` (an axes-level function for histograms).\n",
      "  warnings.warn(msg, FutureWarning)\n"
     ]
    },
    {
     "data": {
      "text/plain": [
       "<AxesSubplot:title={'center':'Time ditributions'}, xlabel='Amount', ylabel='Density'>"
      ]
     },
     "execution_count": 16,
     "metadata": {},
     "output_type": "execute_result"
    },
    {
     "data": {
      "image/png": "[encoded data removed]",
      "text/plain": [
       "<Figure size 720x576 with 1 Axes>"
      ]
     },
     "metadata": {
      "needs_background": "light"
     },
     "output_type": "display_data"
    }
   ],
   "source": [
    "# visualizations of amount\n",
    "plt.figure(figsize=(10,8))\n",
    "plt.title(\"Time ditributions\")\n",
    "sns.distplot(df_train.Amount)"
   ]
  },
  {
   "cell_type": "code",
   "execution_count": 17,
   "metadata": {},
   "outputs": [
    {
     "data": {
      "image/png": "[encoded data removed]",
      "text/plain": [
       "<Figure size 411.875x360 with 1 Axes>"
      ]
     },
     "metadata": {
      "needs_background": "light"
     },
     "output_type": "display_data"
    }
   ],
   "source": [
    "sns.relplot(x=\"Time\", y=\"Amount\", hue=\"Class\", data=df_train);"
   ]
  },
  {
   "cell_type": "code",
   "execution_count": 18,
   "metadata": {},
   "outputs": [
    {
     "data": {
      "image/png": "[encoded data removed]",
      "text/plain": [
       "<Figure size 720x360 with 2 Axes>"
      ]
     },
     "metadata": {
      "needs_background": "light"
     },
     "output_type": "display_data"
    }
   ],
   "source": [
    "sns.relplot(x=\"Time\", y=\"Amount\", col=\"Class\", data=df_train);"
   ]
  },
  {
   "cell_type": "markdown",
   "metadata": {},
   "source": [
    "####   2.Check the class count for each class. It’s a class Imbalance problem."
   ]
  },
  {
   "cell_type": "code",
   "execution_count": 19,
   "metadata": {},
   "outputs": [
    {
     "data": {
      "text/plain": [
       "0.0    49688\n",
       "1.0       86\n",
       "Name: Class, dtype: int64"
      ]
     },
     "execution_count": 19,
     "metadata": {},
     "output_type": "execute_result"
    }
   ],
   "source": [
    "df_train['Class'].value_counts()"
   ]
  },
  {
   "cell_type": "code",
   "execution_count": 20,
   "metadata": {},
   "outputs": [
    {
     "name": "stderr",
     "output_type": "stream",
     "text": [
      "/usr/local/lib/python3.7/site-packages/seaborn/_decorators.py:43: FutureWarning: Pass the following variable as a keyword arg: x. From version 0.12, the only valid positional argument will be `data`, and passing other arguments without an explicit keyword will result in an error or misinterpretation.\n",
      "  FutureWarning\n"
     ]
    },
    {
     "data": {
      "text/plain": [
       "<AxesSubplot:xlabel='Class', ylabel='count'>"
      ]
     },
     "execution_count": 20,
     "metadata": {},
     "output_type": "execute_result"
    },
    {
     "data": {
      "image/png": "[encoded data removed]",
      "text/plain": [
       "<Figure size 432x288 with 1 Axes>"
      ]
     },
     "metadata": {
      "needs_background": "light"
     },
     "output_type": "display_data"
    }
   ],
   "source": [
    "sns.countplot('Class', data=df_train)"
   ]
  },
  {
   "cell_type": "markdown",
   "metadata": {},
   "source": [
    "#### 3.Use techniques like undersampling or oversampling before running Naïve Bayes, Logistic Regression or SVM."
   ]
  },
  {
   "cell_type": "code",
   "execution_count": 21,
   "metadata": {},
   "outputs": [],
   "source": [
    "robust_scaler = RobustScaler()\n",
    "\n",
    "df_train['scaled_amount'] = robust_scaler.fit_transform(df_train['Amount'].values.reshape(-1,1))\n",
    "df_train['scaled_time'] = robust_scaler.fit_transform(df_train['Time'].values.reshape(-1,1))\n",
    "\n",
    "df_test['scaled_amount'] = robust_scaler.fit_transform(df_test['Amount'].values.reshape(-1,1))\n",
    "df_test['scaled_time'] = robust_scaler.fit_transform(df_test['Time'].values.reshape(-1,1))"
   ]
  },
  {
   "cell_type": "code",
   "execution_count": 22,
   "metadata": {},
   "outputs": [],
   "source": [
    "# Remove the Time,Amount \n",
    "df_train.drop(['Time','Amount'], axis=1, inplace=True)\n",
    "df_test.drop(['Time','Amount'], axis=1, inplace=True)"
   ]
  },
  {
   "cell_type": "code",
   "execution_count": 23,
   "metadata": {},
   "outputs": [],
   "source": [
    "df_train.dropna(inplace=True)\n",
    "df_test.dropna(inplace=True)"
   ]
  },
  {
   "cell_type": "code",
   "execution_count": 24,
   "metadata": {},
   "outputs": [],
   "source": [
    "y_train = df_train.pop('Class')\n",
    "X_train = df_train"
   ]
  },
  {
   "cell_type": "code",
   "execution_count": 25,
   "metadata": {},
   "outputs": [
    {
     "name": "stdout",
     "output_type": "stream",
     "text": [
      "(49774,)\n",
      "(49774, 30)\n"
     ]
    }
   ],
   "source": [
    "print(y_train.shape)\n",
    "print(X_train.shape)"
   ]
  },
  {
   "cell_type": "code",
   "execution_count": 26,
   "metadata": {},
   "outputs": [
    {
     "name": "stdout",
     "output_type": "stream",
     "text": [
      "(51695, 30)\n",
      "(51695,)\n"
     ]
    }
   ],
   "source": [
    "y_test = df_test.pop('Class')\n",
    "X_test = df_test\n",
    "print(X_test.shape)\n",
    "print(y_test.shape)"
   ]
  },
  {
   "cell_type": "code",
   "execution_count": 27,
   "metadata": {},
   "outputs": [
    {
     "data": {
      "text/html": [
       "<div>\n",
       "<style scoped>\n",
       "    .dataframe tbody tr th:only-of-type {\n",
       "        vertical-align: middle;\n",
       "    }\n",
       "\n",
       "    .dataframe tbody tr th {\n",
       "        vertical-align: top;\n",
       "    }\n",
       "\n",
       "    .dataframe thead th {\n",
       "        text-align: right;\n",
       "    }\n",
       "</style>\n",
       "<table border=\"1\" class=\"dataframe\">\n",
       "  <thead>\n",
       "    <tr style=\"text-align: right;\">\n",
       "      <th></th>\n",
       "      <th>count</th>\n",
       "      <th>mean</th>\n",
       "      <th>std</th>\n",
       "      <th>min</th>\n",
       "      <th>25%</th>\n",
       "      <th>50%</th>\n",
       "      <th>75%</th>\n",
       "      <th>max</th>\n",
       "    </tr>\n",
       "  </thead>\n",
       "  <tbody>\n",
       "    <tr>\n",
       "      <th>V1</th>\n",
       "      <td>49774.0</td>\n",
       "      <td>-0.018659</td>\n",
       "      <td>2.011137</td>\n",
       "      <td>-46.855047</td>\n",
       "      <td>-0.926545</td>\n",
       "      <td>0.003188</td>\n",
       "      <td>1.316292</td>\n",
       "      <td>2.406284</td>\n",
       "    </tr>\n",
       "    <tr>\n",
       "      <th>V2</th>\n",
       "      <td>49774.0</td>\n",
       "      <td>-0.011408</td>\n",
       "      <td>1.709347</td>\n",
       "      <td>-63.344698</td>\n",
       "      <td>-0.606529</td>\n",
       "      <td>0.057305</td>\n",
       "      <td>0.805040</td>\n",
       "      <td>22.057729</td>\n",
       "    </tr>\n",
       "    <tr>\n",
       "      <th>V3</th>\n",
       "      <td>49774.0</td>\n",
       "      <td>-0.005399</td>\n",
       "      <td>1.548354</td>\n",
       "      <td>-31.813586</td>\n",
       "      <td>-0.889746</td>\n",
       "      <td>0.176599</td>\n",
       "      <td>1.032617</td>\n",
       "      <td>4.029428</td>\n",
       "    </tr>\n",
       "    <tr>\n",
       "      <th>V4</th>\n",
       "      <td>49774.0</td>\n",
       "      <td>0.004657</td>\n",
       "      <td>1.432215</td>\n",
       "      <td>-5.416315</td>\n",
       "      <td>-0.857526</td>\n",
       "      <td>-0.017884</td>\n",
       "      <td>0.751157</td>\n",
       "      <td>16.715537</td>\n",
       "    </tr>\n",
       "    <tr>\n",
       "      <th>V5</th>\n",
       "      <td>49774.0</td>\n",
       "      <td>-0.008641</td>\n",
       "      <td>1.382885</td>\n",
       "      <td>-42.147898</td>\n",
       "      <td>-0.701170</td>\n",
       "      <td>-0.062236</td>\n",
       "      <td>0.599594</td>\n",
       "      <td>29.162172</td>\n",
       "    </tr>\n",
       "    <tr>\n",
       "      <th>V6</th>\n",
       "      <td>49774.0</td>\n",
       "      <td>0.006123</td>\n",
       "      <td>1.330214</td>\n",
       "      <td>-20.367836</td>\n",
       "      <td>-0.767667</td>\n",
       "      <td>-0.272063</td>\n",
       "      <td>0.405904</td>\n",
       "      <td>22.529298</td>\n",
       "    </tr>\n",
       "    <tr>\n",
       "      <th>V7</th>\n",
       "      <td>49774.0</td>\n",
       "      <td>-0.008480</td>\n",
       "      <td>1.253212</td>\n",
       "      <td>-43.557242</td>\n",
       "      <td>-0.562314</td>\n",
       "      <td>0.033627</td>\n",
       "      <td>0.564765</td>\n",
       "      <td>36.677268</td>\n",
       "    </tr>\n",
       "    <tr>\n",
       "      <th>V8</th>\n",
       "      <td>49774.0</td>\n",
       "      <td>0.002214</td>\n",
       "      <td>1.249916</td>\n",
       "      <td>-73.216718</td>\n",
       "      <td>-0.207577</td>\n",
       "      <td>0.024904</td>\n",
       "      <td>0.333330</td>\n",
       "      <td>17.941363</td>\n",
       "    </tr>\n",
       "    <tr>\n",
       "      <th>V9</th>\n",
       "      <td>49774.0</td>\n",
       "      <td>0.000063</td>\n",
       "      <td>1.114442</td>\n",
       "      <td>-13.320155</td>\n",
       "      <td>-0.654096</td>\n",
       "      <td>-0.052557</td>\n",
       "      <td>0.603927</td>\n",
       "      <td>10.392889</td>\n",
       "    </tr>\n",
       "    <tr>\n",
       "      <th>V10</th>\n",
       "      <td>49774.0</td>\n",
       "      <td>0.005840</td>\n",
       "      <td>1.113391</td>\n",
       "      <td>-24.588262</td>\n",
       "      <td>-0.534072</td>\n",
       "      <td>-0.086148</td>\n",
       "      <td>0.464616</td>\n",
       "      <td>13.727347</td>\n",
       "    </tr>\n",
       "    <tr>\n",
       "      <th>V11</th>\n",
       "      <td>49774.0</td>\n",
       "      <td>0.002065</td>\n",
       "      <td>1.027088</td>\n",
       "      <td>-4.682931</td>\n",
       "      <td>-0.762206</td>\n",
       "      <td>-0.033707</td>\n",
       "      <td>0.741792</td>\n",
       "      <td>11.669205</td>\n",
       "    </tr>\n",
       "    <tr>\n",
       "      <th>V12</th>\n",
       "      <td>49774.0</td>\n",
       "      <td>-0.010737</td>\n",
       "      <td>1.021214</td>\n",
       "      <td>-18.683715</td>\n",
       "      <td>-0.417434</td>\n",
       "      <td>0.132813</td>\n",
       "      <td>0.611543</td>\n",
       "      <td>7.848392</td>\n",
       "    </tr>\n",
       "    <tr>\n",
       "      <th>V13</th>\n",
       "      <td>49774.0</td>\n",
       "      <td>-0.003157</td>\n",
       "      <td>0.998790</td>\n",
       "      <td>-5.791881</td>\n",
       "      <td>-0.658133</td>\n",
       "      <td>-0.016297</td>\n",
       "      <td>0.655754</td>\n",
       "      <td>4.369998</td>\n",
       "    </tr>\n",
       "    <tr>\n",
       "      <th>V14</th>\n",
       "      <td>49774.0</td>\n",
       "      <td>0.002660</td>\n",
       "      <td>0.984993</td>\n",
       "      <td>-18.493773</td>\n",
       "      <td>-0.419793</td>\n",
       "      <td>0.053856</td>\n",
       "      <td>0.497335</td>\n",
       "      <td>10.526766</td>\n",
       "    </tr>\n",
       "    <tr>\n",
       "      <th>V15</th>\n",
       "      <td>49774.0</td>\n",
       "      <td>-0.000764</td>\n",
       "      <td>0.915774</td>\n",
       "      <td>-4.196620</td>\n",
       "      <td>-0.577186</td>\n",
       "      <td>0.051361</td>\n",
       "      <td>0.649317</td>\n",
       "      <td>5.825654</td>\n",
       "    </tr>\n",
       "    <tr>\n",
       "      <th>V16</th>\n",
       "      <td>49774.0</td>\n",
       "      <td>0.002530</td>\n",
       "      <td>0.892291</td>\n",
       "      <td>-13.256833</td>\n",
       "      <td>-0.463755</td>\n",
       "      <td>0.068552</td>\n",
       "      <td>0.530817</td>\n",
       "      <td>6.351853</td>\n",
       "    </tr>\n",
       "    <tr>\n",
       "      <th>V17</th>\n",
       "      <td>49774.0</td>\n",
       "      <td>-0.003580</td>\n",
       "      <td>0.883533</td>\n",
       "      <td>-22.883999</td>\n",
       "      <td>-0.483066</td>\n",
       "      <td>-0.065740</td>\n",
       "      <td>0.401621</td>\n",
       "      <td>7.611862</td>\n",
       "    </tr>\n",
       "    <tr>\n",
       "      <th>V18</th>\n",
       "      <td>49774.0</td>\n",
       "      <td>0.003769</td>\n",
       "      <td>0.843369</td>\n",
       "      <td>-9.287832</td>\n",
       "      <td>-0.495990</td>\n",
       "      <td>0.005194</td>\n",
       "      <td>0.510022</td>\n",
       "      <td>5.041069</td>\n",
       "    </tr>\n",
       "    <tr>\n",
       "      <th>V19</th>\n",
       "      <td>49774.0</td>\n",
       "      <td>0.002464</td>\n",
       "      <td>0.814495</td>\n",
       "      <td>-7.213527</td>\n",
       "      <td>-0.454976</td>\n",
       "      <td>0.008075</td>\n",
       "      <td>0.460588</td>\n",
       "      <td>4.891062</td>\n",
       "    </tr>\n",
       "    <tr>\n",
       "      <th>V20</th>\n",
       "      <td>49774.0</td>\n",
       "      <td>0.000903</td>\n",
       "      <td>0.803869</td>\n",
       "      <td>-25.222345</td>\n",
       "      <td>-0.211983</td>\n",
       "      <td>-0.061706</td>\n",
       "      <td>0.134694</td>\n",
       "      <td>39.420904</td>\n",
       "    </tr>\n",
       "    <tr>\n",
       "      <th>V21</th>\n",
       "      <td>49774.0</td>\n",
       "      <td>-0.000532</td>\n",
       "      <td>0.770276</td>\n",
       "      <td>-34.830382</td>\n",
       "      <td>-0.227622</td>\n",
       "      <td>-0.027860</td>\n",
       "      <td>0.186965</td>\n",
       "      <td>27.202839</td>\n",
       "    </tr>\n",
       "    <tr>\n",
       "      <th>V22</th>\n",
       "      <td>49774.0</td>\n",
       "      <td>0.002771</td>\n",
       "      <td>0.729675</td>\n",
       "      <td>-10.933144</td>\n",
       "      <td>-0.541472</td>\n",
       "      <td>0.009776</td>\n",
       "      <td>0.532545</td>\n",
       "      <td>10.503090</td>\n",
       "    </tr>\n",
       "    <tr>\n",
       "      <th>V23</th>\n",
       "      <td>49774.0</td>\n",
       "      <td>-0.003599</td>\n",
       "      <td>0.660136</td>\n",
       "      <td>-44.807735</td>\n",
       "      <td>-0.164049</td>\n",
       "      <td>-0.010877</td>\n",
       "      <td>0.149256</td>\n",
       "      <td>13.944567</td>\n",
       "    </tr>\n",
       "    <tr>\n",
       "      <th>V24</th>\n",
       "      <td>49774.0</td>\n",
       "      <td>0.002610</td>\n",
       "      <td>0.602105</td>\n",
       "      <td>-2.790479</td>\n",
       "      <td>-0.351080</td>\n",
       "      <td>0.042588</td>\n",
       "      <td>0.440575</td>\n",
       "      <td>4.022866</td>\n",
       "    </tr>\n",
       "    <tr>\n",
       "      <th>V25</th>\n",
       "      <td>49774.0</td>\n",
       "      <td>-0.002312</td>\n",
       "      <td>0.521638</td>\n",
       "      <td>-10.295397</td>\n",
       "      <td>-0.319345</td>\n",
       "      <td>0.012377</td>\n",
       "      <td>0.347896</td>\n",
       "      <td>4.032572</td>\n",
       "    </tr>\n",
       "    <tr>\n",
       "      <th>V26</th>\n",
       "      <td>49774.0</td>\n",
       "      <td>-0.000412</td>\n",
       "      <td>0.481761</td>\n",
       "      <td>-2.534330</td>\n",
       "      <td>-0.327176</td>\n",
       "      <td>-0.052539</td>\n",
       "      <td>0.241244</td>\n",
       "      <td>3.463246</td>\n",
       "    </tr>\n",
       "    <tr>\n",
       "      <th>V27</th>\n",
       "      <td>49774.0</td>\n",
       "      <td>0.004313</td>\n",
       "      <td>0.395197</td>\n",
       "      <td>-9.543518</td>\n",
       "      <td>-0.071368</td>\n",
       "      <td>0.001224</td>\n",
       "      <td>0.092245</td>\n",
       "      <td>11.135740</td>\n",
       "    </tr>\n",
       "    <tr>\n",
       "      <th>V28</th>\n",
       "      <td>49774.0</td>\n",
       "      <td>0.000452</td>\n",
       "      <td>0.336381</td>\n",
       "      <td>-9.617915</td>\n",
       "      <td>-0.053209</td>\n",
       "      <td>0.011160</td>\n",
       "      <td>0.078886</td>\n",
       "      <td>15.870474</td>\n",
       "    </tr>\n",
       "    <tr>\n",
       "      <th>scaled_amount</th>\n",
       "      <td>49774.0</td>\n",
       "      <td>0.941735</td>\n",
       "      <td>3.569351</td>\n",
       "      <td>-0.303469</td>\n",
       "      <td>-0.222084</td>\n",
       "      <td>0.000000</td>\n",
       "      <td>0.777916</td>\n",
       "      <td>270.839782</td>\n",
       "    </tr>\n",
       "    <tr>\n",
       "      <th>scaled_time</th>\n",
       "      <td>49774.0</td>\n",
       "      <td>0.116883</td>\n",
       "      <td>0.557080</td>\n",
       "      <td>-0.995025</td>\n",
       "      <td>-0.359687</td>\n",
       "      <td>0.000012</td>\n",
       "      <td>0.640305</td>\n",
       "      <td>1.027697</td>\n",
       "    </tr>\n",
       "  </tbody>\n",
       "</table>\n",
       "</div>"
      ],
      "text/plain": [
       "                 count      mean       std        min       25%       50%  \\\n",
       "V1             49774.0 -0.018659  2.011137 -46.855047 -0.926545  0.003188   \n",
       "V2             49774.0 -0.011408  1.709347 -63.344698 -0.606529  0.057305   \n",
       "V3             49774.0 -0.005399  1.548354 -31.813586 -0.889746  0.176599   \n",
       "V4             49774.0  0.004657  1.432215  -5.416315 -0.857526 -0.017884   \n",
       "V5             49774.0 -0.008641  1.382885 -42.147898 -0.701170 -0.062236   \n",
       "V6             49774.0  0.006123  1.330214 -20.367836 -0.767667 -0.272063   \n",
       "V7             49774.0 -0.008480  1.253212 -43.557242 -0.562314  0.033627   \n",
       "V8             49774.0  0.002214  1.249916 -73.216718 -0.207577  0.024904   \n",
       "V9             49774.0  0.000063  1.114442 -13.320155 -0.654096 -0.052557   \n",
       "V10            49774.0  0.005840  1.113391 -24.588262 -0.534072 -0.086148   \n",
       "V11            49774.0  0.002065  1.027088  -4.682931 -0.762206 -0.033707   \n",
       "V12            49774.0 -0.010737  1.021214 -18.683715 -0.417434  0.132813   \n",
       "V13            49774.0 -0.003157  0.998790  -5.791881 -0.658133 -0.016297   \n",
       "V14            49774.0  0.002660  0.984993 -18.493773 -0.419793  0.053856   \n",
       "V15            49774.0 -0.000764  0.915774  -4.196620 -0.577186  0.051361   \n",
       "V16            49774.0  0.002530  0.892291 -13.256833 -0.463755  0.068552   \n",
       "V17            49774.0 -0.003580  0.883533 -22.883999 -0.483066 -0.065740   \n",
       "V18            49774.0  0.003769  0.843369  -9.287832 -0.495990  0.005194   \n",
       "V19            49774.0  0.002464  0.814495  -7.213527 -0.454976  0.008075   \n",
       "V20            49774.0  0.000903  0.803869 -25.222345 -0.211983 -0.061706   \n",
       "V21            49774.0 -0.000532  0.770276 -34.830382 -0.227622 -0.027860   \n",
       "V22            49774.0  0.002771  0.729675 -10.933144 -0.541472  0.009776   \n",
       "V23            49774.0 -0.003599  0.660136 -44.807735 -0.164049 -0.010877   \n",
       "V24            49774.0  0.002610  0.602105  -2.790479 -0.351080  0.042588   \n",
       "V25            49774.0 -0.002312  0.521638 -10.295397 -0.319345  0.012377   \n",
       "V26            49774.0 -0.000412  0.481761  -2.534330 -0.327176 -0.052539   \n",
       "V27            49774.0  0.004313  0.395197  -9.543518 -0.071368  0.001224   \n",
       "V28            49774.0  0.000452  0.336381  -9.617915 -0.053209  0.011160   \n",
       "scaled_amount  49774.0  0.941735  3.569351  -0.303469 -0.222084  0.000000   \n",
       "scaled_time    49774.0  0.116883  0.557080  -0.995025 -0.359687  0.000012   \n",
       "\n",
       "                    75%         max  \n",
       "V1             1.316292    2.406284  \n",
       "V2             0.805040   22.057729  \n",
       "V3             1.032617    4.029428  \n",
       "V4             0.751157   16.715537  \n",
       "V5             0.599594   29.162172  \n",
       "V6             0.405904   22.529298  \n",
       "V7             0.564765   36.677268  \n",
       "V8             0.333330   17.941363  \n",
       "V9             0.603927   10.392889  \n",
       "V10            0.464616   13.727347  \n",
       "V11            0.741792   11.669205  \n",
       "V12            0.611543    7.848392  \n",
       "V13            0.655754    4.369998  \n",
       "V14            0.497335   10.526766  \n",
       "V15            0.649317    5.825654  \n",
       "V16            0.530817    6.351853  \n",
       "V17            0.401621    7.611862  \n",
       "V18            0.510022    5.041069  \n",
       "V19            0.460588    4.891062  \n",
       "V20            0.134694   39.420904  \n",
       "V21            0.186965   27.202839  \n",
       "V22            0.532545   10.503090  \n",
       "V23            0.149256   13.944567  \n",
       "V24            0.440575    4.022866  \n",
       "V25            0.347896    4.032572  \n",
       "V26            0.241244    3.463246  \n",
       "V27            0.092245   11.135740  \n",
       "V28            0.078886   15.870474  \n",
       "scaled_amount  0.777916  270.839782  \n",
       "scaled_time    0.640305    1.027697  "
      ]
     },
     "execution_count": 27,
     "metadata": {},
     "output_type": "execute_result"
    }
   ],
   "source": [
    "X_train.describe().T"
   ]
  },
  {
   "cell_type": "code",
   "execution_count": 28,
   "metadata": {},
   "outputs": [
    {
     "name": "stdout",
     "output_type": "stream",
     "text": [
      "(99376, 30)\n",
      "(99376,)\n"
     ]
    }
   ],
   "source": [
    "# oversampling tarin data\n",
    "oversample = RandomOverSampler(sampling_strategy='minority')\n",
    "\n",
    "# fit and apply the transform\n",
    "X_train_over, y_train_over = oversample.fit_resample(X_train, y_train)\n",
    "\n",
    "print(X_train_over.shape)\n",
    "print(y_train_over.shape)"
   ]
  },
  {
   "cell_type": "code",
   "execution_count": 29,
   "metadata": {},
   "outputs": [
    {
     "name": "stdout",
     "output_type": "stream",
     "text": [
      "(172, 30)\n",
      "(172,)\n"
     ]
    }
   ],
   "source": [
    "# undersampling tarin data\n",
    "undersample = RandomUnderSampler(sampling_strategy='majority')\n",
    "\n",
    "# fit and apply the transform\n",
    "X_train_under, y_train_under = undersample.fit_resample(X_train, y_train)\n",
    "\n",
    "print(X_train_under.shape)\n",
    "print(y_train_under.shape)"
   ]
  },
  {
   "cell_type": "code",
   "execution_count": 30,
   "metadata": {},
   "outputs": [],
   "source": [
    "def modal_perfomance(model, X_train, Y_train, X_test, Y_test):\n",
    "    model.fit(X_train, Y_train)\n",
    "    predicted = model.predict(X_test)\n",
    "    report = classification_report(Y_test, predicted)\n",
    "    print(\"f1_score       : \", f1_score(Y_test, predicted, average=\"macro\"))\n",
    "    print(\"precision_score: \", precision_score(Y_test, predicted, average=\"macro\"))\n",
    "    print(\"recall_score   : \", recall_score(Y_test, predicted, average=\"macro\"))\n",
    "    print(\"\\nAccuracy Score :\",accuracy_score(predicted, Y_test))\n",
    "    print(report)\n",
    "    plot_roc_curve(model, X_test, Y_test)  \n",
    "    plt.show() \n",
    "#     roc_curve_plt(model, X_test, Y_test, predicted)"
   ]
  },
  {
   "cell_type": "code",
   "execution_count": 31,
   "metadata": {},
   "outputs": [
    {
     "name": "stderr",
     "output_type": "stream",
     "text": [
      "/usr/local/lib/python3.7/site-packages/sklearn/linear_model/_logistic.py:765: ConvergenceWarning: lbfgs failed to converge (status=1):\n",
      "STOP: TOTAL NO. of ITERATIONS REACHED LIMIT.\n",
      "\n",
      "Increase the number of iterations (max_iter) or scale the data as shown in:\n",
      "    https://scikit-learn.org/stable/modules/preprocessing.html\n",
      "Please also refer to the documentation for alternative solver options:\n",
      "    https://scikit-learn.org/stable/modules/linear_model.html#logistic-regression\n",
      "  extra_warning_msg=_LOGISTIC_SOLVER_CONVERGENCE_MSG)\n"
     ]
    },
    {
     "name": "stdout",
     "output_type": "stream",
     "text": [
      "f1_score       :  0.5428535152028675\n",
      "precision_score:  0.5264447353448544\n",
      "recall_score   :  0.9266940974614221\n",
      "\n",
      "Accuracy Score : 0.9715059483509043\n",
      "              precision    recall  f1-score   support\n",
      "\n",
      "         0.0       1.00      0.97      0.99     51602\n",
      "         1.0       0.05      0.88      0.10        93\n",
      "\n",
      "    accuracy                           0.97     51695\n",
      "   macro avg       0.53      0.93      0.54     51695\n",
      "weighted avg       1.00      0.97      0.98     51695\n",
      "\n"
     ]
    },
    {
     "data": {
      "image/png": "[encoded data removed]",
      "text/plain": [
       "<Figure size 432x288 with 1 Axes>"
      ]
     },
     "metadata": {
      "needs_background": "light"
     },
     "output_type": "display_data"
    }
   ],
   "source": [
    "lr = LogisticRegression(class_weight ='balanced')\n",
    "modal_perfomance(lr, X_train_over, y_train_over, X_test, y_test)"
   ]
  },
  {
   "cell_type": "markdown",
   "metadata": {},
   "source": [
    "### Observations: Week 1\n",
    "- Traing set contains two days transaction details, the rate transaction low at night times\n",
    "- The amount of transcation is highy skewed distribution, only low number count detected for high amount transcation\n",
    "- There is no connection between Time, Amount, and the transaction being fraudulent\n",
    "- All the fraudulent transactions are low amount\n",
    "- This is highly class Imbalance problem, fraudulent transaction are very rare less than 0.17 %"
   ]
  },
  {
   "cell_type": "markdown",
   "metadata": {},
   "source": [
    "### Project Task: Week 2\n",
    "\n",
    "#### Modeling Techniques:\n",
    "- Try out models like Naive Bayes, Logistic Regression or SVM. Find out which one performs the best\n",
    "- Use different Tree-based classifiers like Random Forest and XGBoost. \n",
    "       a.    Remember Tree-based classifiers work on two ideologies: Bagging or Boosting\n",
    "       b.    Tree-based classifiers have fine-tuning parameters which takes care of the imbalanced class. Random-Forest and XGBboost.\n",
    "- Compare the results of 1 with 2 and check if there is any incremental gain."
   ]
  },
  {
   "cell_type": "code",
   "execution_count": 32,
   "metadata": {},
   "outputs": [],
   "source": [
    "df_train = copy.deepcopy(df_train_original)\n",
    "df_test = copy.deepcopy(df_test_original)\n",
    "\n",
    "df_train.drop(['Time','Amount'], axis=1, inplace=True)\n",
    "df_test.drop(['Time','Amount'], axis=1, inplace=True)\n",
    "df_train.dropna(inplace=True)\n",
    "df_test.dropna(inplace=True)\n",
    "\n",
    "y_train = df_train.pop('Class')\n",
    "X_train = df_train\n",
    "y_test = df_test.pop('Class')\n",
    "X_test = df_test"
   ]
  },
  {
   "cell_type": "code",
   "execution_count": 33,
   "metadata": {},
   "outputs": [],
   "source": [
    "# Create logistic regression pipeline\n",
    "lr_pipeline = Pipeline(\n",
    "    steps=[\n",
    "        ('scaler', StandardScaler()), \n",
    "        ('lr', LogisticRegression(n_jobs = -1, verbose=2))\n",
    "    ]\n",
    ")"
   ]
  },
  {
   "cell_type": "code",
   "execution_count": 34,
   "metadata": {},
   "outputs": [],
   "source": [
    "# Create SVC pipeline\n",
    "svm_pipeline = Pipeline(\n",
    "    steps=[\n",
    "        ('scaler', StandardScaler()), \n",
    "        ('svm', SVC(verbose=2))\n",
    "    ]\n",
    ")"
   ]
  },
  {
   "cell_type": "code",
   "execution_count": 35,
   "metadata": {},
   "outputs": [],
   "source": [
    "# Create Gaussian NB pipeline\n",
    "gnb_pipeline = Pipeline(\n",
    "    steps=[\n",
    "        ('scaler', StandardScaler()), \n",
    "        ('gnb', GaussianNB())\n",
    "    ]\n",
    ")"
   ]
  },
  {
   "cell_type": "code",
   "execution_count": 36,
   "metadata": {},
   "outputs": [],
   "source": [
    "pipelines = [\n",
    "    lr_pipeline, \n",
    "    svm_pipeline, \n",
    "    gnb_pipeline\n",
    "]"
   ]
  },
  {
   "cell_type": "code",
   "execution_count": 37,
   "metadata": {},
   "outputs": [
    {
     "name": "stderr",
     "output_type": "stream",
     "text": [
      "[Parallel(n_jobs=-1)]: Using backend LokyBackend with 4 concurrent workers.\n",
      "[Parallel(n_jobs=-1)]: Done   1 out of   1 | elapsed:    1.6s finished\n"
     ]
    },
    {
     "name": "stdout",
     "output_type": "stream",
     "text": [
      "[LibSVM]"
     ]
    }
   ],
   "source": [
    "pipeline_dict = {\n",
    "    0 : 'LogisticRegression',\n",
    "    1 : 'SVM',\n",
    "    2 : 'Gaussian NB'\n",
    "}\n",
    "\n",
    "for pipe in pipelines:\n",
    "    pipe.fit(X_train, y_train)"
   ]
  },
  {
   "cell_type": "code",
   "execution_count": 38,
   "metadata": {},
   "outputs": [
    {
     "name": "stdout",
     "output_type": "stream",
     "text": [
      "LogisticRegression Test accuracy 0.9989367871641214\n",
      "SVM Test accuracy 0.9990721051614151\n",
      "Gaussian NB Test accuracy 0.9799922675430118\n"
     ]
    }
   ],
   "source": [
    "# finding best modal\n",
    "for i,modal in enumerate(pipelines):\n",
    "    print(\"{} Test accuracy {}\".format(pipeline_dict[i], modal.score(X_test, y_test)))"
   ]
  },
  {
   "cell_type": "code",
   "execution_count": 39,
   "metadata": {},
   "outputs": [],
   "source": [
    "def tree_perfomace_tracker(modal, X_test, y_test ):\n",
    "    predict = modal.predict(X_test)\n",
    "    cf_matrix = confusion_matrix(predict, y_test)\n",
    "    \n",
    "    group_names = ['True Neg','False Pos','False Neg','True Pos']\n",
    "    group_counts = [\"{0:0.0f}\".format(value) for value in cf_matrix.flatten()]\n",
    "    group_percentages = [\"{0:.2%}\".format(value) for value in cf_matrix.flatten()/np.sum(cf_matrix)]\n",
    "    labels = [f\"{v1}\\n{v2}\\n{v3}\" for v1, v2, v3 in zip(group_names,group_counts,group_percentages)]\n",
    "    labels = np.asarray(labels).reshape(2,2)\n",
    "    sns.heatmap(cf_matrix, annot=labels, fmt='')\n",
    "\n",
    "    print(\"Accuracy Score :\",accuracy_score(predict, y_test))\n",
    "    print(\"f1_score       : \", f1_score(predict, y_test))\n",
    "    "
   ]
  },
  {
   "cell_type": "code",
   "execution_count": 40,
   "metadata": {},
   "outputs": [
    {
     "name": "stderr",
     "output_type": "stream",
     "text": [
      "[Parallel(n_jobs=-1)]: Using backend ThreadingBackend with 4 concurrent workers.\n",
      "[Parallel(n_jobs=-1)]: Done  42 tasks      | elapsed:    2.0s\n",
      "[Parallel(n_jobs=-1)]: Done 100 out of 100 | elapsed:    4.5s finished\n",
      "[Parallel(n_jobs=4)]: Using backend ThreadingBackend with 4 concurrent workers.\n",
      "[Parallel(n_jobs=4)]: Done  42 tasks      | elapsed:    0.0s\n",
      "[Parallel(n_jobs=4)]: Done 100 out of 100 | elapsed:    0.1s finished\n"
     ]
    },
    {
     "name": "stdout",
     "output_type": "stream",
     "text": [
      "Accuracy Score : 0.9993427411560023\n",
      "f1_score       :  0.7763157894736843\n"
     ]
    },
    {
     "data": {
      "image/png": "[encoded data removed]",
      "text/plain": [
       "<Figure size 432x288 with 2 Axes>"
      ]
     },
     "metadata": {
      "needs_background": "light"
     },
     "output_type": "display_data"
    }
   ],
   "source": [
    "# RAndom Forest\n",
    "rf = RandomForestClassifier(class_weight='balanced_subsample', random_state=42, n_jobs=-1, verbose=1)\n",
    "rf.fit(X_train, y_train)\n",
    "tree_perfomace_tracker(rf, X_test, y_test)"
   ]
  },
  {
   "cell_type": "code",
   "execution_count": 41,
   "metadata": {},
   "outputs": [
    {
     "name": "stderr",
     "output_type": "stream",
     "text": [
      "/usr/local/lib/python3.7/site-packages/xgboost/sklearn.py:1146: UserWarning: The use of label encoder in XGBClassifier is deprecated and will be removed in a future release. To remove this warning, do the following: 1) Pass option use_label_encoder=False when constructing XGBClassifier object; and 2) Encode your labels (y) as integers starting with 0, i.e. 0, 1, 2, ..., [num_class - 1].\n",
      "  warnings.warn(label_encoder_deprecation_msg, UserWarning)\n"
     ]
    },
    {
     "name": "stdout",
     "output_type": "stream",
     "text": [
      "Accuracy Score : 0.9991687608737676\n",
      "f1_score       :  0.7225806451612904\n"
     ]
    },
    {
     "data": {
      "image/png": "[encoded data removed]",
      "text/plain": [
       "<Figure size 432x288 with 2 Axes>"
      ]
     },
     "metadata": {
      "needs_background": "light"
     },
     "output_type": "display_data"
    }
   ],
   "source": [
    "# Xg Boost\n",
    "xb = xgb.XGBClassifier(learning_rate=0.001, n_jobs=-1)\n",
    "xb.fit(X_train, y_train, eval_metric='logloss', verbose=True)\n",
    "tree_perfomace_tracker(xb, X_test, y_test)"
   ]
  },
  {
   "cell_type": "code",
   "execution_count": 42,
   "metadata": {},
   "outputs": [
    {
     "name": "stdout",
     "output_type": "stream",
     "text": [
      "Accuracy Score : 0.9991494297312972\n",
      "f1_score       :  0.6901408450704225\n"
     ]
    },
    {
     "data": {
      "image/png": "[encoded data removed]",
      "text/plain": [
       "<Figure size 432x288 with 2 Axes>"
      ]
     },
     "metadata": {
      "needs_background": "light"
     },
     "output_type": "display_data"
    }
   ],
   "source": [
    "# Bagging Classifire\n",
    "BC_clf = BaggingClassifier(base_estimator=SVC(), random_state=0, n_jobs=-1)\n",
    "BC_clf.fit(X_train, y_train)\n",
    "tree_perfomace_tracker(BC_clf, X_test, y_test)"
   ]
  },
  {
   "cell_type": "code",
   "execution_count": 43,
   "metadata": {},
   "outputs": [
    {
     "name": "stdout",
     "output_type": "stream",
     "text": [
      "Accuracy Score : 0.9993427411560023\n",
      "f1_score       :  0.782051282051282\n"
     ]
    },
    {
     "data": {
      "image/png": "[encoded data removed]",
      "text/plain": [
       "<Figure size 432x288 with 2 Axes>"
      ]
     },
     "metadata": {
      "needs_background": "light"
     },
     "output_type": "display_data"
    }
   ],
   "source": [
    "# Bagging Classifire\n",
    "BC_RFC = BaggingClassifier(base_estimator=RandomForestClassifier(class_weight='balanced_subsample'),  n_jobs=-1)\n",
    "BC_RFC.fit(X_train, y_train)\n",
    "tree_perfomace_tracker(BC_RFC, X_test, y_test)"
   ]
  },
  {
   "cell_type": "code",
   "execution_count": 44,
   "metadata": {},
   "outputs": [
    {
     "name": "stdout",
     "output_type": "stream",
     "text": [
      "Accuracy Score : 0.9991300985888266\n",
      "f1_score       :  0.6979865771812079\n"
     ]
    },
    {
     "data": {
      "image/png": "[encoded data removed]",
      "text/plain": [
       "<Figure size 432x288 with 2 Axes>"
      ]
     },
     "metadata": {
      "needs_background": "light"
     },
     "output_type": "display_data"
    }
   ],
   "source": [
    "# Gradient Classifire\n",
    "GBC = GradientBoostingClassifier(random_state=0, loss='deviance', learning_rate=0.01, criterion='mse')\n",
    "GBC.fit(X_train, y_train)\n",
    "tree_perfomace_tracker(GBC,  X_test, y_test)"
   ]
  },
  {
   "cell_type": "code",
   "execution_count": 45,
   "metadata": {},
   "outputs": [
    {
     "name": "stdout",
     "output_type": "stream",
     "text": [
      "Accuracy Score : 0.9993040788710613\n",
      "f1_score       :  0.76\n"
     ]
    },
    {
     "data": {
      "image/png": "[encoded data removed]",
      "text/plain": [
       "<Figure size 432x288 with 2 Axes>"
      ]
     },
     "metadata": {
      "needs_background": "light"
     },
     "output_type": "display_data"
    }
   ],
   "source": [
    "# Extra Classifire\n",
    "ETC = ExtraTreesClassifier(n_estimators=100, random_state=0, class_weight='balanced', n_jobs = 6)\n",
    "ETC.fit(X_train, y_train)\n",
    "tree_perfomace_tracker(ETC, X_test, y_test)"
   ]
  },
  {
   "cell_type": "code",
   "execution_count": 46,
   "metadata": {},
   "outputs": [
    {
     "name": "stdout",
     "output_type": "stream",
     "text": [
      "Accuracy Score : 0.9992267543011792\n",
      "f1_score       :  0.7402597402597403\n"
     ]
    },
    {
     "data": {
      "image/png": "[encoded data removed]",
      "text/plain": [
       "<Figure size 432x288 with 2 Axes>"
      ]
     },
     "metadata": {
      "needs_background": "light"
     },
     "output_type": "display_data"
    }
   ],
   "source": [
    "# Ada boost Classifire\n",
    "ADC = AdaBoostClassifier(n_estimators=100, random_state=0)\n",
    "ADC.fit(X_train, y_train)\n",
    "tree_perfomace_tracker(ADC, X_test, y_test)"
   ]
  },
  {
   "cell_type": "markdown",
   "metadata": {},
   "source": [
    "### Observations: Week 2\n",
    "- Compare Logistic, SVM the essembles method had more incremental gain.\n",
    "- RandomForestClassifier Bagging classifire outperfome compare to other modals\n",
    "- Computation wise EtraTreeClassifire is the better one and a little downwards"
   ]
  },
  {
   "cell_type": "markdown",
   "metadata": {},
   "source": [
    "### Project Task: Week 3\n",
    "\n",
    "#### Applying ANN:\n",
    "- Use ANN (Artificial Neural Network) to identify fradulent and non-fradulent.\n",
    "       a)    Fine-tune number of layers\n",
    "       b)    Number of Neurons in each layers\n",
    "       c)    Experiment in batch-size\n",
    "       d)    Experiment with number of epochs. Check the observations in loss and accuracy\n",
    "       e)    Play with different Learning Rate variants of Gradient Descent like Adam, SGD, RMS-prop\n",
    "       f)    Find out which activation performs best for this use case and why?\n",
    "       g)    Check Confusion Matrix, Precision, Recall and F1-Score\n",
    "- Try out Dropout for ANN. How is it performed? Compare model performance with the traditional ML based prediction models from above. \n",
    "- Find the best setting of neural net that can be best classified as fraudulent and non-fraudulent transactions. Use techniques like Grid Search, Cross-Validation and Random search.\n",
    "\n",
    "##### Anomaly Detection:\n",
    "- Implement anomaly detection algorithms.\n",
    "        a)    Assume that the data is coming from a single or a combination of multivariate Gaussian\n",
    "        b)    Formalize a scoring criterion, which gives a scoring probability for the given data point whether it belongs to the multivariate Gaussian or Normal Distribution fitted in a)"
   ]
  },
  {
   "cell_type": "code",
   "execution_count": 47,
   "metadata": {},
   "outputs": [
    {
     "data": {
      "text/html": [
       "<div>\n",
       "<style scoped>\n",
       "    .dataframe tbody tr th:only-of-type {\n",
       "        vertical-align: middle;\n",
       "    }\n",
       "\n",
       "    .dataframe tbody tr th {\n",
       "        vertical-align: top;\n",
       "    }\n",
       "\n",
       "    .dataframe thead th {\n",
       "        text-align: right;\n",
       "    }\n",
       "</style>\n",
       "<table border=\"1\" class=\"dataframe\">\n",
       "  <thead>\n",
       "    <tr style=\"text-align: right;\">\n",
       "      <th></th>\n",
       "      <th>V1</th>\n",
       "      <th>V2</th>\n",
       "      <th>V3</th>\n",
       "      <th>V4</th>\n",
       "      <th>V5</th>\n",
       "      <th>V6</th>\n",
       "      <th>V7</th>\n",
       "      <th>V8</th>\n",
       "      <th>V9</th>\n",
       "      <th>V10</th>\n",
       "      <th>...</th>\n",
       "      <th>V19</th>\n",
       "      <th>V20</th>\n",
       "      <th>V21</th>\n",
       "      <th>V22</th>\n",
       "      <th>V23</th>\n",
       "      <th>V24</th>\n",
       "      <th>V25</th>\n",
       "      <th>V26</th>\n",
       "      <th>V27</th>\n",
       "      <th>V28</th>\n",
       "    </tr>\n",
       "  </thead>\n",
       "  <tbody>\n",
       "    <tr>\n",
       "      <th>0</th>\n",
       "      <td>1.043949</td>\n",
       "      <td>0.318555</td>\n",
       "      <td>1.045810</td>\n",
       "      <td>2.805989</td>\n",
       "      <td>-0.561113</td>\n",
       "      <td>-0.367956</td>\n",
       "      <td>0.032736</td>\n",
       "      <td>-0.042333</td>\n",
       "      <td>-0.322674</td>\n",
       "      <td>0.499167</td>\n",
       "      <td>...</td>\n",
       "      <td>-0.720944</td>\n",
       "      <td>-0.084556</td>\n",
       "      <td>-0.240105</td>\n",
       "      <td>-0.680315</td>\n",
       "      <td>0.085328</td>\n",
       "      <td>0.684812</td>\n",
       "      <td>0.318620</td>\n",
       "      <td>-0.204963</td>\n",
       "      <td>0.001662</td>\n",
       "      <td>0.037894</td>\n",
       "    </tr>\n",
       "    <tr>\n",
       "      <th>1</th>\n",
       "      <td>-1.665159</td>\n",
       "      <td>0.808440</td>\n",
       "      <td>1.805627</td>\n",
       "      <td>1.903416</td>\n",
       "      <td>-0.821627</td>\n",
       "      <td>0.934790</td>\n",
       "      <td>-0.824802</td>\n",
       "      <td>0.975890</td>\n",
       "      <td>1.747469</td>\n",
       "      <td>-0.658751</td>\n",
       "      <td>...</td>\n",
       "      <td>1.325588</td>\n",
       "      <td>-0.373759</td>\n",
       "      <td>-0.335332</td>\n",
       "      <td>-0.510994</td>\n",
       "      <td>0.035839</td>\n",
       "      <td>0.147565</td>\n",
       "      <td>-0.529358</td>\n",
       "      <td>-0.566950</td>\n",
       "      <td>-0.595998</td>\n",
       "      <td>-0.220086</td>\n",
       "    </tr>\n",
       "    <tr>\n",
       "      <th>2</th>\n",
       "      <td>-0.324096</td>\n",
       "      <td>0.601836</td>\n",
       "      <td>0.865329</td>\n",
       "      <td>-2.138000</td>\n",
       "      <td>0.294663</td>\n",
       "      <td>-1.251553</td>\n",
       "      <td>1.072114</td>\n",
       "      <td>-0.334896</td>\n",
       "      <td>1.071268</td>\n",
       "      <td>-1.109522</td>\n",
       "      <td>...</td>\n",
       "      <td>0.095583</td>\n",
       "      <td>-0.039868</td>\n",
       "      <td>0.012220</td>\n",
       "      <td>0.352856</td>\n",
       "      <td>-0.341505</td>\n",
       "      <td>-0.145791</td>\n",
       "      <td>0.094194</td>\n",
       "      <td>-0.804026</td>\n",
       "      <td>0.229428</td>\n",
       "      <td>-0.021623</td>\n",
       "    </tr>\n",
       "    <tr>\n",
       "      <th>3</th>\n",
       "      <td>-0.258270</td>\n",
       "      <td>1.217501</td>\n",
       "      <td>-0.585348</td>\n",
       "      <td>-0.875347</td>\n",
       "      <td>1.222481</td>\n",
       "      <td>-0.311027</td>\n",
       "      <td>1.073860</td>\n",
       "      <td>-0.161408</td>\n",
       "      <td>0.200665</td>\n",
       "      <td>0.154307</td>\n",
       "      <td>...</td>\n",
       "      <td>0.136148</td>\n",
       "      <td>0.382305</td>\n",
       "      <td>-0.424626</td>\n",
       "      <td>-0.781158</td>\n",
       "      <td>0.019316</td>\n",
       "      <td>0.178614</td>\n",
       "      <td>-0.315616</td>\n",
       "      <td>0.096665</td>\n",
       "      <td>0.269740</td>\n",
       "      <td>-0.020635</td>\n",
       "    </tr>\n",
       "    <tr>\n",
       "      <th>4</th>\n",
       "      <td>2.142162</td>\n",
       "      <td>-0.494988</td>\n",
       "      <td>-1.936511</td>\n",
       "      <td>-0.818288</td>\n",
       "      <td>-0.025213</td>\n",
       "      <td>-1.027245</td>\n",
       "      <td>-0.151627</td>\n",
       "      <td>-0.305750</td>\n",
       "      <td>-0.869482</td>\n",
       "      <td>0.428729</td>\n",
       "      <td>...</td>\n",
       "      <td>1.064984</td>\n",
       "      <td>0.106592</td>\n",
       "      <td>0.010115</td>\n",
       "      <td>0.021722</td>\n",
       "      <td>0.079463</td>\n",
       "      <td>-0.480899</td>\n",
       "      <td>0.023846</td>\n",
       "      <td>-0.279076</td>\n",
       "      <td>-0.030121</td>\n",
       "      <td>-0.043888</td>\n",
       "    </tr>\n",
       "  </tbody>\n",
       "</table>\n",
       "<p>5 rows × 28 columns</p>\n",
       "</div>"
      ],
      "text/plain": [
       "         V1        V2        V3        V4        V5        V6        V7  \\\n",
       "0  1.043949  0.318555  1.045810  2.805989 -0.561113 -0.367956  0.032736   \n",
       "1 -1.665159  0.808440  1.805627  1.903416 -0.821627  0.934790 -0.824802   \n",
       "2 -0.324096  0.601836  0.865329 -2.138000  0.294663 -1.251553  1.072114   \n",
       "3 -0.258270  1.217501 -0.585348 -0.875347  1.222481 -0.311027  1.073860   \n",
       "4  2.142162 -0.494988 -1.936511 -0.818288 -0.025213 -1.027245 -0.151627   \n",
       "\n",
       "         V8        V9       V10  ...       V19       V20       V21       V22  \\\n",
       "0 -0.042333 -0.322674  0.499167  ... -0.720944 -0.084556 -0.240105 -0.680315   \n",
       "1  0.975890  1.747469 -0.658751  ...  1.325588 -0.373759 -0.335332 -0.510994   \n",
       "2 -0.334896  1.071268 -1.109522  ...  0.095583 -0.039868  0.012220  0.352856   \n",
       "3 -0.161408  0.200665  0.154307  ...  0.136148  0.382305 -0.424626 -0.781158   \n",
       "4 -0.305750 -0.869482  0.428729  ...  1.064984  0.106592  0.010115  0.021722   \n",
       "\n",
       "        V23       V24       V25       V26       V27       V28  \n",
       "0  0.085328  0.684812  0.318620 -0.204963  0.001662  0.037894  \n",
       "1  0.035839  0.147565 -0.529358 -0.566950 -0.595998 -0.220086  \n",
       "2 -0.341505 -0.145791  0.094194 -0.804026  0.229428 -0.021623  \n",
       "3  0.019316  0.178614 -0.315616  0.096665  0.269740 -0.020635  \n",
       "4  0.079463 -0.480899  0.023846 -0.279076 -0.030121 -0.043888  \n",
       "\n",
       "[5 rows x 28 columns]"
      ]
     },
     "execution_count": 47,
     "metadata": {},
     "output_type": "execute_result"
    }
   ],
   "source": [
    "df_train.head(5)"
   ]
  },
  {
   "cell_type": "code",
   "execution_count": 48,
   "metadata": {},
   "outputs": [],
   "source": [
    "def model_building(optimizer='Adam', learn_rate = 0.01, dropout_rate = 0.2):\n",
    "    model = Sequential()\n",
    "    model.add(Dense(input_dim = 28, units = 256, activation = 'relu'))\n",
    "    model.add(BatchNormalization())\n",
    "    model.add(Dense(units =  512 , activation = 'relu'))\n",
    "    model.add(Dropout(dropout_rate))\n",
    "    model.add(Dense(units = 256, activation = 'relu'))\n",
    "    model.add(Dropout(dropout_rate))\n",
    "    model.add(Dense(units = 114, activation = 'relu'))\n",
    "    model.add(Dropout(dropout_rate))\n",
    "    model.add(Dense(units = 56, activation = 'relu'))\n",
    "    model.add(Dropout(dropout_rate))\n",
    "    model.add(Dense(units =1, activation = 'sigmoid'))    \n",
    "    \n",
    "    model.compile(optimizer = optimizer, loss='binary_crossentropy', metrics = ['accuracy',tf.keras.metrics.AUC()])\n",
    "    return model"
   ]
  },
  {
   "cell_type": "code",
   "execution_count": 49,
   "metadata": {},
   "outputs": [
    {
     "name": "stdout",
     "output_type": "stream",
     "text": [
      "[2021-06-21 17:32:56.294 tensorflow-2-3-gpu--ml-g4dn-xlarge-c85184389676cdfa7bdf06745c9b:187 INFO utils.py:27] RULE_JOB_STOP_SIGNAL_FILENAME: None\n",
      "[2021-06-21 17:32:56.320 tensorflow-2-3-gpu--ml-g4dn-xlarge-c85184389676cdfa7bdf06745c9b:187 INFO profiler_config_parser.py:102] Unable to find config at /opt/ml/input/config/profilerconfig.json. Profiler is disabled.\n",
      "Model: \"sequential\"\n",
      "_________________________________________________________________\n",
      "Layer (type)                 Output Shape              Param #   \n",
      "=================================================================\n",
      "dense (Dense)                (None, 256)               7424      \n",
      "_________________________________________________________________\n",
      "batch_normalization (BatchNo (None, 256)               1024      \n",
      "_________________________________________________________________\n",
      "dense_1 (Dense)              (None, 512)               131584    \n",
      "_________________________________________________________________\n",
      "dropout (Dropout)            (None, 512)               0         \n",
      "_________________________________________________________________\n",
      "dense_2 (Dense)              (None, 256)               131328    \n",
      "_________________________________________________________________\n",
      "dropout_1 (Dropout)          (None, 256)               0         \n",
      "_________________________________________________________________\n",
      "dense_3 (Dense)              (None, 114)               29298     \n",
      "_________________________________________________________________\n",
      "dropout_2 (Dropout)          (None, 114)               0         \n",
      "_________________________________________________________________\n",
      "dense_4 (Dense)              (None, 56)                6440      \n",
      "_________________________________________________________________\n",
      "dropout_3 (Dropout)          (None, 56)                0         \n",
      "_________________________________________________________________\n",
      "dense_5 (Dense)              (None, 1)                 57        \n",
      "=================================================================\n",
      "Total params: 307,155\n",
      "Trainable params: 306,643\n",
      "Non-trainable params: 512\n",
      "_________________________________________________________________\n"
     ]
    }
   ],
   "source": [
    "model_building().summary()"
   ]
  },
  {
   "cell_type": "code",
   "execution_count": 50,
   "metadata": {},
   "outputs": [],
   "source": [
    "# tf.keras.metrics.AUC(),tf.keras.metrics.Precision(),tf.keras.metrics.Recall()\n",
    "adam_optimizer = tf.keras.optimizers.Adam(learning_rate=0.01)\n",
    "model_building().compile(optimizer=adam_optimizer, loss='binary_crossentropy', metrics=['accuracy'])"
   ]
  },
  {
   "cell_type": "code",
   "execution_count": 51,
   "metadata": {},
   "outputs": [
    {
     "name": "stdout",
     "output_type": "stream",
     "text": [
      "Epoch 1/10\n",
      "1108/1108 [==============================] - 7s 6ms/step - loss: 0.0108 - accuracy: 0.9981 - auc_2: 0.8776 - val_loss: 0.0050 - val_accuracy: 0.9994 - val_auc_2: 0.9031\n",
      "Epoch 2/10\n",
      "1108/1108 [==============================] - 6s 6ms/step - loss: 0.0059 - accuracy: 0.9990 - auc_2: 0.9195 - val_loss: 0.0045 - val_accuracy: 0.9994 - val_auc_2: 0.9188\n",
      "Epoch 3/10\n",
      "1108/1108 [==============================] - 6s 6ms/step - loss: 0.0040 - accuracy: 0.9992 - auc_2: 0.9484 - val_loss: 0.0049 - val_accuracy: 0.9993 - val_auc_2: 0.9233\n",
      "Epoch 4/10\n",
      "1108/1108 [==============================] - 6s 6ms/step - loss: 0.0045 - accuracy: 0.9991 - auc_2: 0.9370 - val_loss: 0.0049 - val_accuracy: 0.9994 - val_auc_2: 0.9487\n",
      "Epoch 5/10\n",
      "1108/1108 [==============================] - 6s 6ms/step - loss: 0.0045 - accuracy: 0.9991 - auc_2: 0.9370 - val_loss: 0.0047 - val_accuracy: 0.9984 - val_auc_2: 0.9349\n",
      "Epoch 6/10\n",
      "1108/1108 [==============================] - 6s 6ms/step - loss: 0.0041 - accuracy: 0.9991 - auc_2: 0.9595 - val_loss: 0.0073 - val_accuracy: 0.9993 - val_auc_2: 0.9137\n",
      "Epoch 7/10\n",
      "1108/1108 [==============================] - 6s 6ms/step - loss: 0.0035 - accuracy: 0.9990 - auc_2: 0.9657 - val_loss: 0.0166 - val_accuracy: 0.9993 - val_auc_2: 0.8870\n",
      "Epoch 8/10\n",
      "1108/1108 [==============================] - 6s 6ms/step - loss: 0.0036 - accuracy: 0.9992 - auc_2: 0.9545 - val_loss: 0.0104 - val_accuracy: 0.9993 - val_auc_2: 0.9188\n",
      "Epoch 9/10\n",
      "1108/1108 [==============================] - 7s 6ms/step - loss: 0.0038 - accuracy: 0.9991 - auc_2: 0.9600 - val_loss: 0.0101 - val_accuracy: 0.9993 - val_auc_2: 0.9135\n",
      "Epoch 10/10\n",
      "1108/1108 [==============================] - 6s 6ms/step - loss: 0.0036 - accuracy: 0.9992 - auc_2: 0.9714 - val_loss: 0.0135 - val_accuracy: 0.9994 - val_auc_2: 0.9083\n"
     ]
    }
   ],
   "source": [
    "# print(os.getcwd())\n",
    "logdir=\"logs/fit/\"+ datetime.now().strftime(\"%Y%m%d-%H%M%S\")\n",
    "tensorboard_callback = tf.keras.callbacks.TensorBoard(log_dir=logdir)\n",
    "history = model_building().fit(X_train, y_train, epochs=10, batch_size=45, validation_data=(X_test, y_test))"
   ]
  },
  {
   "cell_type": "code",
   "execution_count": 52,
   "metadata": {},
   "outputs": [
    {
     "data": {
      "image/png": "[encoded data removed]",
      "text/plain": [
       "<Figure size 432x288 with 1 Axes>"
      ]
     },
     "metadata": {
      "needs_background": "light"
     },
     "output_type": "display_data"
    }
   ],
   "source": [
    "# Experiment with number of epochs. Check the observations in loss and accuracy\n",
    "plt.plot(history.history['loss'])\n",
    "plt.plot(history.history['val_loss'])\n",
    "plt.title('model loss')\n",
    "plt.ylabel('loss')\n",
    "plt.xlabel('epoch')\n",
    "plt.legend(['train', 'val'], loc='upper right')\n",
    "plt.show()"
   ]
  },
  {
   "cell_type": "code",
   "execution_count": 53,
   "metadata": {},
   "outputs": [
    {
     "data": {
      "image/png": "[encoded data removed]",
      "text/plain": [
       "<Figure size 432x288 with 1 Axes>"
      ]
     },
     "metadata": {
      "needs_background": "light"
     },
     "output_type": "display_data"
    }
   ],
   "source": [
    "plt.plot(history.history['accuracy'])\n",
    "plt.plot(history.history['val_accuracy'])\n",
    "plt.title('model accuracy')\n",
    "plt.ylabel('accuracy')\n",
    "plt.xlabel('epoch')\n",
    "plt.legend(['train', 'val'], loc='lower right')\n",
    "plt.show()"
   ]
  },
  {
   "cell_type": "code",
   "execution_count": 58,
   "metadata": {},
   "outputs": [],
   "source": [
    "ann_modal = KerasClassifier(build_fn=model_building, epochs=30)\n",
    "batch_size = [10, 20, 40, 60, 80, 100]\n",
    "epochs = [10, 50, 100]\n",
    "learn_rate = [0.01, 0.02, 0.2]\n",
    "dropout_rate = [0.0, 0.1, 0.2, 0.4]\n",
    "param_grid = dict(batch_size=batch_size, epochs=epochs,learn_rate=learn_rate, dropout_rate=dropout_rate)"
   ]
  },
  {
   "cell_type": "markdown",
   "metadata": {},
   "source": [
    "#### RandamSearch"
   ]
  },
  {
   "cell_type": "code",
   "execution_count": 59,
   "metadata": {},
   "outputs": [
    {
     "name": "stderr",
     "output_type": "stream",
     "text": [
      "/usr/local/lib/python3.7/site-packages/sklearn/model_selection/_search.py:925: UserWarning: One or more of the test scores are non-finite: [nan nan nan nan nan nan nan nan nan nan]\n",
      "  category=UserWarning\n"
     ]
    },
    {
     "name": "stdout",
     "output_type": "stream",
     "text": [
      "Epoch 1/50\n",
      "1246/1246 [==============================] - 8s 6ms/step - loss: 0.0164 - accuracy: 0.9971 - auc_5: 0.8042 - val_loss: 0.0053 - val_accuracy: 0.9993 - val_auc_5: 0.9026\n",
      "Epoch 2/50\n",
      "1246/1246 [==============================] - 7s 6ms/step - loss: 0.0077 - accuracy: 0.9988 - auc_5: 0.9190 - val_loss: 0.0058 - val_accuracy: 0.9993 - val_auc_5: 0.8868\n",
      "Epoch 3/50\n",
      "1246/1246 [==============================] - 7s 6ms/step - loss: 0.0064 - accuracy: 0.9990 - auc_5: 0.9255 - val_loss: 0.0063 - val_accuracy: 0.9994 - val_auc_5: 0.8869\n",
      "Epoch 4/50\n",
      "1246/1246 [==============================] - 7s 6ms/step - loss: 0.0053 - accuracy: 0.9991 - auc_5: 0.9309 - val_loss: 0.0046 - val_accuracy: 0.9993 - val_auc_5: 0.9347\n",
      "Epoch 5/50\n",
      "1246/1246 [==============================] - 7s 6ms/step - loss: 0.0054 - accuracy: 0.9991 - auc_5: 0.9369 - val_loss: 0.0053 - val_accuracy: 0.9994 - val_auc_5: 0.9182\n",
      "Epoch 6/50\n",
      "1246/1246 [==============================] - 7s 6ms/step - loss: 0.0049 - accuracy: 0.9989 - auc_5: 0.9315 - val_loss: 0.0068 - val_accuracy: 0.9992 - val_auc_5: 0.9241\n",
      "Epoch 7/50\n",
      "1246/1246 [==============================] - 7s 6ms/step - loss: 0.0036 - accuracy: 0.9989 - auc_5: 0.9654 - val_loss: 0.0105 - val_accuracy: 0.9994 - val_auc_5: 0.8816\n",
      "Epoch 8/50\n",
      "1246/1246 [==============================] - 7s 6ms/step - loss: 0.0047 - accuracy: 0.9991 - auc_5: 0.9599 - val_loss: 0.0091 - val_accuracy: 0.9994 - val_auc_5: 0.8920\n",
      "Epoch 9/50\n",
      "1246/1246 [==============================] - 7s 6ms/step - loss: 0.0061 - accuracy: 0.9991 - auc_5: 0.9372 - val_loss: 0.0066 - val_accuracy: 0.9994 - val_auc_5: 0.9133\n",
      "Epoch 10/50\n",
      "1246/1246 [==============================] - 7s 6ms/step - loss: 0.0045 - accuracy: 0.9991 - auc_5: 0.9544 - val_loss: 0.0085 - val_accuracy: 0.9991 - val_auc_5: 0.9232\n",
      "Epoch 11/50\n",
      "1246/1246 [==============================] - 7s 6ms/step - loss: 0.0048 - accuracy: 0.9992 - auc_5: 0.9597 - val_loss: 0.0094 - val_accuracy: 0.9993 - val_auc_5: 0.9081\n",
      "Epoch 12/50\n",
      "1246/1246 [==============================] - 7s 6ms/step - loss: 0.0048 - accuracy: 0.9989 - auc_5: 0.9598 - val_loss: 0.0119 - val_accuracy: 0.9993 - val_auc_5: 0.9401\n",
      "Epoch 13/50\n",
      "1246/1246 [==============================] - 7s 6ms/step - loss: 0.0035 - accuracy: 0.9991 - auc_5: 0.9769 - val_loss: 0.0243 - val_accuracy: 0.9994 - val_auc_5: 0.8870\n",
      "Epoch 14/50\n",
      "1246/1246 [==============================] - 7s 6ms/step - loss: 0.0052 - accuracy: 0.9989 - auc_5: 0.9430 - val_loss: 0.0211 - val_accuracy: 0.9994 - val_auc_5: 0.9290\n",
      "Epoch 15/50\n",
      "1246/1246 [==============================] - 7s 6ms/step - loss: 0.0041 - accuracy: 0.9991 - auc_5: 0.9600 - val_loss: 0.0137 - val_accuracy: 0.9994 - val_auc_5: 0.9232\n",
      "Epoch 16/50\n",
      "1246/1246 [==============================] - 7s 6ms/step - loss: 0.0045 - accuracy: 0.9989 - auc_5: 0.9768 - val_loss: 0.0199 - val_accuracy: 0.9994 - val_auc_5: 0.9350\n",
      "Epoch 17/50\n",
      "1246/1246 [==============================] - 7s 6ms/step - loss: 0.0028 - accuracy: 0.9991 - auc_5: 0.9772 - val_loss: 0.0241 - val_accuracy: 0.9993 - val_auc_5: 0.9191\n",
      "Epoch 18/50\n",
      "1246/1246 [==============================] - 7s 6ms/step - loss: 0.0039 - accuracy: 0.9988 - auc_5: 0.9657 - val_loss: 0.0350 - val_accuracy: 0.9994 - val_auc_5: 0.8870\n",
      "Epoch 19/50\n",
      "1246/1246 [==============================] - 7s 6ms/step - loss: 0.0058 - accuracy: 0.9988 - auc_5: 0.9657 - val_loss: 0.0408 - val_accuracy: 0.9987 - val_auc_5: 0.9031\n",
      "Epoch 20/50\n",
      "1246/1246 [==============================] - 7s 6ms/step - loss: 0.0055 - accuracy: 0.9991 - auc_5: 0.9544 - val_loss: 0.0191 - val_accuracy: 0.9993 - val_auc_5: 0.9190\n",
      "Epoch 21/50\n",
      "1246/1246 [==============================] - 7s 6ms/step - loss: 0.0043 - accuracy: 0.9990 - auc_5: 0.9771 - val_loss: 0.0432 - val_accuracy: 0.9991 - val_auc_5: 0.8923\n",
      "Epoch 22/50\n",
      "1246/1246 [==============================] - 7s 6ms/step - loss: 0.0047 - accuracy: 0.9986 - auc_5: 0.9656 - val_loss: 0.0396 - val_accuracy: 0.9989 - val_auc_5: 0.8975\n",
      "Epoch 23/50\n",
      "1246/1246 [==============================] - 7s 6ms/step - loss: 0.0035 - accuracy: 0.9989 - auc_5: 0.9770 - val_loss: 0.0305 - val_accuracy: 0.9983 - val_auc_5: 0.8974\n",
      "Epoch 24/50\n",
      "1246/1246 [==============================] - 7s 6ms/step - loss: 0.0056 - accuracy: 0.9992 - auc_5: 0.9771 - val_loss: 0.0302 - val_accuracy: 0.9994 - val_auc_5: 0.9298\n",
      "Epoch 25/50\n",
      "1246/1246 [==============================] - 7s 6ms/step - loss: 0.0061 - accuracy: 0.9988 - auc_5: 0.9656 - val_loss: 0.0265 - val_accuracy: 0.9994 - val_auc_5: 0.9243\n",
      "Epoch 26/50\n",
      "1246/1246 [==============================] - 7s 6ms/step - loss: 0.0028 - accuracy: 0.9991 - auc_5: 0.9884 - val_loss: 0.0407 - val_accuracy: 0.9993 - val_auc_5: 0.8655\n",
      "Epoch 27/50\n",
      "1246/1246 [==============================] - 7s 6ms/step - loss: 0.0032 - accuracy: 0.9991 - auc_5: 0.9716 - val_loss: 0.0220 - val_accuracy: 0.9994 - val_auc_5: 0.9078\n",
      "Epoch 28/50\n",
      "1246/1246 [==============================] - 7s 6ms/step - loss: 0.0031 - accuracy: 0.9990 - auc_5: 0.9715 - val_loss: 0.0537 - val_accuracy: 0.9993 - val_auc_5: 0.8494\n",
      "Epoch 29/50\n",
      "1246/1246 [==============================] - 7s 6ms/step - loss: 0.0058 - accuracy: 0.9989 - auc_5: 0.9714 - val_loss: 0.0670 - val_accuracy: 0.9993 - val_auc_5: 0.9245\n",
      "Epoch 30/50\n",
      "1246/1246 [==============================] - 7s 6ms/step - loss: 0.0026 - accuracy: 0.9992 - auc_5: 0.9829 - val_loss: 0.0449 - val_accuracy: 0.9993 - val_auc_5: 0.9084\n",
      "Epoch 31/50\n",
      "1246/1246 [==============================] - 7s 6ms/step - loss: 0.0039 - accuracy: 0.9991 - auc_5: 0.9603 - val_loss: 0.0435 - val_accuracy: 0.9993 - val_auc_5: 0.9031\n",
      "Epoch 32/50\n",
      "1246/1246 [==============================] - 7s 6ms/step - loss: 0.0057 - accuracy: 0.9992 - auc_5: 0.9772 - val_loss: 0.0522 - val_accuracy: 0.9993 - val_auc_5: 0.8922\n",
      "Epoch 33/50\n",
      "1246/1246 [==============================] - 7s 6ms/step - loss: 0.0029 - accuracy: 0.9990 - auc_5: 0.9828 - val_loss: 0.0453 - val_accuracy: 0.9994 - val_auc_5: 0.8922\n",
      "Epoch 34/50\n",
      "1246/1246 [==============================] - 7s 6ms/step - loss: 0.0027 - accuracy: 0.9991 - auc_5: 0.9885 - val_loss: 0.0337 - val_accuracy: 0.9993 - val_auc_5: 0.8976\n",
      "Epoch 35/50\n",
      "1246/1246 [==============================] - 7s 6ms/step - loss: 0.0028 - accuracy: 0.9989 - auc_5: 0.9940 - val_loss: 0.0558 - val_accuracy: 0.9993 - val_auc_5: 0.8977\n",
      "Epoch 36/50\n",
      "1246/1246 [==============================] - 7s 6ms/step - loss: 0.0058 - accuracy: 0.9990 - auc_5: 0.9772 - val_loss: 0.1151 - val_accuracy: 0.9994 - val_auc_5: 0.9139\n",
      "Epoch 37/50\n",
      "1246/1246 [==============================] - 7s 6ms/step - loss: 0.0032 - accuracy: 0.9990 - auc_5: 0.9771 - val_loss: 0.0675 - val_accuracy: 0.9993 - val_auc_5: 0.9189\n",
      "Epoch 38/50\n",
      "1246/1246 [==============================] - 7s 6ms/step - loss: 0.0046 - accuracy: 0.9989 - auc_5: 0.9826 - val_loss: 0.0709 - val_accuracy: 0.9994 - val_auc_5: 0.8976\n",
      "Epoch 39/50\n",
      "1246/1246 [==============================] - 7s 6ms/step - loss: 0.0026 - accuracy: 0.9992 - auc_5: 0.9829 - val_loss: 0.0702 - val_accuracy: 0.9993 - val_auc_5: 0.8869\n",
      "Epoch 40/50\n",
      "1246/1246 [==============================] - 7s 6ms/step - loss: 0.0026 - accuracy: 0.9990 - auc_5: 0.9885 - val_loss: 0.0687 - val_accuracy: 0.9994 - val_auc_5: 0.9029\n",
      "Epoch 41/50\n",
      "1246/1246 [==============================] - 7s 6ms/step - loss: 0.0033 - accuracy: 0.9991 - auc_5: 0.9885 - val_loss: 0.1063 - val_accuracy: 0.9993 - val_auc_5: 0.8923\n",
      "Epoch 42/50\n",
      "1246/1246 [==============================] - 7s 6ms/step - loss: 0.0029 - accuracy: 0.9991 - auc_5: 0.9885 - val_loss: 0.1604 - val_accuracy: 0.9991 - val_auc_5: 0.8923\n",
      "Epoch 43/50\n",
      "1246/1246 [==============================] - 7s 6ms/step - loss: 0.0095 - accuracy: 0.9989 - auc_5: 0.9771 - val_loss: 0.0586 - val_accuracy: 0.9993 - val_auc_5: 0.9191\n",
      "Epoch 44/50\n",
      "1246/1246 [==============================] - 7s 6ms/step - loss: 0.0034 - accuracy: 0.9991 - auc_5: 0.9827 - val_loss: 0.0545 - val_accuracy: 0.9994 - val_auc_5: 0.8976\n",
      "Epoch 45/50\n",
      "1246/1246 [==============================] - 7s 6ms/step - loss: 0.0041 - accuracy: 0.9990 - auc_5: 0.9715 - val_loss: 0.0582 - val_accuracy: 0.9994 - val_auc_5: 0.9139\n",
      "Epoch 46/50\n",
      "1246/1246 [==============================] - 7s 6ms/step - loss: 0.0027 - accuracy: 0.9989 - auc_5: 0.9772 - val_loss: 0.0875 - val_accuracy: 0.9993 - val_auc_5: 0.9137\n",
      "Epoch 47/50\n",
      "1246/1246 [==============================] - 7s 6ms/step - loss: 0.0031 - accuracy: 0.9991 - auc_5: 0.9772 - val_loss: 0.0615 - val_accuracy: 0.9994 - val_auc_5: 0.9085\n",
      "Epoch 48/50\n",
      "1246/1246 [==============================] - 7s 6ms/step - loss: 0.0033 - accuracy: 0.9991 - auc_5: 0.9773 - val_loss: 0.1010 - val_accuracy: 0.9994 - val_auc_5: 0.8977\n",
      "Epoch 49/50\n",
      "1246/1246 [==============================] - 7s 6ms/step - loss: 0.0022 - accuracy: 0.9990 - auc_5: 0.9885 - val_loss: 0.1205 - val_accuracy: 0.9991 - val_auc_5: 0.9031\n",
      "Epoch 50/50\n",
      "1246/1246 [==============================] - 7s 6ms/step - loss: 0.0063 - accuracy: 0.9987 - auc_5: 0.9658 - val_loss: 0.1527 - val_accuracy: 0.9982 - val_auc_5: 0.9136\n"
     ]
    }
   ],
   "source": [
    "grid = RandomizedSearchCV(estimator=ann_modal, param_distributions =param_grid, n_jobs=-1, cv=3)\n",
    "grid_result = grid.fit(X_train, y_train, validation_data=(X_test, y_test))"
   ]
  },
  {
   "cell_type": "code",
   "execution_count": 60,
   "metadata": {},
   "outputs": [
    {
     "name": "stdout",
     "output_type": "stream",
     "text": [
      "\n",
      "Best: nan using {'learn_rate': 0.2, 'epochs': 50, 'dropout_rate': 0.4, 'batch_size': 40}\n"
     ]
    }
   ],
   "source": [
    "print(\"\\nBest: %f using %s\" % (grid_result.best_score_, grid_result.best_params_))"
   ]
  },
  {
   "cell_type": "markdown",
   "metadata": {},
   "source": [
    "#### Cross-Validation"
   ]
  },
  {
   "cell_type": "code",
   "execution_count": 61,
   "metadata": {},
   "outputs": [
    {
     "name": "stdout",
     "output_type": "stream",
     "text": [
      "Epoch 1/30\n",
      "1246/1246 [==============================] - 5s 4ms/step - loss: 0.0108 - accuracy: 0.9977 - auc_6: 0.8787\n",
      "Epoch 2/30\n",
      "1246/1246 [==============================] - 5s 4ms/step - loss: 0.0055 - accuracy: 0.9990 - auc_6: 0.9162\n",
      "Epoch 3/30\n",
      "1246/1246 [==============================] - 5s 4ms/step - loss: 0.0061 - accuracy: 0.9991 - auc_6: 0.9022\n",
      "Epoch 4/30\n",
      "1246/1246 [==============================] - 5s 4ms/step - loss: 0.0050 - accuracy: 0.9990 - auc_6: 0.9230\n",
      "Epoch 5/30\n",
      "1246/1246 [==============================] - 5s 4ms/step - loss: 0.0048 - accuracy: 0.9992 - auc_6: 0.9438\n",
      "Epoch 6/30\n",
      "1246/1246 [==============================] - 5s 4ms/step - loss: 0.0060 - accuracy: 0.9989 - auc_6: 0.9439\n",
      "Epoch 7/30\n",
      "1246/1246 [==============================] - 5s 4ms/step - loss: 0.0057 - accuracy: 0.9991 - auc_6: 0.9442\n",
      "Epoch 8/30\n",
      "1246/1246 [==============================] - 5s 4ms/step - loss: 0.0047 - accuracy: 0.9991 - auc_6: 0.9307\n",
      "Epoch 9/30\n",
      "1246/1246 [==============================] - 5s 4ms/step - loss: 0.0038 - accuracy: 0.9991 - auc_6: 0.9515\n",
      "Epoch 10/30\n",
      "1246/1246 [==============================] - 5s 4ms/step - loss: 0.0039 - accuracy: 0.9990 - auc_6: 0.9650\n",
      "Epoch 11/30\n",
      "1246/1246 [==============================] - 5s 4ms/step - loss: 0.0048 - accuracy: 0.9992 - auc_6: 0.9443\n",
      "Epoch 12/30\n",
      "1246/1246 [==============================] - 5s 4ms/step - loss: 0.0022 - accuracy: 0.9994 - auc_6: 0.9792\n",
      "Epoch 13/30\n",
      "1246/1246 [==============================] - 5s 4ms/step - loss: 0.0045 - accuracy: 0.9990 - auc_6: 0.9651\n",
      "Epoch 14/30\n",
      "1246/1246 [==============================] - 5s 4ms/step - loss: 0.0040 - accuracy: 0.9991 - auc_6: 0.9924\n",
      "Epoch 15/30\n",
      "1246/1246 [==============================] - 5s 4ms/step - loss: 0.0035 - accuracy: 0.9991 - auc_6: 0.9722\n",
      "Epoch 16/30\n",
      "1246/1246 [==============================] - 5s 4ms/step - loss: 0.0032 - accuracy: 0.9992 - auc_6: 0.9653\n",
      "Epoch 17/30\n",
      "1246/1246 [==============================] - 5s 4ms/step - loss: 0.0037 - accuracy: 0.9993 - auc_6: 0.9721\n",
      "Epoch 18/30\n",
      "1246/1246 [==============================] - 5s 4ms/step - loss: 0.0041 - accuracy: 0.9991 - auc_6: 0.9652\n",
      "Epoch 19/30\n",
      "1246/1246 [==============================] - 5s 4ms/step - loss: 0.0030 - accuracy: 0.9991 - auc_6: 0.9722\n",
      "Epoch 20/30\n",
      "1246/1246 [==============================] - 5s 4ms/step - loss: 0.0032 - accuracy: 0.9990 - auc_6: 0.9791\n",
      "Epoch 21/30\n",
      "1246/1246 [==============================] - 5s 4ms/step - loss: 0.0027 - accuracy: 0.9995 - auc_6: 0.9792\n",
      "Epoch 22/30\n",
      "1246/1246 [==============================] - 5s 4ms/step - loss: 0.0055 - accuracy: 0.9993 - auc_6: 0.9517\n",
      "Epoch 23/30\n",
      "1246/1246 [==============================] - 5s 4ms/step - loss: 0.0031 - accuracy: 0.9991 - auc_6: 0.9721\n",
      "Epoch 24/30\n",
      "1246/1246 [==============================] - 5s 4ms/step - loss: 0.0037 - accuracy: 0.9993 - auc_6: 0.9928\n",
      "Epoch 25/30\n",
      "1246/1246 [==============================] - 5s 4ms/step - loss: 0.0029 - accuracy: 0.9992 - auc_6: 0.9791\n",
      "Epoch 26/30\n",
      "1246/1246 [==============================] - 5s 4ms/step - loss: 0.0033 - accuracy: 0.9992 - auc_6: 0.9790\n",
      "Epoch 27/30\n",
      "1246/1246 [==============================] - 5s 4ms/step - loss: 0.0034 - accuracy: 0.9991 - auc_6: 0.9722\n",
      "Epoch 28/30\n",
      "1246/1246 [==============================] - 5s 4ms/step - loss: 0.0029 - accuracy: 0.9992 - auc_6: 0.9860\n",
      "Epoch 29/30\n",
      "1246/1246 [==============================] - 5s 4ms/step - loss: 0.0020 - accuracy: 0.9991 - auc_6: 0.9861\n",
      "Epoch 30/30\n",
      "1246/1246 [==============================] - 5s 4ms/step - loss: 0.0033 - accuracy: 0.9993 - auc_6: 0.9724\n",
      "WARNING:tensorflow:From /usr/local/lib/python3.7/site-packages/tensorflow/python/keras/wrappers/scikit_learn.py:241: Sequential.predict_classes (from tensorflow.python.keras.engine.sequential) is deprecated and will be removed after 2021-01-01.\n",
      "Instructions for updating:\n",
      "Please use instead:* `np.argmax(model.predict(x), axis=-1)`,   if your model does multi-class classification   (e.g. if it uses a `softmax` last-layer activation).* `(model.predict(x) > 0.5).astype(\"int32\")`,   if your model does binary classification   (e.g. if it uses a `sigmoid` last-layer activation).\n"
     ]
    },
    {
     "name": "stderr",
     "output_type": "stream",
     "text": [
      "WARNING:tensorflow:From /usr/local/lib/python3.7/site-packages/tensorflow/python/keras/wrappers/scikit_learn.py:241: Sequential.predict_classes (from tensorflow.python.keras.engine.sequential) is deprecated and will be removed after 2021-01-01.\n",
      "Instructions for updating:\n",
      "Please use instead:* `np.argmax(model.predict(x), axis=-1)`,   if your model does multi-class classification   (e.g. if it uses a `softmax` last-layer activation).* `(model.predict(x) > 0.5).astype(\"int32\")`,   if your model does binary classification   (e.g. if it uses a `sigmoid` last-layer activation).\n"
     ]
    },
    {
     "name": "stdout",
     "output_type": "stream",
     "text": [
      "Epoch 1/30\n",
      "1246/1246 [==============================] - 5s 4ms/step - loss: 0.0105 - accuracy: 0.9985 - auc_7: 0.8555\n",
      "Epoch 2/30\n",
      "1246/1246 [==============================] - 5s 4ms/step - loss: 0.0052 - accuracy: 0.9990 - auc_7: 0.9104\n",
      "Epoch 3/30\n",
      "1246/1246 [==============================] - 5s 4ms/step - loss: 0.0052 - accuracy: 0.9989 - auc_7: 0.9251\n",
      "Epoch 4/30\n",
      "1246/1246 [==============================] - 5s 4ms/step - loss: 0.0048 - accuracy: 0.9988 - auc_7: 0.9182\n",
      "Epoch 5/30\n",
      "1246/1246 [==============================] - 5s 4ms/step - loss: 0.0042 - accuracy: 0.9989 - auc_7: 0.9698\n",
      "Epoch 6/30\n",
      "1246/1246 [==============================] - 5s 4ms/step - loss: 0.0059 - accuracy: 0.9990 - auc_7: 0.9476\n",
      "Epoch 7/30\n",
      "1246/1246 [==============================] - 5s 4ms/step - loss: 0.0036 - accuracy: 0.9990 - auc_7: 0.9627\n",
      "Epoch 8/30\n",
      "1246/1246 [==============================] - 5s 4ms/step - loss: 0.0034 - accuracy: 0.9990 - auc_7: 0.9774\n",
      "Epoch 9/30\n",
      "1246/1246 [==============================] - 5s 4ms/step - loss: 0.0036 - accuracy: 0.9990 - auc_7: 0.9701\n",
      "Epoch 10/30\n",
      "1246/1246 [==============================] - 5s 4ms/step - loss: 0.0046 - accuracy: 0.9991 - auc_7: 0.9480\n",
      "Epoch 11/30\n",
      "1246/1246 [==============================] - 5s 4ms/step - loss: 0.0037 - accuracy: 0.9991 - auc_7: 0.9702\n",
      "Epoch 12/30\n",
      "1246/1246 [==============================] - 5s 4ms/step - loss: 0.0061 - accuracy: 0.9990 - auc_7: 0.9477\n",
      "Epoch 13/30\n",
      "1246/1246 [==============================] - 5s 4ms/step - loss: 0.0043 - accuracy: 0.9991 - auc_7: 0.9627\n",
      "Epoch 14/30\n",
      "1246/1246 [==============================] - 5s 4ms/step - loss: 0.0042 - accuracy: 0.9989 - auc_7: 0.9701\n",
      "Epoch 15/30\n",
      "1246/1246 [==============================] - 5s 4ms/step - loss: 0.0030 - accuracy: 0.9989 - auc_7: 0.9702\n",
      "Epoch 16/30\n",
      "1246/1246 [==============================] - 5s 4ms/step - loss: 0.0027 - accuracy: 0.9992 - auc_7: 0.9849\n",
      "Epoch 17/30\n",
      "1246/1246 [==============================] - 5s 4ms/step - loss: 0.0051 - accuracy: 0.9990 - auc_7: 0.9552\n",
      "Epoch 18/30\n",
      "1246/1246 [==============================] - 5s 4ms/step - loss: 0.0041 - accuracy: 0.9991 - auc_7: 0.9774\n",
      "Epoch 19/30\n",
      "1246/1246 [==============================] - 5s 4ms/step - loss: 0.0022 - accuracy: 0.9991 - auc_7: 0.9923\n",
      "Epoch 20/30\n",
      "1246/1246 [==============================] - 5s 4ms/step - loss: 0.0041 - accuracy: 0.9991 - auc_7: 0.9776\n",
      "Epoch 21/30\n",
      "1246/1246 [==============================] - 5s 4ms/step - loss: 0.0024 - accuracy: 0.9991 - auc_7: 0.9850\n",
      "Epoch 22/30\n",
      "1246/1246 [==============================] - 5s 4ms/step - loss: 0.0037 - accuracy: 0.9990 - auc_7: 0.9628\n",
      "Epoch 23/30\n",
      "1246/1246 [==============================] - 5s 4ms/step - loss: 0.0045 - accuracy: 0.9990 - auc_7: 0.9850\n",
      "Epoch 24/30\n",
      "1246/1246 [==============================] - 5s 4ms/step - loss: 0.0030 - accuracy: 0.9991 - auc_7: 0.9850\n",
      "Epoch 25/30\n",
      "1246/1246 [==============================] - 5s 4ms/step - loss: 0.0031 - accuracy: 0.9988 - auc_7: 0.9848\n",
      "Epoch 26/30\n",
      "1246/1246 [==============================] - 5s 4ms/step - loss: 0.0058 - accuracy: 0.9986 - auc_7: 0.9478\n",
      "Epoch 27/30\n",
      "1246/1246 [==============================] - 5s 4ms/step - loss: 0.0046 - accuracy: 0.9989 - auc_7: 0.9849\n",
      "Epoch 28/30\n",
      "1246/1246 [==============================] - 5s 4ms/step - loss: 0.0028 - accuracy: 0.9991 - auc_7: 0.9776\n",
      "Epoch 29/30\n",
      "1246/1246 [==============================] - 5s 4ms/step - loss: 0.0019 - accuracy: 0.9990 - auc_7: 0.9997\n",
      "Epoch 30/30\n",
      "1246/1246 [==============================] - 5s 4ms/step - loss: 0.0016 - accuracy: 0.9990 - auc_7: 0.9997\n",
      "Epoch 1/30\n",
      "1246/1246 [==============================] - 5s 4ms/step - loss: 0.0131 - accuracy: 0.9984 - auc_8: 0.8487\n",
      "Epoch 2/30\n",
      "1246/1246 [==============================] - 5s 4ms/step - loss: 0.0072 - accuracy: 0.9989 - auc_8: 0.9102\n",
      "Epoch 3/30\n",
      "1246/1246 [==============================] - 5s 4ms/step - loss: 0.0056 - accuracy: 0.9989 - auc_8: 0.9174\n",
      "Epoch 4/30\n",
      "1246/1246 [==============================] - 5s 4ms/step - loss: 0.0052 - accuracy: 0.9990 - auc_8: 0.9250\n",
      "Epoch 5/30\n",
      "1246/1246 [==============================] - 5s 4ms/step - loss: 0.0036 - accuracy: 0.9992 - auc_8: 0.9550\n",
      "Epoch 6/30\n",
      "1246/1246 [==============================] - 5s 4ms/step - loss: 0.0064 - accuracy: 0.9989 - auc_8: 0.9328\n",
      "Epoch 7/30\n",
      "1246/1246 [==============================] - 5s 4ms/step - loss: 0.0044 - accuracy: 0.9989 - auc_8: 0.9547\n",
      "Epoch 8/30\n",
      "1246/1246 [==============================] - 5s 4ms/step - loss: 0.0034 - accuracy: 0.9989 - auc_8: 0.9625\n",
      "Epoch 9/30\n",
      "1246/1246 [==============================] - 5s 4ms/step - loss: 0.0045 - accuracy: 0.9990 - auc_8: 0.9475\n",
      "Epoch 10/30\n",
      "1246/1246 [==============================] - 5s 4ms/step - loss: 0.0028 - accuracy: 0.9989 - auc_8: 0.9774\n",
      "Epoch 11/30\n",
      "1246/1246 [==============================] - 5s 4ms/step - loss: 0.0044 - accuracy: 0.9988 - auc_8: 0.9623\n",
      "Epoch 12/30\n",
      "1246/1246 [==============================] - 5s 4ms/step - loss: 0.0064 - accuracy: 0.9989 - auc_8: 0.9476\n",
      "Epoch 13/30\n",
      "1246/1246 [==============================] - 5s 4ms/step - loss: 0.0035 - accuracy: 0.9988 - auc_8: 0.9699\n",
      "Epoch 14/30\n",
      "1246/1246 [==============================] - 5s 4ms/step - loss: 0.0039 - accuracy: 0.9990 - auc_8: 0.9774\n",
      "Epoch 15/30\n",
      "1246/1246 [==============================] - 5s 4ms/step - loss: 0.0033 - accuracy: 0.9990 - auc_8: 0.9775\n",
      "Epoch 16/30\n",
      "1246/1246 [==============================] - 5s 4ms/step - loss: 0.0038 - accuracy: 0.9988 - auc_8: 0.9699\n",
      "Epoch 17/30\n",
      "1246/1246 [==============================] - 5s 4ms/step - loss: 0.0025 - accuracy: 0.9991 - auc_8: 0.9776\n",
      "Epoch 18/30\n",
      "1246/1246 [==============================] - 5s 4ms/step - loss: 0.0036 - accuracy: 0.9990 - auc_8: 0.9775\n",
      "Epoch 19/30\n",
      "1246/1246 [==============================] - 5s 4ms/step - loss: 0.0034 - accuracy: 0.9992 - auc_8: 0.9701\n",
      "Epoch 20/30\n",
      "1246/1246 [==============================] - 5s 4ms/step - loss: 0.0027 - accuracy: 0.9990 - auc_8: 0.9850\n",
      "Epoch 21/30\n",
      "1246/1246 [==============================] - 5s 4ms/step - loss: 0.0064 - accuracy: 0.9986 - auc_8: 0.9549\n",
      "Epoch 22/30\n",
      "1246/1246 [==============================] - 5s 4ms/step - loss: 0.0035 - accuracy: 0.9992 - auc_8: 0.9850\n",
      "Epoch 23/30\n",
      "1246/1246 [==============================] - 5s 4ms/step - loss: 0.0022 - accuracy: 0.9991 - auc_8: 0.9850\n",
      "Epoch 24/30\n",
      "1246/1246 [==============================] - 5s 4ms/step - loss: 0.0032 - accuracy: 0.9991 - auc_8: 0.9777\n",
      "Epoch 25/30\n",
      "1246/1246 [==============================] - 5s 4ms/step - loss: 0.0066 - accuracy: 0.9988 - auc_8: 0.9626\n",
      "Epoch 26/30\n",
      "1246/1246 [==============================] - 4s 4ms/step - loss: 0.0042 - accuracy: 0.9990 - auc_8: 0.9776\n",
      "Epoch 27/30\n",
      "1246/1246 [==============================] - 5s 4ms/step - loss: 0.0035 - accuracy: 0.9989 - auc_8: 0.9700\n",
      "Epoch 28/30\n",
      "1246/1246 [==============================] - 5s 4ms/step - loss: 0.0064 - accuracy: 0.9988 - auc_8: 0.9847\n",
      "Epoch 29/30\n",
      "1246/1246 [==============================] - 5s 4ms/step - loss: 0.0020 - accuracy: 0.9990 - auc_8: 0.9923\n",
      "Epoch 30/30\n",
      "1246/1246 [==============================] - 5s 4ms/step - loss: 0.0024 - accuracy: 0.9992 - auc_8: 0.9924\n",
      "Epoch 1/30\n",
      "1246/1246 [==============================] - 5s 4ms/step - loss: 0.0108 - accuracy: 0.9984 - auc_9: 0.8741\n",
      "Epoch 2/30\n",
      "1246/1246 [==============================] - 5s 4ms/step - loss: 0.0078 - accuracy: 0.9989 - auc_9: 0.9164\n",
      "Epoch 3/30\n",
      "1246/1246 [==============================] - 5s 4ms/step - loss: 0.0057 - accuracy: 0.9991 - auc_9: 0.9310\n",
      "Epoch 4/30\n",
      "1246/1246 [==============================] - 4s 4ms/step - loss: 0.0063 - accuracy: 0.9991 - auc_9: 0.9171\n",
      "Epoch 5/30\n",
      "1246/1246 [==============================] - 5s 4ms/step - loss: 0.0041 - accuracy: 0.9993 - auc_9: 0.9586\n",
      "Epoch 6/30\n",
      "1246/1246 [==============================] - 5s 4ms/step - loss: 0.0045 - accuracy: 0.9991 - auc_9: 0.9517\n",
      "Epoch 7/30\n",
      "1246/1246 [==============================] - 4s 4ms/step - loss: 0.0040 - accuracy: 0.9991 - auc_9: 0.9651\n",
      "Epoch 8/30\n",
      "1246/1246 [==============================] - 5s 4ms/step - loss: 0.0039 - accuracy: 0.9991 - auc_9: 0.9655\n",
      "Epoch 9/30\n",
      "1246/1246 [==============================] - 5s 4ms/step - loss: 0.0041 - accuracy: 0.9992 - auc_9: 0.9589\n",
      "Epoch 10/30\n",
      "1246/1246 [==============================] - 5s 4ms/step - loss: 0.0035 - accuracy: 0.9992 - auc_9: 0.9590\n",
      "Epoch 11/30\n",
      "1246/1246 [==============================] - 5s 4ms/step - loss: 0.0050 - accuracy: 0.9992 - auc_9: 0.9453\n",
      "Epoch 12/30\n",
      "1246/1246 [==============================] - 5s 4ms/step - loss: 0.0034 - accuracy: 0.9993 - auc_9: 0.9657\n",
      "Epoch 13/30\n",
      "1246/1246 [==============================] - 5s 4ms/step - loss: 0.0034 - accuracy: 0.9992 - auc_9: 0.9658\n",
      "Epoch 14/30\n",
      "1246/1246 [==============================] - 5s 4ms/step - loss: 0.0037 - accuracy: 0.9992 - auc_9: 0.9657\n",
      "Epoch 15/30\n",
      "1246/1246 [==============================] - 5s 4ms/step - loss: 0.0028 - accuracy: 0.9991 - auc_9: 0.9861\n",
      "Epoch 16/30\n",
      "1246/1246 [==============================] - 5s 4ms/step - loss: 0.0025 - accuracy: 0.9992 - auc_9: 0.9862\n",
      "Epoch 17/30\n",
      "1246/1246 [==============================] - 4s 4ms/step - loss: 0.0042 - accuracy: 0.9993 - auc_9: 0.9590\n",
      "Epoch 18/30\n",
      "1246/1246 [==============================] - 5s 4ms/step - loss: 0.0032 - accuracy: 0.9994 - auc_9: 0.9657\n",
      "Epoch 19/30\n",
      "1246/1246 [==============================] - 4s 4ms/step - loss: 0.0028 - accuracy: 0.9993 - auc_9: 0.9862\n",
      "Epoch 20/30\n",
      "1246/1246 [==============================] - 5s 4ms/step - loss: 0.0027 - accuracy: 0.9993 - auc_9: 0.9794\n",
      "Epoch 21/30\n",
      "1246/1246 [==============================] - 5s 4ms/step - loss: 0.0025 - accuracy: 0.9992 - auc_9: 0.9930\n",
      "Epoch 22/30\n",
      "1246/1246 [==============================] - 5s 4ms/step - loss: 0.0087 - accuracy: 0.9993 - auc_9: 0.9794\n",
      "Epoch 23/30\n",
      "1246/1246 [==============================] - 5s 4ms/step - loss: 0.0029 - accuracy: 0.9991 - auc_9: 0.9929\n",
      "Epoch 24/30\n",
      "1246/1246 [==============================] - 4s 4ms/step - loss: 0.0031 - accuracy: 0.9991 - auc_9: 0.9727\n",
      "Epoch 25/30\n",
      "1246/1246 [==============================] - 5s 4ms/step - loss: 0.0022 - accuracy: 0.9993 - auc_9: 0.9862\n",
      "Epoch 26/30\n",
      "1246/1246 [==============================] - 5s 4ms/step - loss: 0.0034 - accuracy: 0.9992 - auc_9: 0.9591\n",
      "Epoch 27/30\n",
      "1246/1246 [==============================] - 5s 4ms/step - loss: 0.0024 - accuracy: 0.9993 - auc_9: 0.9862\n",
      "Epoch 28/30\n",
      "1246/1246 [==============================] - 5s 4ms/step - loss: 0.0017 - accuracy: 0.9994 - auc_9: 0.9998\n",
      "Epoch 29/30\n",
      "1246/1246 [==============================] - 5s 4ms/step - loss: 0.0037 - accuracy: 0.9992 - auc_9: 0.9659\n",
      "Epoch 30/30\n",
      "1246/1246 [==============================] - 5s 4ms/step - loss: 0.0038 - accuracy: 0.9991 - auc_9: 0.9794\n",
      "Epoch 1/30\n",
      "1246/1246 [==============================] - 4s 4ms/step - loss: 0.0098 - accuracy: 0.9986 - auc_10: 0.8877\n",
      "Epoch 2/30\n",
      "1246/1246 [==============================] - 5s 4ms/step - loss: 0.0066 - accuracy: 0.9990 - auc_10: 0.9231\n",
      "Epoch 3/30\n",
      "1246/1246 [==============================] - 5s 4ms/step - loss: 0.0052 - accuracy: 0.9992 - auc_10: 0.9374\n",
      "Epoch 4/30\n",
      "1246/1246 [==============================] - 5s 4ms/step - loss: 0.0048 - accuracy: 0.9990 - auc_10: 0.9651\n",
      "Epoch 5/30\n",
      "1246/1246 [==============================] - 5s 4ms/step - loss: 0.0040 - accuracy: 0.9991 - auc_10: 0.9651\n",
      "Epoch 6/30\n",
      "1246/1246 [==============================] - 5s 4ms/step - loss: 0.0048 - accuracy: 0.9991 - auc_10: 0.9442\n",
      "Epoch 7/30\n",
      "1246/1246 [==============================] - 5s 4ms/step - loss: 0.0030 - accuracy: 0.9992 - auc_10: 0.9791\n",
      "Epoch 8/30\n",
      "1246/1246 [==============================] - 5s 4ms/step - loss: 0.0036 - accuracy: 0.9992 - auc_10: 0.9651\n",
      "Epoch 9/30\n",
      "1246/1246 [==============================] - 5s 4ms/step - loss: 0.0029 - accuracy: 0.9993 - auc_10: 0.9791\n",
      "Epoch 10/30\n",
      "1246/1246 [==============================] - 5s 4ms/step - loss: 0.0030 - accuracy: 0.9991 - auc_10: 0.9791\n",
      "Epoch 11/30\n",
      "1246/1246 [==============================] - 5s 4ms/step - loss: 0.0036 - accuracy: 0.9990 - auc_10: 0.9585\n",
      "Epoch 12/30\n",
      "1246/1246 [==============================] - 5s 4ms/step - loss: 0.0060 - accuracy: 0.9992 - auc_10: 0.9652\n",
      "Epoch 13/30\n",
      "1246/1246 [==============================] - 5s 4ms/step - loss: 0.0030 - accuracy: 0.9991 - auc_10: 0.9790\n",
      "Epoch 14/30\n",
      "1246/1246 [==============================] - 5s 4ms/step - loss: 0.0019 - accuracy: 0.9993 - auc_10: 0.9861\n",
      "Epoch 15/30\n",
      "1246/1246 [==============================] - 5s 4ms/step - loss: 0.0027 - accuracy: 0.9995 - auc_10: 0.9792\n",
      "Epoch 16/30\n",
      "1246/1246 [==============================] - 5s 4ms/step - loss: 0.0018 - accuracy: 0.9993 - auc_10: 0.9929\n",
      "Epoch 17/30\n",
      "1246/1246 [==============================] - 5s 4ms/step - loss: 0.0019 - accuracy: 0.9993 - auc_10: 0.9929\n",
      "Epoch 18/30\n",
      "1246/1246 [==============================] - 5s 4ms/step - loss: 0.0031 - accuracy: 0.9990 - auc_10: 0.9722\n",
      "Epoch 19/30\n",
      "1246/1246 [==============================] - 5s 4ms/step - loss: 0.0027 - accuracy: 0.9992 - auc_10: 0.9860\n",
      "Epoch 20/30\n",
      "1246/1246 [==============================] - 5s 4ms/step - loss: 0.0016 - accuracy: 0.9993 - auc_10: 0.9998\n",
      "Epoch 21/30\n",
      "1246/1246 [==============================] - 5s 4ms/step - loss: 0.0039 - accuracy: 0.9992 - auc_10: 0.9723\n",
      "Epoch 22/30\n",
      "1246/1246 [==============================] - 5s 4ms/step - loss: 0.0028 - accuracy: 0.9992 - auc_10: 0.9860\n",
      "Epoch 23/30\n",
      "1246/1246 [==============================] - 5s 4ms/step - loss: 0.0027 - accuracy: 0.9990 - auc_10: 0.9928\n",
      "Epoch 24/30\n",
      "1246/1246 [==============================] - 5s 4ms/step - loss: 0.0016 - accuracy: 0.9995 - auc_10: 0.9930\n",
      "Epoch 25/30\n",
      "1246/1246 [==============================] - 5s 4ms/step - loss: 0.0017 - accuracy: 0.9993 - auc_10: 0.9998\n",
      "Epoch 26/30\n",
      "1246/1246 [==============================] - 5s 4ms/step - loss: 0.0027 - accuracy: 0.9992 - auc_10: 0.9861\n",
      "Epoch 27/30\n",
      "1246/1246 [==============================] - 5s 4ms/step - loss: 0.0024 - accuracy: 0.9992 - auc_10: 0.9860\n",
      "Epoch 28/30\n",
      "1246/1246 [==============================] - 5s 4ms/step - loss: 0.0040 - accuracy: 0.9994 - auc_10: 0.9791\n",
      "Epoch 29/30\n",
      "1246/1246 [==============================] - 5s 4ms/step - loss: 0.0025 - accuracy: 0.9992 - auc_10: 0.9929\n",
      "Epoch 30/30\n",
      "1246/1246 [==============================] - 4s 4ms/step - loss: 0.0016 - accuracy: 0.9994 - auc_10: 0.9930\n",
      "f1 score is:  0.7393983391079579\n"
     ]
    }
   ],
   "source": [
    "scores = cross_val_score(ann_modal, X_train, y_train, cv=5, scoring='f1')\n",
    "print(\"f1 score is: \", scores.mean())"
   ]
  },
  {
   "cell_type": "code",
   "execution_count": 62,
   "metadata": {},
   "outputs": [
    {
     "name": "stderr",
     "output_type": "stream",
     "text": [
      "/usr/local/lib/python3.7/site-packages/sklearn/model_selection/_search.py:925: UserWarning: One or more of the test scores are non-finite: [nan nan nan nan nan nan]\n",
      "  category=UserWarning\n"
     ]
    },
    {
     "name": "stdout",
     "output_type": "stream",
     "text": [
      "Epoch 1/30\n",
      "4982/4982 [==============================] - 27s 6ms/step - loss: 0.0147 - accuracy: 0.9986 - auc_11: 0.8627 - val_loss: 0.0139 - val_accuracy: 0.9982 - val_auc_11: 0.8118\n",
      "Epoch 2/30\n",
      "4982/4982 [==============================] - 27s 5ms/step - loss: 0.0110 - accuracy: 0.9988 - auc_11: 0.8913 - val_loss: 0.0125 - val_accuracy: 0.9987 - val_auc_11: 0.8709\n",
      "Epoch 3/30\n",
      "4982/4982 [==============================] - 27s 5ms/step - loss: 0.0115 - accuracy: 0.9987 - auc_11: 0.8971 - val_loss: 0.0158 - val_accuracy: 0.9990 - val_auc_11: 0.8440\n",
      "Epoch 4/30\n",
      "4982/4982 [==============================] - 27s 5ms/step - loss: 0.0097 - accuracy: 0.9988 - auc_11: 0.8972 - val_loss: 0.0167 - val_accuracy: 0.9993 - val_auc_11: 0.8655\n",
      "Epoch 5/30\n",
      "4982/4982 [==============================] - 27s 5ms/step - loss: 0.0109 - accuracy: 0.9986 - auc_11: 0.9028 - val_loss: 0.0314 - val_accuracy: 0.9992 - val_auc_11: 0.8728\n",
      "Epoch 6/30\n",
      "4982/4982 [==============================] - 27s 5ms/step - loss: 0.0099 - accuracy: 0.9984 - auc_11: 0.8856 - val_loss: 0.0261 - val_accuracy: 0.9993 - val_auc_11: 0.8869\n",
      "Epoch 7/30\n",
      "4982/4982 [==============================] - 27s 5ms/step - loss: 0.0101 - accuracy: 0.9985 - auc_11: 0.9307 - val_loss: 0.0336 - val_accuracy: 0.9982 - val_auc_11: 0.8869\n",
      "Epoch 8/30\n",
      "4982/4982 [==============================] - 27s 5ms/step - loss: 0.0096 - accuracy: 0.9983 - auc_11: 0.9082 - val_loss: 0.0441 - val_accuracy: 0.9993 - val_auc_11: 0.8816\n",
      "Epoch 9/30\n",
      "4982/4982 [==============================] - 27s 5ms/step - loss: 0.0115 - accuracy: 0.9983 - auc_11: 0.9140 - val_loss: 0.0173 - val_accuracy: 0.9982 - val_auc_11: 0.8868\n",
      "Epoch 10/30\n",
      "4982/4982 [==============================] - 27s 5ms/step - loss: 0.0106 - accuracy: 0.9982 - auc_11: 0.9136 - val_loss: 0.0143 - val_accuracy: 0.9982 - val_auc_11: 0.9414\n",
      "Epoch 11/30\n",
      "4982/4982 [==============================] - 26s 5ms/step - loss: 0.0105 - accuracy: 0.9985 - auc_11: 0.9366 - val_loss: 0.0236 - val_accuracy: 0.9993 - val_auc_11: 0.9025\n",
      "Epoch 12/30\n",
      "4982/4982 [==============================] - 27s 5ms/step - loss: 0.0071 - accuracy: 0.9986 - auc_11: 0.9484 - val_loss: 0.0297 - val_accuracy: 0.9982 - val_auc_11: 0.8760\n",
      "Epoch 13/30\n",
      "4982/4982 [==============================] - 26s 5ms/step - loss: 0.0090 - accuracy: 0.9983 - auc_11: 0.9309 - val_loss: 0.0347 - val_accuracy: 0.9992 - val_auc_11: 0.9027\n",
      "Epoch 14/30\n",
      "4982/4982 [==============================] - 26s 5ms/step - loss: 0.0083 - accuracy: 0.9983 - auc_11: 0.9310 - val_loss: 0.0767 - val_accuracy: 0.9982 - val_auc_11: 0.5753\n",
      "Epoch 15/30\n",
      "4982/4982 [==============================] - 26s 5ms/step - loss: 0.0092 - accuracy: 0.9986 - auc_11: 0.9372 - val_loss: 0.0639 - val_accuracy: 0.9985 - val_auc_11: 0.8654\n",
      "Epoch 16/30\n",
      "4982/4982 [==============================] - 27s 5ms/step - loss: 0.0107 - accuracy: 0.9985 - auc_11: 0.9370 - val_loss: 0.0290 - val_accuracy: 0.9989 - val_auc_11: 0.9124\n",
      "Epoch 17/30\n",
      "4982/4982 [==============================] - 27s 5ms/step - loss: 0.0111 - accuracy: 0.9987 - auc_11: 0.9600 - val_loss: 0.0313 - val_accuracy: 0.9993 - val_auc_11: 0.8709\n",
      "Epoch 18/30\n",
      "4982/4982 [==============================] - 27s 5ms/step - loss: 0.0074 - accuracy: 0.9988 - auc_11: 0.9428 - val_loss: 0.0763 - val_accuracy: 0.9989 - val_auc_11: 0.8750\n",
      "Epoch 19/30\n",
      "4982/4982 [==============================] - 27s 5ms/step - loss: 0.0090 - accuracy: 0.9987 - auc_11: 0.9092 - val_loss: 0.1617 - val_accuracy: 0.9984 - val_auc_11: 0.6984\n",
      "Epoch 20/30\n",
      "4982/4982 [==============================] - 27s 5ms/step - loss: 0.0054 - accuracy: 0.9989 - auc_11: 0.9430 - val_loss: 0.0303 - val_accuracy: 0.9993 - val_auc_11: 0.8868\n",
      "Epoch 21/30\n",
      "4982/4982 [==============================] - 27s 5ms/step - loss: 0.0089 - accuracy: 0.9986 - auc_11: 0.9426 - val_loss: 0.0455 - val_accuracy: 0.9992 - val_auc_11: 0.8922\n",
      "Epoch 22/30\n",
      "4982/4982 [==============================] - 27s 5ms/step - loss: 0.0069 - accuracy: 0.9987 - auc_11: 0.9430 - val_loss: 0.0488 - val_accuracy: 0.9987 - val_auc_11: 0.7952\n",
      "Epoch 23/30\n",
      "4982/4982 [==============================] - 27s 5ms/step - loss: 0.0074 - accuracy: 0.9987 - auc_11: 0.9258 - val_loss: 0.0967 - val_accuracy: 0.9992 - val_auc_11: 0.8655\n",
      "Epoch 24/30\n",
      "4982/4982 [==============================] - 27s 5ms/step - loss: 0.0064 - accuracy: 0.9986 - auc_11: 0.9430 - val_loss: 0.0233 - val_accuracy: 0.9992 - val_auc_11: 0.8846\n",
      "Epoch 25/30\n",
      "4982/4982 [==============================] - 27s 5ms/step - loss: 0.0070 - accuracy: 0.9987 - auc_11: 0.9484 - val_loss: 0.0691 - val_accuracy: 0.9992 - val_auc_11: 0.8544\n",
      "Epoch 26/30\n",
      "4982/4982 [==============================] - 27s 5ms/step - loss: 0.0074 - accuracy: 0.9985 - auc_11: 0.9317 - val_loss: 0.0196 - val_accuracy: 0.9988 - val_auc_11: 0.8912\n",
      "Epoch 27/30\n",
      "4982/4982 [==============================] - 27s 5ms/step - loss: 0.0103 - accuracy: 0.9986 - auc_11: 0.9202 - val_loss: 0.0858 - val_accuracy: 0.9986 - val_auc_11: 0.7365\n",
      "Epoch 28/30\n",
      "4982/4982 [==============================] - 27s 5ms/step - loss: 0.0070 - accuracy: 0.9989 - auc_11: 0.9485 - val_loss: 0.0404 - val_accuracy: 0.9989 - val_auc_11: 0.8751\n",
      "Epoch 29/30\n",
      "4982/4982 [==============================] - 27s 5ms/step - loss: 0.0088 - accuracy: 0.9985 - auc_11: 0.9541 - val_loss: 0.0748 - val_accuracy: 0.9988 - val_auc_11: 0.7352\n",
      "Epoch 30/30\n",
      "4982/4982 [==============================] - 27s 5ms/step - loss: 0.0050 - accuracy: 0.9986 - auc_11: 0.9542 - val_loss: 0.0766 - val_accuracy: 0.9986 - val_auc_11: 0.7847\n",
      "\n",
      "Best: nan using {'batch_size': 10}\n"
     ]
    }
   ],
   "source": [
    "# Experiment in batch-size\n",
    "batch_size = [10, 20, 40, 60, 80, 100]\n",
    "param_grid = dict(batch_size = batch_size)\n",
    "grid = GridSearchCV(estimator = ann_modal, param_grid = param_grid, n_jobs=-1, cv=3)\n",
    "grid_result = grid.fit(X_train,y_train,validation_data=(X_test, y_test))\n",
    "print(\"\\nBest: %f using %s\" % (grid_result.best_score_, grid_result.best_params_))"
   ]
  },
  {
   "cell_type": "code",
   "execution_count": 63,
   "metadata": {},
   "outputs": [
    {
     "name": "stderr",
     "output_type": "stream",
     "text": [
      "/usr/local/lib/python3.7/site-packages/sklearn/model_selection/_search.py:925: UserWarning: One or more of the test scores are non-finite: [nan nan nan]\n",
      "  category=UserWarning\n"
     ]
    },
    {
     "name": "stdout",
     "output_type": "stream",
     "text": [
      "Epoch 1/30\n",
      "1557/1557 [==============================] - 9s 6ms/step - loss: 0.0201 - accuracy: 0.9972 - auc_12: 0.7501 - val_loss: 0.0049 - val_accuracy: 0.9993 - val_auc_12: 0.8921\n",
      "Epoch 2/30\n",
      "1557/1557 [==============================] - 9s 6ms/step - loss: 0.0053 - accuracy: 0.9988 - auc_12: 0.9118 - val_loss: 0.0045 - val_accuracy: 0.9993 - val_auc_12: 0.9083\n",
      "Epoch 3/30\n",
      "1557/1557 [==============================] - 9s 6ms/step - loss: 0.0041 - accuracy: 0.9991 - auc_12: 0.9303 - val_loss: 0.0043 - val_accuracy: 0.9993 - val_auc_12: 0.9244\n",
      "Epoch 4/30\n",
      "1557/1557 [==============================] - 9s 6ms/step - loss: 0.0042 - accuracy: 0.9991 - auc_12: 0.9308 - val_loss: 0.0039 - val_accuracy: 0.9993 - val_auc_12: 0.9297\n",
      "Epoch 5/30\n",
      "1557/1557 [==============================] - 9s 6ms/step - loss: 0.0040 - accuracy: 0.9992 - auc_12: 0.9361 - val_loss: 0.0036 - val_accuracy: 0.9993 - val_auc_12: 0.9350\n",
      "Epoch 6/30\n",
      "1557/1557 [==============================] - 9s 6ms/step - loss: 0.0038 - accuracy: 0.9992 - auc_12: 0.9255 - val_loss: 0.0035 - val_accuracy: 0.9994 - val_auc_12: 0.9349\n",
      "Epoch 7/30\n",
      "1557/1557 [==============================] - 9s 6ms/step - loss: 0.0035 - accuracy: 0.9991 - auc_12: 0.9425 - val_loss: 0.0034 - val_accuracy: 0.9994 - val_auc_12: 0.9349\n",
      "Epoch 8/30\n",
      "1557/1557 [==============================] - 9s 6ms/step - loss: 0.0039 - accuracy: 0.9990 - auc_12: 0.9423 - val_loss: 0.0035 - val_accuracy: 0.9994 - val_auc_12: 0.9350\n",
      "Epoch 9/30\n",
      "1557/1557 [==============================] - 9s 6ms/step - loss: 0.0033 - accuracy: 0.9992 - auc_12: 0.9424 - val_loss: 0.0036 - val_accuracy: 0.9994 - val_auc_12: 0.9350\n",
      "Epoch 10/30\n",
      "1557/1557 [==============================] - 9s 6ms/step - loss: 0.0033 - accuracy: 0.9992 - auc_12: 0.9536 - val_loss: 0.0034 - val_accuracy: 0.9994 - val_auc_12: 0.9350\n",
      "Epoch 11/30\n",
      "1557/1557 [==============================] - 9s 6ms/step - loss: 0.0033 - accuracy: 0.9992 - auc_12: 0.9597 - val_loss: 0.0034 - val_accuracy: 0.9994 - val_auc_12: 0.9349\n",
      "Epoch 12/30\n",
      "1557/1557 [==============================] - 9s 6ms/step - loss: 0.0031 - accuracy: 0.9992 - auc_12: 0.9651 - val_loss: 0.0035 - val_accuracy: 0.9994 - val_auc_12: 0.9350\n",
      "Epoch 13/30\n",
      "1557/1557 [==============================] - 9s 6ms/step - loss: 0.0029 - accuracy: 0.9993 - auc_12: 0.9653 - val_loss: 0.0034 - val_accuracy: 0.9994 - val_auc_12: 0.9350\n",
      "Epoch 14/30\n",
      "1557/1557 [==============================] - 9s 6ms/step - loss: 0.0032 - accuracy: 0.9992 - auc_12: 0.9597 - val_loss: 0.0033 - val_accuracy: 0.9994 - val_auc_12: 0.9349\n",
      "Epoch 15/30\n",
      "1557/1557 [==============================] - 9s 6ms/step - loss: 0.0029 - accuracy: 0.9991 - auc_12: 0.9654 - val_loss: 0.0033 - val_accuracy: 0.9994 - val_auc_12: 0.9350\n",
      "Epoch 16/30\n",
      "1557/1557 [==============================] - 9s 6ms/step - loss: 0.0028 - accuracy: 0.9993 - auc_12: 0.9543 - val_loss: 0.0034 - val_accuracy: 0.9994 - val_auc_12: 0.9350\n",
      "Epoch 17/30\n",
      "1557/1557 [==============================] - 9s 6ms/step - loss: 0.0028 - accuracy: 0.9993 - auc_12: 0.9655 - val_loss: 0.0034 - val_accuracy: 0.9994 - val_auc_12: 0.9350\n",
      "Epoch 18/30\n",
      "1557/1557 [==============================] - 9s 6ms/step - loss: 0.0025 - accuracy: 0.9992 - auc_12: 0.9601 - val_loss: 0.0033 - val_accuracy: 0.9994 - val_auc_12: 0.9349\n",
      "Epoch 19/30\n",
      "1557/1557 [==============================] - 9s 6ms/step - loss: 0.0025 - accuracy: 0.9993 - auc_12: 0.9713 - val_loss: 0.0034 - val_accuracy: 0.9994 - val_auc_12: 0.9349\n",
      "Epoch 20/30\n",
      "1557/1557 [==============================] - 9s 6ms/step - loss: 0.0028 - accuracy: 0.9993 - auc_12: 0.9598 - val_loss: 0.0034 - val_accuracy: 0.9994 - val_auc_12: 0.9349\n",
      "Epoch 21/30\n",
      "1557/1557 [==============================] - 9s 6ms/step - loss: 0.0023 - accuracy: 0.9993 - auc_12: 0.9882 - val_loss: 0.0033 - val_accuracy: 0.9994 - val_auc_12: 0.9350\n",
      "Epoch 22/30\n",
      "1557/1557 [==============================] - 9s 6ms/step - loss: 0.0026 - accuracy: 0.9992 - auc_12: 0.9656 - val_loss: 0.0034 - val_accuracy: 0.9994 - val_auc_12: 0.9349\n",
      "Epoch 23/30\n",
      "1557/1557 [==============================] - 9s 6ms/step - loss: 0.0023 - accuracy: 0.9993 - auc_12: 0.9880 - val_loss: 0.0033 - val_accuracy: 0.9994 - val_auc_12: 0.9350\n",
      "Epoch 24/30\n",
      "1557/1557 [==============================] - 9s 6ms/step - loss: 0.0023 - accuracy: 0.9994 - auc_12: 0.9826 - val_loss: 0.0034 - val_accuracy: 0.9994 - val_auc_12: 0.9350\n",
      "Epoch 25/30\n",
      "1557/1557 [==============================] - 9s 6ms/step - loss: 0.0022 - accuracy: 0.9993 - auc_12: 0.9882 - val_loss: 0.0033 - val_accuracy: 0.9994 - val_auc_12: 0.9349\n",
      "Epoch 26/30\n",
      "1557/1557 [==============================] - 9s 6ms/step - loss: 0.0021 - accuracy: 0.9994 - auc_12: 0.9770 - val_loss: 0.0034 - val_accuracy: 0.9994 - val_auc_12: 0.9350\n",
      "Epoch 27/30\n",
      "1557/1557 [==============================] - 9s 6ms/step - loss: 0.0023 - accuracy: 0.9993 - auc_12: 0.9826 - val_loss: 0.0034 - val_accuracy: 0.9994 - val_auc_12: 0.9349\n",
      "Epoch 28/30\n",
      "1557/1557 [==============================] - 9s 6ms/step - loss: 0.0021 - accuracy: 0.9993 - auc_12: 0.9882 - val_loss: 0.0032 - val_accuracy: 0.9994 - val_auc_12: 0.9350\n",
      "Epoch 29/30\n",
      "1557/1557 [==============================] - 9s 6ms/step - loss: 0.0022 - accuracy: 0.9994 - auc_12: 0.9770 - val_loss: 0.0032 - val_accuracy: 0.9995 - val_auc_12: 0.9350\n",
      "Epoch 30/30\n",
      "1557/1557 [==============================] - 9s 6ms/step - loss: 0.0022 - accuracy: 0.9992 - auc_12: 0.9770 - val_loss: 0.0032 - val_accuracy: 0.9994 - val_auc_12: 0.9350\n",
      "Best optimizers With Best score:  nan {'optimizer': 'SGD'}\n"
     ]
    }
   ],
   "source": [
    "#  Play with different Learning Rate variants of Gradient Descent like Adam, SGD, RMS-prop\n",
    "optimizers = ['SGD', 'RMSprop', 'Adam']\n",
    "param_grid = dict(optimizer=optimizers)\n",
    "grid = GridSearchCV(estimator = ann_modal, param_grid = param_grid, n_jobs = -1, cv = 3)\n",
    "grid_result = grid.fit(X_train, y_train, validation_data=(X_test, y_test))\n",
    "print(\"Best optimizers With Best score: \",grid_result.best_score_, grid_result.best_params_)"
   ]
  },
  {
   "cell_type": "markdown",
   "metadata": {},
   "source": [
    "#### Perfomace Evalution"
   ]
  },
  {
   "cell_type": "code",
   "execution_count": 64,
   "metadata": {},
   "outputs": [
    {
     "name": "stdout",
     "output_type": "stream",
     "text": [
      "Accuracy Score : 0.8842257877440557\n",
      "f1_score       :  0.0029965040785749956\n"
     ]
    },
    {
     "data": {
      "image/png": "[encoded data removed]",
      "text/plain": [
       "<Figure size 432x288 with 2 Axes>"
      ]
     },
     "metadata": {
      "needs_background": "light"
     },
     "output_type": "display_data"
    }
   ],
   "source": [
    "# ann_predictions = model_building().predict(X_test)\n",
    "ann_predictions = model_building().predict(X_test, verbose=0)\n",
    "yhat_classes = model_building().predict_classes(X_test, verbose=0)\n",
    "yhat_probs = ann_predictions[:, 0]\n",
    "yhat_classes = yhat_classes[:, 0]\n",
    "\n",
    "accuracy = accuracy_score(y_test, yhat_classes)\n",
    "f1 = f1_score(y_test, yhat_classes)\n",
    "\n",
    "cm = tf.math.confusion_matrix(labels=y_test, predictions=ann_predictions, num_classes=2)\n",
    "sns.heatmap(cm, annot=True)\n",
    "\n",
    "print(\"Accuracy Score :\", accuracy)\n",
    "print(\"f1_score       : \", f1)"
   ]
  },
  {
   "cell_type": "markdown",
   "metadata": {},
   "source": [
    "#### After Optimization"
   ]
  },
  {
   "cell_type": "code",
   "execution_count": null,
   "metadata": {},
   "outputs": [],
   "source": [
    "df_train = copy.deepcopy(df_train_original)\n",
    "df_test = copy.deepcopy(df_test_original)\n",
    "\n",
    "df_train.drop(['Time','Amount'], axis=1, inplace=True)\n",
    "df_test.drop(['Time','Amount'], axis=1, inplace=True)\n",
    "df_train.dropna(inplace=True)\n",
    "df_test.dropna(inplace=True)\n",
    "\n",
    "y_train = df_train.pop('Class')\n",
    "X_train = df_train\n",
    "y_test = df_test.pop('Class')\n",
    "X_test = df_test\n",
    "\n",
    "# oversampling tarin data\n",
    "oversample = RandomOverSampler(sampling_strategy='minority')\n",
    "\n",
    "# fit and apply the transform\n",
    "X_train_over, y_train_over = oversample.fit_resample(X_train, y_train)"
   ]
  },
  {
   "cell_type": "code",
   "execution_count": 77,
   "metadata": {},
   "outputs": [
    {
     "name": "stdout",
     "output_type": "stream",
     "text": [
      "Epoch 1/10\n",
      "4982/4982 [==============================] - 26s 5ms/step - loss: 0.0160 - accuracy: 0.9976 - auc_22: 0.7330 - val_loss: 0.0046 - val_accuracy: 0.9986 - val_auc_22: 0.8867\n",
      "Epoch 2/10\n",
      "4982/4982 [==============================] - 26s 5ms/step - loss: 0.0062 - accuracy: 0.9985 - auc_22: 0.9271 - val_loss: 0.0043 - val_accuracy: 0.9993 - val_auc_22: 0.9135\n",
      "Epoch 3/10\n",
      "4982/4982 [==============================] - 26s 5ms/step - loss: 0.0058 - accuracy: 0.9987 - auc_22: 0.9240 - val_loss: 0.0042 - val_accuracy: 0.9993 - val_auc_22: 0.9349\n",
      "Epoch 4/10\n",
      "4982/4982 [==============================] - 26s 5ms/step - loss: 0.0046 - accuracy: 0.9989 - auc_22: 0.9357 - val_loss: 0.0049 - val_accuracy: 0.9993 - val_auc_22: 0.9137\n",
      "Epoch 5/10\n",
      "4982/4982 [==============================] - 26s 5ms/step - loss: 0.0037 - accuracy: 0.9989 - auc_22: 0.9536 - val_loss: 0.0050 - val_accuracy: 0.9993 - val_auc_22: 0.8923\n",
      "Epoch 6/10\n",
      "4982/4982 [==============================] - 26s 5ms/step - loss: 0.0038 - accuracy: 0.9990 - auc_22: 0.9591 - val_loss: 0.0049 - val_accuracy: 0.9993 - val_auc_22: 0.8977\n",
      "Epoch 7/10\n",
      "4982/4982 [==============================] - 26s 5ms/step - loss: 0.0036 - accuracy: 0.9990 - auc_22: 0.9595 - val_loss: 0.0046 - val_accuracy: 0.9993 - val_auc_22: 0.9298\n",
      "Epoch 8/10\n",
      "4982/4982 [==============================] - 26s 5ms/step - loss: 0.0038 - accuracy: 0.9991 - auc_22: 0.9483 - val_loss: 0.0043 - val_accuracy: 0.9993 - val_auc_22: 0.9296\n",
      "Epoch 9/10\n",
      "4982/4982 [==============================] - 26s 5ms/step - loss: 0.0032 - accuracy: 0.9991 - auc_22: 0.9708 - val_loss: 0.0043 - val_accuracy: 0.9993 - val_auc_22: 0.9298\n",
      "Epoch 10/10\n",
      "4982/4982 [==============================] - 26s 5ms/step - loss: 0.0035 - accuracy: 0.9992 - auc_22: 0.9594 - val_loss: 0.0044 - val_accuracy: 0.9993 - val_auc_22: 0.9190\n"
     ]
    }
   ],
   "source": [
    "model = model_building(\"SGD\", 0.2, 0.4)\n",
    "\n",
    "logdir=\"logs/fit/\"+ datetime.now().strftime(\"%Y%m%d-%H%M%S\")\n",
    "tensorboard_callback = tf.keras.callbacks.TensorBoard(log_dir=logdir)\n",
    "history = model.fit(X_train, y_train, epochs=10, batch_size=10, validation_data=(X_test, y_test))"
   ]
  },
  {
   "cell_type": "code",
   "execution_count": 78,
   "metadata": {},
   "outputs": [
    {
     "name": "stdout",
     "output_type": "stream",
     "text": [
      "Accuracy Score : 0.9993427411560023\n",
      "f1_score       :  0.8068181818181818\n"
     ]
    },
    {
     "data": {
      "image/png": "[encoded data removed]",
      "text/plain": [
       "<Figure size 432x288 with 2 Axes>"
      ]
     },
     "metadata": {
      "needs_background": "light"
     },
     "output_type": "display_data"
    }
   ],
   "source": [
    "# ann_predictions = model_building().predict(X_test)\n",
    "ann_predictions = model.predict(X_test, verbose=0)\n",
    "yhat_classes = model.predict_classes(X_test, verbose=0)\n",
    "yhat_probs = ann_predictions[:, 0]\n",
    "yhat_classes = yhat_classes[:, 0]\n",
    "\n",
    "accuracy = accuracy_score(y_test, yhat_classes)\n",
    "f1 = f1_score(y_test, yhat_classes)\n",
    "\n",
    "cm = tf.math.confusion_matrix(labels=y_test, predictions=ann_predictions, num_classes=2)\n",
    "sns.heatmap(cm, annot=True)\n",
    "\n",
    "print(\"Accuracy Score :\", accuracy)\n",
    "print(\"f1_score       : \", f1)"
   ]
  },
  {
   "cell_type": "markdown",
   "metadata": {},
   "source": [
    "#### Anomaly Detection:"
   ]
  },
  {
   "cell_type": "code",
   "execution_count": 65,
   "metadata": {},
   "outputs": [],
   "source": [
    "df_train = copy.deepcopy(df_train_original)\n",
    "df_test = copy.deepcopy(df_test_original)\n",
    "\n",
    "fraud = df_train[df_train['Class'] == 1]\n",
    "valid = df_train[df_train['Class'] == 0]\n",
    "outlier_fraction = len(fraud) / float(len(valid))\n",
    "n_outliers = len(fraud)\n",
    "\n",
    "df_train.dropna(inplace=True)\n",
    "df_test.dropna(inplace=True)\n",
    "\n",
    "y_train = df_train.pop('Class')\n",
    "X_train = df_train"
   ]
  },
  {
   "cell_type": "code",
   "execution_count": 66,
   "metadata": {},
   "outputs": [],
   "source": [
    "\n",
    "classifiers = {\n",
    "    \"Isolation Forest\" : IsolationForest(\n",
    "        n_estimators = 100, \n",
    "        max_samples = len(X_train), \n",
    "        contamination = outlier_fraction,\n",
    "        random_state = 1, \n",
    "        verbose = 1,\n",
    "        n_jobs = -1\n",
    "    ),\n",
    "    \"Local Outlier Factor\" : LocalOutlierFactor(\n",
    "        n_neighbors=20, \n",
    "        algorithm='auto', \n",
    "        leaf_size=30, \n",
    "        metric='minkowski',\n",
    "        p=2, metric_params = None, \n",
    "        contamination = outlier_fraction,\n",
    "        n_jobs = -1\n",
    "    )   \n",
    "}"
   ]
  },
  {
   "cell_type": "code",
   "execution_count": 67,
   "metadata": {},
   "outputs": [
    {
     "name": "stderr",
     "output_type": "stream",
     "text": [
      "[Parallel(n_jobs=4)]: Using backend ThreadingBackend with 4 concurrent workers.\n",
      "[Parallel(n_jobs=4)]: Done   2 out of   4 | elapsed:    0.7s remaining:    0.7s\n",
      "[Parallel(n_jobs=4)]: Done   4 out of   4 | elapsed:    0.7s finished\n"
     ]
    },
    {
     "name": "stdout",
     "output_type": "stream",
     "text": [
      "Isolation Forest: 113\n",
      "Accuracy Score :\n",
      "0.9977317890764568\n",
      "Classification Report :\n",
      "              precision    recall  f1-score   support\n",
      "\n",
      "         0.0       1.00      1.00      1.00     49730\n",
      "         1.0       0.37      0.37      0.37        89\n",
      "\n",
      "    accuracy                           1.00     49819\n",
      "   macro avg       0.68      0.68      0.68     49819\n",
      "weighted avg       1.00      1.00      1.00     49819\n",
      "\n",
      "Local Outlier Factor: 177\n",
      "Accuracy Score :\n",
      "0.9964471386418836\n",
      "Classification Report :\n",
      "              precision    recall  f1-score   support\n",
      "\n",
      "         0.0       1.00      1.00      1.00     49730\n",
      "         1.0       0.01      0.01      0.01        89\n",
      "\n",
      "    accuracy                           1.00     49819\n",
      "   macro avg       0.50      0.50      0.50     49819\n",
      "weighted avg       1.00      1.00      1.00     49819\n",
      "\n"
     ]
    }
   ],
   "source": [
    "\n",
    "for i, (clf_name,clf) in enumerate(classifiers.items()):\n",
    "    #Fit the data and tag outliers\n",
    "    if clf_name == \"Local Outlier Factor\":\n",
    "        y_pred = clf.fit_predict(X_train)\n",
    "        scores_prediction = clf.negative_outlier_factor_\n",
    "    else:    \n",
    "        clf.fit(X_train)\n",
    "        scores_prediction = clf.decision_function(X_train)\n",
    "        y_pred = clf.predict(X_train)\n",
    "    #Reshape the prediction values to 0 for Valid transactions , 1 for Fraud transactions\n",
    "    y_pred[y_pred == 1] = 0\n",
    "    y_pred[y_pred == -1] = 1\n",
    "    n_errors = (y_pred != y_train).sum()\n",
    "    # Run Classification Metrics\n",
    "    print(\"{}: {}\".format(clf_name, n_errors))\n",
    "    print(\"Accuracy Score :\")\n",
    "    print(accuracy_score(y_train, y_pred))\n",
    "    print(\"Classification Report :\")\n",
    "    print(classification_report(y_train, y_pred))"
   ]
  },
  {
   "cell_type": "markdown",
   "metadata": {},
   "source": [
    "### Observations: Week 3\n",
    "- After fine tuning this is the best combination of hyperparsm learn_rate: 0.2, epochs: 50, dropout_rate: 0.4, batch_size: 40, optimization: SGD\n",
    "- ANN oupperfome most, with more than 99% accuracy and 80% of f1 score\n",
    "- In terms of Anomaly Detection Isolation Forest is better compare to Local Outlier Factor"
   ]
  },
  {
   "cell_type": "markdown",
   "metadata": {},
   "source": [
    "### Project Task: Week 4\n",
    "- Visualize the scores for Fraudulent and Non-Fraudulent transactions.\n",
    "- Find out the threshold value for marking or reporting a transaction as fraudulent in your anomaly detection system.\n",
    "- Can this score be used as an engineered feature in the models developed previously? Are there any incremental gains in F1-Score? Why or Why not?\n",
    "- Be as creative as possible in finding other interesting insights."
   ]
  },
  {
   "cell_type": "markdown",
   "metadata": {},
   "source": [
    "##### Visualize the scores for Fraudulent and Non-Fraudulent transactions."
   ]
  },
  {
   "cell_type": "code",
   "execution_count": 2,
   "metadata": {},
   "outputs": [
    {
     "name": "stderr",
     "output_type": "stream",
     "text": [
      "/home/kalesh/anaconda3/lib/python3.8/site-packages/seaborn/_decorators.py:36: FutureWarning: Pass the following variable as a keyword arg: x. From version 0.12, the only valid positional argument will be `data`, and passing other arguments without an explicit keyword will result in an error or misinterpretation.\n",
      "  warnings.warn(\n"
     ]
    },
    {
     "data": {
      "text/plain": [
       "<AxesSubplot:xlabel='Class', ylabel='count'>"
      ]
     },
     "execution_count": 2,
     "metadata": {},
     "output_type": "execute_result"
    },
    {
     "data": {
      "image/png": "[encoded data removed]",
      "text/plain": [
       "<Figure size 432x288 with 1 Axes>"
      ]
     },
     "metadata": {
      "needs_background": "light"
     },
     "output_type": "display_data"
    }
   ],
   "source": [
    "sns.countplot('Class', data=df_train_original)"
   ]
  },
  {
   "cell_type": "markdown",
   "metadata": {},
   "source": [
    "##### Find out the threshold value for marking or reporting a transaction as fraudulent in your anomaly detection system.\n",
    "- the AUC score of ANN traing its more than 91 %,which can use as threshold for Anoamly detection."
   ]
  },
  {
   "cell_type": "markdown",
   "metadata": {},
   "source": [
    "##### Find out the threshold value for marking or reporting a transaction as fraudulent in your anomaly detection system."
   ]
  },
  {
   "cell_type": "markdown",
   "metadata": {},
   "source": [
    "- F1 takes both recall and precission, which make more accurate way to messure perfomance of different modals.\n",
    "- F1 score for neural network model is better than traditional Machine Learning model."
   ]
  },
  {
   "cell_type": "markdown",
   "metadata": {},
   "source": [
    "##### Be as creative as possible in finding other interesting insights.\n",
    "- The training data contains two days of data, transaction rate day time much more than compare to nights\n",
    "- The fraudulent transaction had less ammount\n",
    "- The time and ammount had no correlation in fraudulent transaction"
   ]
  }
 ],
 "metadata": {
  "instance_type": "ml.g4dn.xlarge",
  "kernelspec": {
   "display_name": "Python 3",
   "language": "python",
   "name": "python3"
  },
  "language_info": {
   "codemirror_mode": {
    "name": "ipython",
    "version": 3
   },
   "file_extension": ".py",
   "mimetype": "text/x-python",
   "name": "python",
   "nbconvert_exporter": "python",
   "pygments_lexer": "ipython3",
   "version": "3.8.5"
  }
 },
 "nbformat": 4,
 "nbformat_minor": 5
}
