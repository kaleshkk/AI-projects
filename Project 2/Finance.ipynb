{
 "cells": [
  {
   "cell_type": "markdown",
   "id": "spanish-duplicate",
   "metadata": {},
   "source": [
    "# Project 2 - Finance"
   ]
  },
  {
   "cell_type": "markdown",
   "id": "blind-easter",
   "metadata": {},
   "source": [
    "### DESCRIPTION"
   ]
  },
  {
   "cell_type": "markdown",
   "id": "executed-cambridge",
   "metadata": {},
   "source": [
    "#### Problem Statement\n",
    "- Finance Industry is the biggest consumer of Data Scientists. It faces constant attack by fraudsters, who try to trick the system. Correctly identifying fraudulent transactions is often compared with finding needle in a haystack because of the low event rate. \n",
    "- It is important that credit card companies are able to recognize fraudulent credit card transactions so that the customers are not charged for items that they did not purchase.\n",
    "You are required to try various techniques such as supervised models with oversampling, unsupervised anomaly detection, and heuristics to get good accuracy at fraud detection."
   ]
  },
  {
   "cell_type": "markdown",
   "id": "stuck-nickel",
   "metadata": {},
   "source": [
    "#### Dataset Snapshot\n",
    "\n",
    "The datasets contain transactions made by credit cards in September 2013 by European cardholders. This dataset represents transactions that occurred in two days, where we have 492 frauds out of 284,807 transactions. The dataset is highly unbalanced, the positive class (frauds) account for 0.172% of all transactions."
   ]
  },
  {
   "cell_type": "markdown",
   "id": "interstate-transsexual",
   "metadata": {},
   "source": [
    "### Project Task: Week 1\n",
    "\n",
    "#### Exploratory Data Analysis (EDA):\n",
    "- Perform an EDA on the Dataset.\n",
    "      - Check all the latent features and parameters with their mean and standard deviation. Value are close to 0 centered (mean) with unit standard deviation\n",
    "      - Find if there is any connection between Time, Amount, and the transaction being fraudulent.\n",
    "- Check the class count for each class. It’s a class Imbalance problem.\n",
    "- Use techniques like undersampling or oversampling before running Naïve Bayes, Logistic Regression or SVM.\n",
    "       - Oversampling or undersampling can be used to tackle the class imbalance problem\n",
    "       - Oversampling increases the prior probability of imbalanced class and in case of other classifiers, error gets multiplied as the low-proportionate class is mimicked multiple times.\n",
    "- Following are the matrices for evaluating the model performance: Precision, Recall, F1-Score, AUC-ROC curve. Use F1-Score as the evaluation criteria for this project."
   ]
  },
  {
   "cell_type": "code",
   "execution_count": 1,
   "id": "chemical-prefix",
   "metadata": {},
   "outputs": [],
   "source": [
    "# !pip install matplotlib\n",
    "# !python -m pip install seaborn\n",
    "# !pip install -U imbalanced-learn\n",
    "# !pip install delayed\n",
    "# !pip install xgboost"
   ]
  },
  {
   "cell_type": "code",
   "execution_count": 2,
   "id": "arbitrary-velvet",
   "metadata": {},
   "outputs": [],
   "source": [
    "import pandas as pd\n",
    "from matplotlib import pyplot as plt\n",
    "import seaborn as sns\n",
    "import numpy as np\n",
    "import copy\n",
    "import time\n",
    "import sys\n",
    "from datetime import datetime\n",
    "\n",
    "from sklearn.preprocessing import RobustScaler\n",
    "\n",
    "from imblearn.over_sampling import RandomOverSampler\n",
    "from imblearn.under_sampling import RandomUnderSampler\n",
    "\n",
    "from sklearn.metrics import confusion_matrix, accuracy_score, classification_report, plot_roc_curve, auc, f1_score, precision_score, recall_score\n",
    "from sklearn.preprocessing import StandardScaler\n",
    "from sklearn.model_selection import GridSearchCV, cross_val_score, KFold, RandomizedSearchCV\n",
    "from sklearn.pipeline import Pipeline\n",
    "\n",
    "from sklearn.linear_model import SGDClassifier, LogisticRegression\n",
    "from sklearn.svm import SVC\n",
    "from sklearn.naive_bayes import GaussianNB, MultinomialNB\n",
    "\n",
    "from sklearn.ensemble import RandomForestClassifier, BaggingClassifier, GradientBoostingClassifier, ExtraTreesClassifier, AdaBoostClassifier\n",
    "import xgboost as xgb\n",
    "\n",
    "import tensorflow as tf\n",
    "from tensorflow.keras import Sequential\n",
    "from tensorflow.keras.layers import Dense,BatchNormalization,Dropout\n",
    "from tensorflow.keras.wrappers.scikit_learn import KerasClassifier\n",
    "\n",
    "from sklearn.ensemble import IsolationForest\n",
    "from sklearn.neighbors import LocalOutlierFactor"
   ]
  },
  {
   "cell_type": "code",
   "execution_count": 3,
   "id": "everyday-southeast",
   "metadata": {},
   "outputs": [],
   "source": [
    "# read data\n",
    "df_train_original = pd.read_csv('./dataset/train_data.csv')\n",
    "df_test_original = pd.read_csv('./dataset/test_data_hidden.csv')\n",
    "# df_test_original = pd.read_csv('./dataset/test_data.csv')"
   ]
  },
  {
   "cell_type": "code",
   "execution_count": 4,
   "id": "sophisticated-davis",
   "metadata": {},
   "outputs": [],
   "source": [
    "df_train = copy.deepcopy(df_train_original)\n",
    "df_test = copy.deepcopy(df_test_original)"
   ]
  },
  {
   "cell_type": "code",
   "execution_count": 5,
   "id": "swedish-material",
   "metadata": {},
   "outputs": [
    {
     "name": "stdout",
     "output_type": "stream",
     "text": [
      "(227845, 31)\n",
      "(56962, 31)\n"
     ]
    }
   ],
   "source": [
    "print(df_train.shape)\n",
    "print(df_test.shape)"
   ]
  },
  {
   "cell_type": "code",
   "execution_count": 6,
   "id": "matched-adams",
   "metadata": {},
   "outputs": [
    {
     "data": {
      "text/html": [
       "<div>\n",
       "<style scoped>\n",
       "    .dataframe tbody tr th:only-of-type {\n",
       "        vertical-align: middle;\n",
       "    }\n",
       "\n",
       "    .dataframe tbody tr th {\n",
       "        vertical-align: top;\n",
       "    }\n",
       "\n",
       "    .dataframe thead th {\n",
       "        text-align: right;\n",
       "    }\n",
       "</style>\n",
       "<table border=\"1\" class=\"dataframe\">\n",
       "  <thead>\n",
       "    <tr style=\"text-align: right;\">\n",
       "      <th></th>\n",
       "      <th>Time</th>\n",
       "      <th>V1</th>\n",
       "      <th>V2</th>\n",
       "      <th>V3</th>\n",
       "      <th>V4</th>\n",
       "      <th>V5</th>\n",
       "      <th>V6</th>\n",
       "      <th>V7</th>\n",
       "      <th>V8</th>\n",
       "      <th>V9</th>\n",
       "      <th>...</th>\n",
       "      <th>V21</th>\n",
       "      <th>V22</th>\n",
       "      <th>V23</th>\n",
       "      <th>V24</th>\n",
       "      <th>V25</th>\n",
       "      <th>V26</th>\n",
       "      <th>V27</th>\n",
       "      <th>V28</th>\n",
       "      <th>Amount</th>\n",
       "      <th>Class</th>\n",
       "    </tr>\n",
       "  </thead>\n",
       "  <tbody>\n",
       "    <tr>\n",
       "      <th>0</th>\n",
       "      <td>38355.0</td>\n",
       "      <td>1.043949</td>\n",
       "      <td>0.318555</td>\n",
       "      <td>1.045810</td>\n",
       "      <td>2.805989</td>\n",
       "      <td>-0.561113</td>\n",
       "      <td>-0.367956</td>\n",
       "      <td>0.032736</td>\n",
       "      <td>-0.042333</td>\n",
       "      <td>-0.322674</td>\n",
       "      <td>...</td>\n",
       "      <td>-0.240105</td>\n",
       "      <td>-0.680315</td>\n",
       "      <td>0.085328</td>\n",
       "      <td>0.684812</td>\n",
       "      <td>0.318620</td>\n",
       "      <td>-0.204963</td>\n",
       "      <td>0.001662</td>\n",
       "      <td>0.037894</td>\n",
       "      <td>49.67</td>\n",
       "      <td>0</td>\n",
       "    </tr>\n",
       "    <tr>\n",
       "      <th>1</th>\n",
       "      <td>22555.0</td>\n",
       "      <td>-1.665159</td>\n",
       "      <td>0.808440</td>\n",
       "      <td>1.805627</td>\n",
       "      <td>1.903416</td>\n",
       "      <td>-0.821627</td>\n",
       "      <td>0.934790</td>\n",
       "      <td>-0.824802</td>\n",
       "      <td>0.975890</td>\n",
       "      <td>1.747469</td>\n",
       "      <td>...</td>\n",
       "      <td>-0.335332</td>\n",
       "      <td>-0.510994</td>\n",
       "      <td>0.035839</td>\n",
       "      <td>0.147565</td>\n",
       "      <td>-0.529358</td>\n",
       "      <td>-0.566950</td>\n",
       "      <td>-0.595998</td>\n",
       "      <td>-0.220086</td>\n",
       "      <td>16.94</td>\n",
       "      <td>0</td>\n",
       "    </tr>\n",
       "    <tr>\n",
       "      <th>2</th>\n",
       "      <td>2431.0</td>\n",
       "      <td>-0.324096</td>\n",
       "      <td>0.601836</td>\n",
       "      <td>0.865329</td>\n",
       "      <td>-2.138000</td>\n",
       "      <td>0.294663</td>\n",
       "      <td>-1.251553</td>\n",
       "      <td>1.072114</td>\n",
       "      <td>-0.334896</td>\n",
       "      <td>1.071268</td>\n",
       "      <td>...</td>\n",
       "      <td>0.012220</td>\n",
       "      <td>0.352856</td>\n",
       "      <td>-0.341505</td>\n",
       "      <td>-0.145791</td>\n",
       "      <td>0.094194</td>\n",
       "      <td>-0.804026</td>\n",
       "      <td>0.229428</td>\n",
       "      <td>-0.021623</td>\n",
       "      <td>1.00</td>\n",
       "      <td>0</td>\n",
       "    </tr>\n",
       "    <tr>\n",
       "      <th>3</th>\n",
       "      <td>86773.0</td>\n",
       "      <td>-0.258270</td>\n",
       "      <td>1.217501</td>\n",
       "      <td>-0.585348</td>\n",
       "      <td>-0.875347</td>\n",
       "      <td>1.222481</td>\n",
       "      <td>-0.311027</td>\n",
       "      <td>1.073860</td>\n",
       "      <td>-0.161408</td>\n",
       "      <td>0.200665</td>\n",
       "      <td>...</td>\n",
       "      <td>-0.424626</td>\n",
       "      <td>-0.781158</td>\n",
       "      <td>0.019316</td>\n",
       "      <td>0.178614</td>\n",
       "      <td>-0.315616</td>\n",
       "      <td>0.096665</td>\n",
       "      <td>0.269740</td>\n",
       "      <td>-0.020635</td>\n",
       "      <td>10.78</td>\n",
       "      <td>0</td>\n",
       "    </tr>\n",
       "    <tr>\n",
       "      <th>4</th>\n",
       "      <td>127202.0</td>\n",
       "      <td>2.142162</td>\n",
       "      <td>-0.494988</td>\n",
       "      <td>-1.936511</td>\n",
       "      <td>-0.818288</td>\n",
       "      <td>-0.025213</td>\n",
       "      <td>-1.027245</td>\n",
       "      <td>-0.151627</td>\n",
       "      <td>-0.305750</td>\n",
       "      <td>-0.869482</td>\n",
       "      <td>...</td>\n",
       "      <td>0.010115</td>\n",
       "      <td>0.021722</td>\n",
       "      <td>0.079463</td>\n",
       "      <td>-0.480899</td>\n",
       "      <td>0.023846</td>\n",
       "      <td>-0.279076</td>\n",
       "      <td>-0.030121</td>\n",
       "      <td>-0.043888</td>\n",
       "      <td>39.96</td>\n",
       "      <td>0</td>\n",
       "    </tr>\n",
       "  </tbody>\n",
       "</table>\n",
       "<p>5 rows × 31 columns</p>\n",
       "</div>"
      ],
      "text/plain": [
       "       Time        V1        V2        V3        V4        V5        V6  \\\n",
       "0   38355.0  1.043949  0.318555  1.045810  2.805989 -0.561113 -0.367956   \n",
       "1   22555.0 -1.665159  0.808440  1.805627  1.903416 -0.821627  0.934790   \n",
       "2    2431.0 -0.324096  0.601836  0.865329 -2.138000  0.294663 -1.251553   \n",
       "3   86773.0 -0.258270  1.217501 -0.585348 -0.875347  1.222481 -0.311027   \n",
       "4  127202.0  2.142162 -0.494988 -1.936511 -0.818288 -0.025213 -1.027245   \n",
       "\n",
       "         V7        V8        V9  ...       V21       V22       V23       V24  \\\n",
       "0  0.032736 -0.042333 -0.322674  ... -0.240105 -0.680315  0.085328  0.684812   \n",
       "1 -0.824802  0.975890  1.747469  ... -0.335332 -0.510994  0.035839  0.147565   \n",
       "2  1.072114 -0.334896  1.071268  ...  0.012220  0.352856 -0.341505 -0.145791   \n",
       "3  1.073860 -0.161408  0.200665  ... -0.424626 -0.781158  0.019316  0.178614   \n",
       "4 -0.151627 -0.305750 -0.869482  ...  0.010115  0.021722  0.079463 -0.480899   \n",
       "\n",
       "        V25       V26       V27       V28  Amount  Class  \n",
       "0  0.318620 -0.204963  0.001662  0.037894   49.67      0  \n",
       "1 -0.529358 -0.566950 -0.595998 -0.220086   16.94      0  \n",
       "2  0.094194 -0.804026  0.229428 -0.021623    1.00      0  \n",
       "3 -0.315616  0.096665  0.269740 -0.020635   10.78      0  \n",
       "4  0.023846 -0.279076 -0.030121 -0.043888   39.96      0  \n",
       "\n",
       "[5 rows x 31 columns]"
      ]
     },
     "execution_count": 6,
     "metadata": {},
     "output_type": "execute_result"
    }
   ],
   "source": [
    "df_train.head(5)"
   ]
  },
  {
   "cell_type": "code",
   "execution_count": 7,
   "id": "fabulous-plaza",
   "metadata": {},
   "outputs": [
    {
     "data": {
      "text/html": [
       "<div>\n",
       "<style scoped>\n",
       "    .dataframe tbody tr th:only-of-type {\n",
       "        vertical-align: middle;\n",
       "    }\n",
       "\n",
       "    .dataframe tbody tr th {\n",
       "        vertical-align: top;\n",
       "    }\n",
       "\n",
       "    .dataframe thead th {\n",
       "        text-align: right;\n",
       "    }\n",
       "</style>\n",
       "<table border=\"1\" class=\"dataframe\">\n",
       "  <thead>\n",
       "    <tr style=\"text-align: right;\">\n",
       "      <th></th>\n",
       "      <th>Time</th>\n",
       "      <th>V1</th>\n",
       "      <th>V2</th>\n",
       "      <th>V3</th>\n",
       "      <th>V4</th>\n",
       "      <th>V5</th>\n",
       "      <th>V6</th>\n",
       "      <th>V7</th>\n",
       "      <th>V8</th>\n",
       "      <th>V9</th>\n",
       "      <th>...</th>\n",
       "      <th>V21</th>\n",
       "      <th>V22</th>\n",
       "      <th>V23</th>\n",
       "      <th>V24</th>\n",
       "      <th>V25</th>\n",
       "      <th>V26</th>\n",
       "      <th>V27</th>\n",
       "      <th>V28</th>\n",
       "      <th>Amount</th>\n",
       "      <th>Class</th>\n",
       "    </tr>\n",
       "  </thead>\n",
       "  <tbody>\n",
       "    <tr>\n",
       "      <th>0</th>\n",
       "      <td>113050.0</td>\n",
       "      <td>0.114697</td>\n",
       "      <td>0.796303</td>\n",
       "      <td>-0.149553</td>\n",
       "      <td>-0.823011</td>\n",
       "      <td>0.878763</td>\n",
       "      <td>-0.553152</td>\n",
       "      <td>0.939259</td>\n",
       "      <td>-0.108502</td>\n",
       "      <td>0.111137</td>\n",
       "      <td>...</td>\n",
       "      <td>-0.335776</td>\n",
       "      <td>-0.807853</td>\n",
       "      <td>-0.055940</td>\n",
       "      <td>-1.025281</td>\n",
       "      <td>-0.369557</td>\n",
       "      <td>0.204653</td>\n",
       "      <td>0.242724</td>\n",
       "      <td>0.085713</td>\n",
       "      <td>0.89</td>\n",
       "      <td>0</td>\n",
       "    </tr>\n",
       "    <tr>\n",
       "      <th>1</th>\n",
       "      <td>26667.0</td>\n",
       "      <td>-0.039318</td>\n",
       "      <td>0.495784</td>\n",
       "      <td>-0.810884</td>\n",
       "      <td>0.546693</td>\n",
       "      <td>1.986257</td>\n",
       "      <td>4.386342</td>\n",
       "      <td>-1.344891</td>\n",
       "      <td>-1.743736</td>\n",
       "      <td>-0.563103</td>\n",
       "      <td>...</td>\n",
       "      <td>-1.377003</td>\n",
       "      <td>-0.072200</td>\n",
       "      <td>-0.197573</td>\n",
       "      <td>1.014807</td>\n",
       "      <td>1.011293</td>\n",
       "      <td>-0.167684</td>\n",
       "      <td>0.113136</td>\n",
       "      <td>0.256836</td>\n",
       "      <td>85.00</td>\n",
       "      <td>0</td>\n",
       "    </tr>\n",
       "    <tr>\n",
       "      <th>2</th>\n",
       "      <td>159519.0</td>\n",
       "      <td>2.275706</td>\n",
       "      <td>-1.531508</td>\n",
       "      <td>-1.021969</td>\n",
       "      <td>-1.602152</td>\n",
       "      <td>-1.220329</td>\n",
       "      <td>-0.462376</td>\n",
       "      <td>-1.196485</td>\n",
       "      <td>-0.147058</td>\n",
       "      <td>-0.950224</td>\n",
       "      <td>...</td>\n",
       "      <td>-0.193271</td>\n",
       "      <td>-0.103533</td>\n",
       "      <td>0.150945</td>\n",
       "      <td>-0.811083</td>\n",
       "      <td>-0.197913</td>\n",
       "      <td>-0.128446</td>\n",
       "      <td>0.014197</td>\n",
       "      <td>-0.051289</td>\n",
       "      <td>42.70</td>\n",
       "      <td>0</td>\n",
       "    </tr>\n",
       "    <tr>\n",
       "      <th>3</th>\n",
       "      <td>137545.0</td>\n",
       "      <td>1.940137</td>\n",
       "      <td>-0.357671</td>\n",
       "      <td>-1.210551</td>\n",
       "      <td>0.382523</td>\n",
       "      <td>0.050823</td>\n",
       "      <td>-0.171322</td>\n",
       "      <td>-0.109124</td>\n",
       "      <td>-0.002115</td>\n",
       "      <td>0.869258</td>\n",
       "      <td>...</td>\n",
       "      <td>0.157994</td>\n",
       "      <td>0.650355</td>\n",
       "      <td>0.034206</td>\n",
       "      <td>0.739535</td>\n",
       "      <td>0.223605</td>\n",
       "      <td>-0.195509</td>\n",
       "      <td>-0.012791</td>\n",
       "      <td>-0.056841</td>\n",
       "      <td>29.99</td>\n",
       "      <td>0</td>\n",
       "    </tr>\n",
       "    <tr>\n",
       "      <th>4</th>\n",
       "      <td>63369.0</td>\n",
       "      <td>1.081395</td>\n",
       "      <td>-0.502615</td>\n",
       "      <td>1.075887</td>\n",
       "      <td>-0.543359</td>\n",
       "      <td>-1.472946</td>\n",
       "      <td>-1.065484</td>\n",
       "      <td>-0.443231</td>\n",
       "      <td>-0.143374</td>\n",
       "      <td>1.659826</td>\n",
       "      <td>...</td>\n",
       "      <td>0.224157</td>\n",
       "      <td>0.821209</td>\n",
       "      <td>-0.137223</td>\n",
       "      <td>0.986259</td>\n",
       "      <td>0.563228</td>\n",
       "      <td>-0.574206</td>\n",
       "      <td>0.089673</td>\n",
       "      <td>0.052036</td>\n",
       "      <td>68.00</td>\n",
       "      <td>0</td>\n",
       "    </tr>\n",
       "  </tbody>\n",
       "</table>\n",
       "<p>5 rows × 31 columns</p>\n",
       "</div>"
      ],
      "text/plain": [
       "       Time        V1        V2        V3        V4        V5        V6  \\\n",
       "0  113050.0  0.114697  0.796303 -0.149553 -0.823011  0.878763 -0.553152   \n",
       "1   26667.0 -0.039318  0.495784 -0.810884  0.546693  1.986257  4.386342   \n",
       "2  159519.0  2.275706 -1.531508 -1.021969 -1.602152 -1.220329 -0.462376   \n",
       "3  137545.0  1.940137 -0.357671 -1.210551  0.382523  0.050823 -0.171322   \n",
       "4   63369.0  1.081395 -0.502615  1.075887 -0.543359 -1.472946 -1.065484   \n",
       "\n",
       "         V7        V8        V9  ...       V21       V22       V23       V24  \\\n",
       "0  0.939259 -0.108502  0.111137  ... -0.335776 -0.807853 -0.055940 -1.025281   \n",
       "1 -1.344891 -1.743736 -0.563103  ... -1.377003 -0.072200 -0.197573  1.014807   \n",
       "2 -1.196485 -0.147058 -0.950224  ... -0.193271 -0.103533  0.150945 -0.811083   \n",
       "3 -0.109124 -0.002115  0.869258  ...  0.157994  0.650355  0.034206  0.739535   \n",
       "4 -0.443231 -0.143374  1.659826  ...  0.224157  0.821209 -0.137223  0.986259   \n",
       "\n",
       "        V25       V26       V27       V28  Amount  Class  \n",
       "0 -0.369557  0.204653  0.242724  0.085713    0.89      0  \n",
       "1  1.011293 -0.167684  0.113136  0.256836   85.00      0  \n",
       "2 -0.197913 -0.128446  0.014197 -0.051289   42.70      0  \n",
       "3  0.223605 -0.195509 -0.012791 -0.056841   29.99      0  \n",
       "4  0.563228 -0.574206  0.089673  0.052036   68.00      0  \n",
       "\n",
       "[5 rows x 31 columns]"
      ]
     },
     "execution_count": 7,
     "metadata": {},
     "output_type": "execute_result"
    }
   ],
   "source": [
    "df_test.head(5)"
   ]
  },
  {
   "cell_type": "code",
   "execution_count": 8,
   "id": "constitutional-murray",
   "metadata": {},
   "outputs": [
    {
     "name": "stdout",
     "output_type": "stream",
     "text": [
      "number of duplicate train rows:  (745, 31)\n"
     ]
    }
   ],
   "source": [
    "# Rows containing train duplicate data\n",
    "duplicate_rows_df_train = df_train[df_train.duplicated()]\n",
    "print(\"number of duplicate train rows: \", duplicate_rows_df_train.shape)"
   ]
  },
  {
   "cell_type": "code",
   "execution_count": 9,
   "id": "following-passport",
   "metadata": {
    "scrolled": true
   },
   "outputs": [
    {
     "name": "stdout",
     "output_type": "stream",
     "text": [
      "number of duplicate test rows:  (46, 31)\n"
     ]
    }
   ],
   "source": [
    "# Rows containing test duplicate data\n",
    "duplicate_rows_df_train = df_test[df_test.duplicated()]\n",
    "print(\"number of duplicate test rows: \", duplicate_rows_df_train.shape)"
   ]
  },
  {
   "cell_type": "code",
   "execution_count": 10,
   "id": "cellular-universal",
   "metadata": {},
   "outputs": [],
   "source": [
    "# Remove duplicate entires\n",
    "df_train = df_train.drop_duplicates()\n",
    "df_test = df_test.drop_duplicates()"
   ]
  },
  {
   "cell_type": "code",
   "execution_count": 11,
   "id": "considered-ranking",
   "metadata": {
    "scrolled": true
   },
   "outputs": [
    {
     "name": "stdout",
     "output_type": "stream",
     "text": [
      "(227100, 31)\n",
      "(56916, 31)\n"
     ]
    }
   ],
   "source": [
    "print(df_train.shape)\n",
    "print(df_test.shape)"
   ]
  },
  {
   "cell_type": "markdown",
   "id": "nasty-injection",
   "metadata": {},
   "source": [
    "#### 1.a Check all the latent features and parameters with their mean and standard deviation. Value are close to 0 centered (mean)"
   ]
  },
  {
   "cell_type": "code",
   "execution_count": 12,
   "id": "banner-hands",
   "metadata": {},
   "outputs": [
    {
     "data": {
      "text/html": [
       "<div>\n",
       "<style scoped>\n",
       "    .dataframe tbody tr th:only-of-type {\n",
       "        vertical-align: middle;\n",
       "    }\n",
       "\n",
       "    .dataframe tbody tr th {\n",
       "        vertical-align: top;\n",
       "    }\n",
       "\n",
       "    .dataframe thead th {\n",
       "        text-align: right;\n",
       "    }\n",
       "</style>\n",
       "<table border=\"1\" class=\"dataframe\">\n",
       "  <thead>\n",
       "    <tr style=\"text-align: right;\">\n",
       "      <th></th>\n",
       "      <th>count</th>\n",
       "      <th>mean</th>\n",
       "      <th>std</th>\n",
       "      <th>min</th>\n",
       "      <th>25%</th>\n",
       "      <th>50%</th>\n",
       "      <th>75%</th>\n",
       "      <th>max</th>\n",
       "    </tr>\n",
       "  </thead>\n",
       "  <tbody>\n",
       "    <tr>\n",
       "      <th>Time</th>\n",
       "      <td>227100.0</td>\n",
       "      <td>94746.494302</td>\n",
       "      <td>47495.251605</td>\n",
       "      <td>0.000000</td>\n",
       "      <td>54182.000000</td>\n",
       "      <td>84604.500000</td>\n",
       "      <td>139320.000000</td>\n",
       "      <td>172792.000000</td>\n",
       "    </tr>\n",
       "    <tr>\n",
       "      <th>V1</th>\n",
       "      <td>227100.0</td>\n",
       "      <td>0.001791</td>\n",
       "      <td>1.952816</td>\n",
       "      <td>-56.407510</td>\n",
       "      <td>-0.919384</td>\n",
       "      <td>0.015127</td>\n",
       "      <td>1.315237</td>\n",
       "      <td>2.454930</td>\n",
       "    </tr>\n",
       "    <tr>\n",
       "      <th>V2</th>\n",
       "      <td>227100.0</td>\n",
       "      <td>-0.005301</td>\n",
       "      <td>1.656315</td>\n",
       "      <td>-72.715728</td>\n",
       "      <td>-0.599724</td>\n",
       "      <td>0.064965</td>\n",
       "      <td>0.801545</td>\n",
       "      <td>22.057729</td>\n",
       "    </tr>\n",
       "    <tr>\n",
       "      <th>V3</th>\n",
       "      <td>227100.0</td>\n",
       "      <td>0.002509</td>\n",
       "      <td>1.508516</td>\n",
       "      <td>-32.965346</td>\n",
       "      <td>-0.888268</td>\n",
       "      <td>0.182346</td>\n",
       "      <td>1.029116</td>\n",
       "      <td>9.382558</td>\n",
       "    </tr>\n",
       "    <tr>\n",
       "      <th>V4</th>\n",
       "      <td>227100.0</td>\n",
       "      <td>-0.003076</td>\n",
       "      <td>1.413476</td>\n",
       "      <td>-5.683171</td>\n",
       "      <td>-0.850272</td>\n",
       "      <td>-0.021486</td>\n",
       "      <td>0.741161</td>\n",
       "      <td>16.875344</td>\n",
       "    </tr>\n",
       "    <tr>\n",
       "      <th>V5</th>\n",
       "      <td>227100.0</td>\n",
       "      <td>0.002376</td>\n",
       "      <td>1.363908</td>\n",
       "      <td>-42.147898</td>\n",
       "      <td>-0.689235</td>\n",
       "      <td>-0.054442</td>\n",
       "      <td>0.611081</td>\n",
       "      <td>34.801666</td>\n",
       "    </tr>\n",
       "    <tr>\n",
       "      <th>V6</th>\n",
       "      <td>227100.0</td>\n",
       "      <td>-0.000122</td>\n",
       "      <td>1.324954</td>\n",
       "      <td>-26.160506</td>\n",
       "      <td>-0.768359</td>\n",
       "      <td>-0.273776</td>\n",
       "      <td>0.398910</td>\n",
       "      <td>22.529298</td>\n",
       "    </tr>\n",
       "    <tr>\n",
       "      <th>V7</th>\n",
       "      <td>227100.0</td>\n",
       "      <td>0.001644</td>\n",
       "      <td>1.209975</td>\n",
       "      <td>-43.557242</td>\n",
       "      <td>-0.553775</td>\n",
       "      <td>0.040905</td>\n",
       "      <td>0.570641</td>\n",
       "      <td>36.877368</td>\n",
       "    </tr>\n",
       "    <tr>\n",
       "      <th>V8</th>\n",
       "      <td>227100.0</td>\n",
       "      <td>0.001277</td>\n",
       "      <td>1.175528</td>\n",
       "      <td>-73.216718</td>\n",
       "      <td>-0.207922</td>\n",
       "      <td>0.022600</td>\n",
       "      <td>0.326712</td>\n",
       "      <td>20.007208</td>\n",
       "    </tr>\n",
       "    <tr>\n",
       "      <th>V9</th>\n",
       "      <td>227100.0</td>\n",
       "      <td>-0.001757</td>\n",
       "      <td>1.094564</td>\n",
       "      <td>-13.434066</td>\n",
       "      <td>-0.644311</td>\n",
       "      <td>-0.052059</td>\n",
       "      <td>0.595705</td>\n",
       "      <td>15.594995</td>\n",
       "    </tr>\n",
       "    <tr>\n",
       "      <th>V10</th>\n",
       "      <td>227100.0</td>\n",
       "      <td>-0.002157</td>\n",
       "      <td>1.075832</td>\n",
       "      <td>-24.588262</td>\n",
       "      <td>-0.535715</td>\n",
       "      <td>-0.092329</td>\n",
       "      <td>0.453780</td>\n",
       "      <td>23.745136</td>\n",
       "    </tr>\n",
       "    <tr>\n",
       "      <th>V11</th>\n",
       "      <td>227100.0</td>\n",
       "      <td>0.002234</td>\n",
       "      <td>1.020356</td>\n",
       "      <td>-4.797473</td>\n",
       "      <td>-0.760389</td>\n",
       "      <td>-0.029174</td>\n",
       "      <td>0.742567</td>\n",
       "      <td>11.669205</td>\n",
       "    </tr>\n",
       "    <tr>\n",
       "      <th>V12</th>\n",
       "      <td>227100.0</td>\n",
       "      <td>-0.000552</td>\n",
       "      <td>0.996184</td>\n",
       "      <td>-18.683715</td>\n",
       "      <td>-0.405886</td>\n",
       "      <td>0.139197</td>\n",
       "      <td>0.617412</td>\n",
       "      <td>7.848392</td>\n",
       "    </tr>\n",
       "    <tr>\n",
       "      <th>V13</th>\n",
       "      <td>227100.0</td>\n",
       "      <td>0.000600</td>\n",
       "      <td>0.995594</td>\n",
       "      <td>-5.791881</td>\n",
       "      <td>-0.648133</td>\n",
       "      <td>-0.012966</td>\n",
       "      <td>0.661575</td>\n",
       "      <td>4.465413</td>\n",
       "    </tr>\n",
       "    <tr>\n",
       "      <th>V14</th>\n",
       "      <td>227100.0</td>\n",
       "      <td>0.001129</td>\n",
       "      <td>0.954579</td>\n",
       "      <td>-18.822087</td>\n",
       "      <td>-0.425865</td>\n",
       "      <td>0.051244</td>\n",
       "      <td>0.493849</td>\n",
       "      <td>10.526766</td>\n",
       "    </tr>\n",
       "    <tr>\n",
       "      <th>V15</th>\n",
       "      <td>227100.0</td>\n",
       "      <td>0.000144</td>\n",
       "      <td>0.915634</td>\n",
       "      <td>-4.498945</td>\n",
       "      <td>-0.583381</td>\n",
       "      <td>0.048338</td>\n",
       "      <td>0.649825</td>\n",
       "      <td>5.825654</td>\n",
       "    </tr>\n",
       "    <tr>\n",
       "      <th>V16</th>\n",
       "      <td>227100.0</td>\n",
       "      <td>0.001343</td>\n",
       "      <td>0.873831</td>\n",
       "      <td>-14.129855</td>\n",
       "      <td>-0.465941</td>\n",
       "      <td>0.067024</td>\n",
       "      <td>0.524028</td>\n",
       "      <td>8.289890</td>\n",
       "    </tr>\n",
       "    <tr>\n",
       "      <th>V17</th>\n",
       "      <td>227100.0</td>\n",
       "      <td>0.000099</td>\n",
       "      <td>0.846407</td>\n",
       "      <td>-25.162799</td>\n",
       "      <td>-0.483653</td>\n",
       "      <td>-0.065548</td>\n",
       "      <td>0.398267</td>\n",
       "      <td>9.253526</td>\n",
       "    </tr>\n",
       "    <tr>\n",
       "      <th>V18</th>\n",
       "      <td>227100.0</td>\n",
       "      <td>0.000341</td>\n",
       "      <td>0.838143</td>\n",
       "      <td>-9.498746</td>\n",
       "      <td>-0.498878</td>\n",
       "      <td>-0.001981</td>\n",
       "      <td>0.501533</td>\n",
       "      <td>5.041069</td>\n",
       "    </tr>\n",
       "    <tr>\n",
       "      <th>V19</th>\n",
       "      <td>227100.0</td>\n",
       "      <td>-0.000343</td>\n",
       "      <td>0.812156</td>\n",
       "      <td>-7.213527</td>\n",
       "      <td>-0.456449</td>\n",
       "      <td>0.003474</td>\n",
       "      <td>0.458762</td>\n",
       "      <td>5.572113</td>\n",
       "    </tr>\n",
       "    <tr>\n",
       "      <th>V20</th>\n",
       "      <td>227100.0</td>\n",
       "      <td>0.000813</td>\n",
       "      <td>0.771551</td>\n",
       "      <td>-28.009635</td>\n",
       "      <td>-0.211543</td>\n",
       "      <td>-0.062526</td>\n",
       "      <td>0.133739</td>\n",
       "      <td>39.420904</td>\n",
       "    </tr>\n",
       "    <tr>\n",
       "      <th>V21</th>\n",
       "      <td>227100.0</td>\n",
       "      <td>0.000140</td>\n",
       "      <td>0.721481</td>\n",
       "      <td>-34.830382</td>\n",
       "      <td>-0.227949</td>\n",
       "      <td>-0.028819</td>\n",
       "      <td>0.186654</td>\n",
       "      <td>27.202839</td>\n",
       "    </tr>\n",
       "    <tr>\n",
       "      <th>V22</th>\n",
       "      <td>227100.0</td>\n",
       "      <td>0.001176</td>\n",
       "      <td>0.723234</td>\n",
       "      <td>-10.933144</td>\n",
       "      <td>-0.541140</td>\n",
       "      <td>0.008422</td>\n",
       "      <td>0.529176</td>\n",
       "      <td>10.503090</td>\n",
       "    </tr>\n",
       "    <tr>\n",
       "      <th>V23</th>\n",
       "      <td>227100.0</td>\n",
       "      <td>-0.000801</td>\n",
       "      <td>0.623962</td>\n",
       "      <td>-44.807735</td>\n",
       "      <td>-0.162123</td>\n",
       "      <td>-0.011574</td>\n",
       "      <td>0.147175</td>\n",
       "      <td>22.528412</td>\n",
       "    </tr>\n",
       "    <tr>\n",
       "      <th>V24</th>\n",
       "      <td>227100.0</td>\n",
       "      <td>0.000356</td>\n",
       "      <td>0.606045</td>\n",
       "      <td>-2.836627</td>\n",
       "      <td>-0.354043</td>\n",
       "      <td>0.041208</td>\n",
       "      <td>0.440107</td>\n",
       "      <td>4.022866</td>\n",
       "    </tr>\n",
       "    <tr>\n",
       "      <th>V25</th>\n",
       "      <td>227100.0</td>\n",
       "      <td>-0.000049</td>\n",
       "      <td>0.521253</td>\n",
       "      <td>-10.295397</td>\n",
       "      <td>-0.317729</td>\n",
       "      <td>0.015845</td>\n",
       "      <td>0.351029</td>\n",
       "      <td>6.070850</td>\n",
       "    </tr>\n",
       "    <tr>\n",
       "      <th>V26</th>\n",
       "      <td>227100.0</td>\n",
       "      <td>-0.000982</td>\n",
       "      <td>0.482208</td>\n",
       "      <td>-2.604551</td>\n",
       "      <td>-0.327682</td>\n",
       "      <td>-0.053295</td>\n",
       "      <td>0.239315</td>\n",
       "      <td>3.463246</td>\n",
       "    </tr>\n",
       "    <tr>\n",
       "      <th>V27</th>\n",
       "      <td>227100.0</td>\n",
       "      <td>0.001076</td>\n",
       "      <td>0.394269</td>\n",
       "      <td>-22.565679</td>\n",
       "      <td>-0.070825</td>\n",
       "      <td>0.001442</td>\n",
       "      <td>0.091247</td>\n",
       "      <td>12.152401</td>\n",
       "    </tr>\n",
       "    <tr>\n",
       "      <th>V28</th>\n",
       "      <td>227100.0</td>\n",
       "      <td>0.000991</td>\n",
       "      <td>0.329430</td>\n",
       "      <td>-11.710896</td>\n",
       "      <td>-0.052962</td>\n",
       "      <td>0.011257</td>\n",
       "      <td>0.078453</td>\n",
       "      <td>33.847808</td>\n",
       "    </tr>\n",
       "    <tr>\n",
       "      <th>Amount</th>\n",
       "      <td>227100.0</td>\n",
       "      <td>88.650858</td>\n",
       "      <td>248.358517</td>\n",
       "      <td>0.000000</td>\n",
       "      <td>5.600000</td>\n",
       "      <td>22.000000</td>\n",
       "      <td>77.490000</td>\n",
       "      <td>19656.530000</td>\n",
       "    </tr>\n",
       "    <tr>\n",
       "      <th>Class</th>\n",
       "      <td>227100.0</td>\n",
       "      <td>0.001678</td>\n",
       "      <td>0.040925</td>\n",
       "      <td>0.000000</td>\n",
       "      <td>0.000000</td>\n",
       "      <td>0.000000</td>\n",
       "      <td>0.000000</td>\n",
       "      <td>1.000000</td>\n",
       "    </tr>\n",
       "  </tbody>\n",
       "</table>\n",
       "</div>"
      ],
      "text/plain": [
       "           count          mean           std        min           25%  \\\n",
       "Time    227100.0  94746.494302  47495.251605   0.000000  54182.000000   \n",
       "V1      227100.0      0.001791      1.952816 -56.407510     -0.919384   \n",
       "V2      227100.0     -0.005301      1.656315 -72.715728     -0.599724   \n",
       "V3      227100.0      0.002509      1.508516 -32.965346     -0.888268   \n",
       "V4      227100.0     -0.003076      1.413476  -5.683171     -0.850272   \n",
       "V5      227100.0      0.002376      1.363908 -42.147898     -0.689235   \n",
       "V6      227100.0     -0.000122      1.324954 -26.160506     -0.768359   \n",
       "V7      227100.0      0.001644      1.209975 -43.557242     -0.553775   \n",
       "V8      227100.0      0.001277      1.175528 -73.216718     -0.207922   \n",
       "V9      227100.0     -0.001757      1.094564 -13.434066     -0.644311   \n",
       "V10     227100.0     -0.002157      1.075832 -24.588262     -0.535715   \n",
       "V11     227100.0      0.002234      1.020356  -4.797473     -0.760389   \n",
       "V12     227100.0     -0.000552      0.996184 -18.683715     -0.405886   \n",
       "V13     227100.0      0.000600      0.995594  -5.791881     -0.648133   \n",
       "V14     227100.0      0.001129      0.954579 -18.822087     -0.425865   \n",
       "V15     227100.0      0.000144      0.915634  -4.498945     -0.583381   \n",
       "V16     227100.0      0.001343      0.873831 -14.129855     -0.465941   \n",
       "V17     227100.0      0.000099      0.846407 -25.162799     -0.483653   \n",
       "V18     227100.0      0.000341      0.838143  -9.498746     -0.498878   \n",
       "V19     227100.0     -0.000343      0.812156  -7.213527     -0.456449   \n",
       "V20     227100.0      0.000813      0.771551 -28.009635     -0.211543   \n",
       "V21     227100.0      0.000140      0.721481 -34.830382     -0.227949   \n",
       "V22     227100.0      0.001176      0.723234 -10.933144     -0.541140   \n",
       "V23     227100.0     -0.000801      0.623962 -44.807735     -0.162123   \n",
       "V24     227100.0      0.000356      0.606045  -2.836627     -0.354043   \n",
       "V25     227100.0     -0.000049      0.521253 -10.295397     -0.317729   \n",
       "V26     227100.0     -0.000982      0.482208  -2.604551     -0.327682   \n",
       "V27     227100.0      0.001076      0.394269 -22.565679     -0.070825   \n",
       "V28     227100.0      0.000991      0.329430 -11.710896     -0.052962   \n",
       "Amount  227100.0     88.650858    248.358517   0.000000      5.600000   \n",
       "Class   227100.0      0.001678      0.040925   0.000000      0.000000   \n",
       "\n",
       "                 50%            75%            max  \n",
       "Time    84604.500000  139320.000000  172792.000000  \n",
       "V1          0.015127       1.315237       2.454930  \n",
       "V2          0.064965       0.801545      22.057729  \n",
       "V3          0.182346       1.029116       9.382558  \n",
       "V4         -0.021486       0.741161      16.875344  \n",
       "V5         -0.054442       0.611081      34.801666  \n",
       "V6         -0.273776       0.398910      22.529298  \n",
       "V7          0.040905       0.570641      36.877368  \n",
       "V8          0.022600       0.326712      20.007208  \n",
       "V9         -0.052059       0.595705      15.594995  \n",
       "V10        -0.092329       0.453780      23.745136  \n",
       "V11        -0.029174       0.742567      11.669205  \n",
       "V12         0.139197       0.617412       7.848392  \n",
       "V13        -0.012966       0.661575       4.465413  \n",
       "V14         0.051244       0.493849      10.526766  \n",
       "V15         0.048338       0.649825       5.825654  \n",
       "V16         0.067024       0.524028       8.289890  \n",
       "V17        -0.065548       0.398267       9.253526  \n",
       "V18        -0.001981       0.501533       5.041069  \n",
       "V19         0.003474       0.458762       5.572113  \n",
       "V20        -0.062526       0.133739      39.420904  \n",
       "V21        -0.028819       0.186654      27.202839  \n",
       "V22         0.008422       0.529176      10.503090  \n",
       "V23        -0.011574       0.147175      22.528412  \n",
       "V24         0.041208       0.440107       4.022866  \n",
       "V25         0.015845       0.351029       6.070850  \n",
       "V26        -0.053295       0.239315       3.463246  \n",
       "V27         0.001442       0.091247      12.152401  \n",
       "V28         0.011257       0.078453      33.847808  \n",
       "Amount     22.000000      77.490000   19656.530000  \n",
       "Class       0.000000       0.000000       1.000000  "
      ]
     },
     "execution_count": 12,
     "metadata": {},
     "output_type": "execute_result"
    }
   ],
   "source": [
    "df_train.describe().T"
   ]
  },
  {
   "cell_type": "markdown",
   "id": "fundamental-synthetic",
   "metadata": {},
   "source": [
    "#### 1.b Find if there is any connection between Time, Amount, and the transaction being fraudulent."
   ]
  },
  {
   "cell_type": "code",
   "execution_count": 13,
   "id": "smaller-kuwait",
   "metadata": {},
   "outputs": [
    {
     "name": "stderr",
     "output_type": "stream",
     "text": [
      "C:\\Users\\iamka\\anaconda3\\envs\\tfPractice\\lib\\site-packages\\seaborn\\distributions.py:2557: FutureWarning: `distplot` is a deprecated function and will be removed in a future version. Please adapt your code to use either `displot` (a figure-level function with similar flexibility) or `histplot` (an axes-level function for histograms).\n",
      "  warnings.warn(msg, FutureWarning)\n"
     ]
    },
    {
     "data": {
      "text/plain": [
       "<AxesSubplot:title={'center':'Time ditributions'}, xlabel='Time', ylabel='Density'>"
      ]
     },
     "execution_count": 13,
     "metadata": {},
     "output_type": "execute_result"
    },
    {
     "data": {
      "image/png": "[encoded data removed]",
      "text/plain": [
       "<Figure size 720x576 with 1 Axes>"
      ]
     },
     "metadata": {
      "needs_background": "light"
     },
     "output_type": "display_data"
    }
   ],
   "source": [
    "# visualizations of time\n",
    "plt.figure(figsize=(10,8))\n",
    "plt.title(\"Time ditributions\")\n",
    "sns.distplot(df_train.Time)"
   ]
  },
  {
   "cell_type": "code",
   "execution_count": 14,
   "id": "terminal-agent",
   "metadata": {},
   "outputs": [
    {
     "name": "stdout",
     "output_type": "stream",
     "text": [
      "0.0\n",
      "47.99777777777778\n"
     ]
    }
   ],
   "source": [
    "# The time inseconds need to converts\n",
    "df_train['Time'] = df_train['Time'] / 3600\n",
    "# df_train_original['Time'] = df_train_original['Time'] / 24\n",
    "print(df_train['Time'].min())\n",
    "print(df_train['Time'].max())"
   ]
  },
  {
   "cell_type": "code",
   "execution_count": 15,
   "id": "strategic-anniversary",
   "metadata": {},
   "outputs": [
    {
     "name": "stderr",
     "output_type": "stream",
     "text": [
      "C:\\Users\\iamka\\anaconda3\\envs\\tfPractice\\lib\\site-packages\\seaborn\\distributions.py:2557: FutureWarning: `distplot` is a deprecated function and will be removed in a future version. Please adapt your code to use either `displot` (a figure-level function with similar flexibility) or `histplot` (an axes-level function for histograms).\n",
      "  warnings.warn(msg, FutureWarning)\n"
     ]
    },
    {
     "data": {
      "text/plain": [
       "Text(0.5, 1.0, 'Transaction Times')"
      ]
     },
     "execution_count": 15,
     "metadata": {},
     "output_type": "execute_result"
    },
    {
     "data": {
      "image/png": "[encoded data removed]",
      "text/plain": [
       "<Figure size 960x480 with 1 Axes>"
      ]
     },
     "metadata": {
      "needs_background": "light"
     },
     "output_type": "display_data"
    }
   ],
   "source": [
    "plt.figure(figsize=(12,6), dpi=80)\n",
    "sns.distplot(df_train.Time, bins=48)\n",
    "plt.xlim([0,48])\n",
    "plt.xticks(np.arange(0,54,6))\n",
    "plt.xlabel('Time ditributions in Hrs')\n",
    "plt.ylabel('Count')\n",
    "plt.title('Transaction Times')"
   ]
  },
  {
   "cell_type": "code",
   "execution_count": 16,
   "id": "communist-athens",
   "metadata": {},
   "outputs": [
    {
     "name": "stderr",
     "output_type": "stream",
     "text": [
      "C:\\Users\\iamka\\anaconda3\\envs\\tfPractice\\lib\\site-packages\\seaborn\\distributions.py:2557: FutureWarning: `distplot` is a deprecated function and will be removed in a future version. Please adapt your code to use either `displot` (a figure-level function with similar flexibility) or `histplot` (an axes-level function for histograms).\n",
      "  warnings.warn(msg, FutureWarning)\n"
     ]
    },
    {
     "data": {
      "text/plain": [
       "<AxesSubplot:title={'center':'Time ditributions'}, xlabel='Amount', ylabel='Density'>"
      ]
     },
     "execution_count": 16,
     "metadata": {},
     "output_type": "execute_result"
    },
    {
     "data": {
      "image/png": "[encoded data removed]",
      "text/plain": [
       "<Figure size 720x576 with 1 Axes>"
      ]
     },
     "metadata": {
      "needs_background": "light"
     },
     "output_type": "display_data"
    }
   ],
   "source": [
    "# visualizations of amount\n",
    "plt.figure(figsize=(10,8))\n",
    "plt.title(\"Time ditributions\")\n",
    "sns.distplot(df_train.Amount)"
   ]
  },
  {
   "cell_type": "code",
   "execution_count": 17,
   "id": "hidden-summer",
   "metadata": {},
   "outputs": [
    {
     "data": {
      "image/png": "[encoded data removed]",
      "text/plain": [
       "<Figure size 402.375x360 with 1 Axes>"
      ]
     },
     "metadata": {
      "needs_background": "light"
     },
     "output_type": "display_data"
    }
   ],
   "source": [
    "sns.relplot(x=\"Time\", y=\"Amount\", hue=\"Class\", data=df_train);"
   ]
  },
  {
   "cell_type": "code",
   "execution_count": 18,
   "id": "animal-diabetes",
   "metadata": {},
   "outputs": [
    {
     "data": {
      "image/png": "[encoded data removed]",
      "text/plain": [
       "<Figure size 720x360 with 2 Axes>"
      ]
     },
     "metadata": {
      "needs_background": "light"
     },
     "output_type": "display_data"
    }
   ],
   "source": [
    "sns.relplot(x=\"Time\", y=\"Amount\", col=\"Class\", data=df_train);"
   ]
  },
  {
   "cell_type": "markdown",
   "id": "pharmaceutical-rebate",
   "metadata": {},
   "source": [
    "####   2.Check the class count for each class. It’s a class Imbalance problem."
   ]
  },
  {
   "cell_type": "code",
   "execution_count": 19,
   "id": "chemical-novelty",
   "metadata": {},
   "outputs": [
    {
     "data": {
      "text/plain": [
       "0    226719\n",
       "1       381\n",
       "Name: Class, dtype: int64"
      ]
     },
     "execution_count": 19,
     "metadata": {},
     "output_type": "execute_result"
    }
   ],
   "source": [
    "df_train['Class'].value_counts()"
   ]
  },
  {
   "cell_type": "code",
   "execution_count": 20,
   "id": "scientific-zealand",
   "metadata": {},
   "outputs": [
    {
     "name": "stderr",
     "output_type": "stream",
     "text": [
      "C:\\Users\\iamka\\anaconda3\\envs\\tfPractice\\lib\\site-packages\\seaborn\\_decorators.py:36: FutureWarning: Pass the following variable as a keyword arg: x. From version 0.12, the only valid positional argument will be `data`, and passing other arguments without an explicit keyword will result in an error or misinterpretation.\n",
      "  warnings.warn(\n"
     ]
    },
    {
     "data": {
      "text/plain": [
       "<AxesSubplot:xlabel='Class', ylabel='count'>"
      ]
     },
     "execution_count": 20,
     "metadata": {},
     "output_type": "execute_result"
    },
    {
     "data": {
      "image/png": "[encoded data removed]",
      "text/plain": [
       "<Figure size 432x288 with 1 Axes>"
      ]
     },
     "metadata": {
      "needs_background": "light"
     },
     "output_type": "display_data"
    }
   ],
   "source": [
    "sns.countplot('Class', data=df_train)"
   ]
  },
  {
   "cell_type": "markdown",
   "id": "quantitative-aquarium",
   "metadata": {},
   "source": [
    "#### 3.Use techniques like undersampling or oversampling before running Naïve Bayes, Logistic Regression or SVM."
   ]
  },
  {
   "cell_type": "code",
   "execution_count": 21,
   "id": "hybrid-grove",
   "metadata": {},
   "outputs": [],
   "source": [
    "robust_scaler = RobustScaler()\n",
    "\n",
    "df_train['scaled_amount'] = robust_scaler.fit_transform(df_train['Amount'].values.reshape(-1,1))\n",
    "df_train['scaled_time'] = robust_scaler.fit_transform(df_train['Time'].values.reshape(-1,1))\n",
    "\n",
    "df_test['scaled_amount'] = robust_scaler.fit_transform(df_test['Amount'].values.reshape(-1,1))\n",
    "df_test['scaled_time'] = robust_scaler.fit_transform(df_test['Time'].values.reshape(-1,1))"
   ]
  },
  {
   "cell_type": "code",
   "execution_count": 22,
   "id": "prompt-hello",
   "metadata": {},
   "outputs": [],
   "source": [
    "# Remove the Time,Amount \n",
    "df_train.drop(['Time','Amount'], axis=1, inplace=True)\n",
    "df_test.drop(['Time','Amount'], axis=1, inplace=True)"
   ]
  },
  {
   "cell_type": "code",
   "execution_count": 23,
   "id": "ceramic-brown",
   "metadata": {},
   "outputs": [],
   "source": [
    "df_train.dropna(inplace=True)\n",
    "df_test.dropna(inplace=True)"
   ]
  },
  {
   "cell_type": "code",
   "execution_count": 24,
   "id": "brilliant-cradle",
   "metadata": {},
   "outputs": [],
   "source": [
    "y_train = df_train.pop('Class')\n",
    "X_train = df_train"
   ]
  },
  {
   "cell_type": "code",
   "execution_count": 25,
   "id": "numerous-thursday",
   "metadata": {},
   "outputs": [
    {
     "name": "stdout",
     "output_type": "stream",
     "text": [
      "(227100,)\n",
      "(227100, 30)\n"
     ]
    }
   ],
   "source": [
    "print(y_train.shape)\n",
    "print(X_train.shape)"
   ]
  },
  {
   "cell_type": "code",
   "execution_count": 26,
   "id": "nutritional-battlefield",
   "metadata": {},
   "outputs": [
    {
     "name": "stdout",
     "output_type": "stream",
     "text": [
      "(56916, 30)\n",
      "(56916,)\n"
     ]
    }
   ],
   "source": [
    "y_test = df_test.pop('Class')\n",
    "X_test = df_test\n",
    "print(X_test.shape)\n",
    "print(y_test.shape)"
   ]
  },
  {
   "cell_type": "code",
   "execution_count": 27,
   "id": "remarkable-brother",
   "metadata": {},
   "outputs": [
    {
     "data": {
      "text/html": [
       "<div>\n",
       "<style scoped>\n",
       "    .dataframe tbody tr th:only-of-type {\n",
       "        vertical-align: middle;\n",
       "    }\n",
       "\n",
       "    .dataframe tbody tr th {\n",
       "        vertical-align: top;\n",
       "    }\n",
       "\n",
       "    .dataframe thead th {\n",
       "        text-align: right;\n",
       "    }\n",
       "</style>\n",
       "<table border=\"1\" class=\"dataframe\">\n",
       "  <thead>\n",
       "    <tr style=\"text-align: right;\">\n",
       "      <th></th>\n",
       "      <th>count</th>\n",
       "      <th>mean</th>\n",
       "      <th>std</th>\n",
       "      <th>min</th>\n",
       "      <th>25%</th>\n",
       "      <th>50%</th>\n",
       "      <th>75%</th>\n",
       "      <th>max</th>\n",
       "    </tr>\n",
       "  </thead>\n",
       "  <tbody>\n",
       "    <tr>\n",
       "      <th>V1</th>\n",
       "      <td>227100.0</td>\n",
       "      <td>0.001791</td>\n",
       "      <td>1.952816</td>\n",
       "      <td>-56.407510</td>\n",
       "      <td>-0.919384</td>\n",
       "      <td>1.512736e-02</td>\n",
       "      <td>1.315237</td>\n",
       "      <td>2.454930</td>\n",
       "    </tr>\n",
       "    <tr>\n",
       "      <th>V2</th>\n",
       "      <td>227100.0</td>\n",
       "      <td>-0.005301</td>\n",
       "      <td>1.656315</td>\n",
       "      <td>-72.715728</td>\n",
       "      <td>-0.599724</td>\n",
       "      <td>6.496516e-02</td>\n",
       "      <td>0.801545</td>\n",
       "      <td>22.057729</td>\n",
       "    </tr>\n",
       "    <tr>\n",
       "      <th>V3</th>\n",
       "      <td>227100.0</td>\n",
       "      <td>0.002509</td>\n",
       "      <td>1.508516</td>\n",
       "      <td>-32.965346</td>\n",
       "      <td>-0.888268</td>\n",
       "      <td>1.823457e-01</td>\n",
       "      <td>1.029116</td>\n",
       "      <td>9.382558</td>\n",
       "    </tr>\n",
       "    <tr>\n",
       "      <th>V4</th>\n",
       "      <td>227100.0</td>\n",
       "      <td>-0.003076</td>\n",
       "      <td>1.413476</td>\n",
       "      <td>-5.683171</td>\n",
       "      <td>-0.850272</td>\n",
       "      <td>-2.148551e-02</td>\n",
       "      <td>0.741161</td>\n",
       "      <td>16.875344</td>\n",
       "    </tr>\n",
       "    <tr>\n",
       "      <th>V5</th>\n",
       "      <td>227100.0</td>\n",
       "      <td>0.002376</td>\n",
       "      <td>1.363908</td>\n",
       "      <td>-42.147898</td>\n",
       "      <td>-0.689235</td>\n",
       "      <td>-5.444162e-02</td>\n",
       "      <td>0.611081</td>\n",
       "      <td>34.801666</td>\n",
       "    </tr>\n",
       "    <tr>\n",
       "      <th>V6</th>\n",
       "      <td>227100.0</td>\n",
       "      <td>-0.000122</td>\n",
       "      <td>1.324954</td>\n",
       "      <td>-26.160506</td>\n",
       "      <td>-0.768359</td>\n",
       "      <td>-2.737758e-01</td>\n",
       "      <td>0.398910</td>\n",
       "      <td>22.529298</td>\n",
       "    </tr>\n",
       "    <tr>\n",
       "      <th>V7</th>\n",
       "      <td>227100.0</td>\n",
       "      <td>0.001644</td>\n",
       "      <td>1.209975</td>\n",
       "      <td>-43.557242</td>\n",
       "      <td>-0.553775</td>\n",
       "      <td>4.090522e-02</td>\n",
       "      <td>0.570641</td>\n",
       "      <td>36.877368</td>\n",
       "    </tr>\n",
       "    <tr>\n",
       "      <th>V8</th>\n",
       "      <td>227100.0</td>\n",
       "      <td>0.001277</td>\n",
       "      <td>1.175528</td>\n",
       "      <td>-73.216718</td>\n",
       "      <td>-0.207922</td>\n",
       "      <td>2.259952e-02</td>\n",
       "      <td>0.326712</td>\n",
       "      <td>20.007208</td>\n",
       "    </tr>\n",
       "    <tr>\n",
       "      <th>V9</th>\n",
       "      <td>227100.0</td>\n",
       "      <td>-0.001757</td>\n",
       "      <td>1.094564</td>\n",
       "      <td>-13.434066</td>\n",
       "      <td>-0.644311</td>\n",
       "      <td>-5.205855e-02</td>\n",
       "      <td>0.595705</td>\n",
       "      <td>15.594995</td>\n",
       "    </tr>\n",
       "    <tr>\n",
       "      <th>V10</th>\n",
       "      <td>227100.0</td>\n",
       "      <td>-0.002157</td>\n",
       "      <td>1.075832</td>\n",
       "      <td>-24.588262</td>\n",
       "      <td>-0.535715</td>\n",
       "      <td>-9.232904e-02</td>\n",
       "      <td>0.453780</td>\n",
       "      <td>23.745136</td>\n",
       "    </tr>\n",
       "    <tr>\n",
       "      <th>V11</th>\n",
       "      <td>227100.0</td>\n",
       "      <td>0.002234</td>\n",
       "      <td>1.020356</td>\n",
       "      <td>-4.797473</td>\n",
       "      <td>-0.760389</td>\n",
       "      <td>-2.917350e-02</td>\n",
       "      <td>0.742567</td>\n",
       "      <td>11.669205</td>\n",
       "    </tr>\n",
       "    <tr>\n",
       "      <th>V12</th>\n",
       "      <td>227100.0</td>\n",
       "      <td>-0.000552</td>\n",
       "      <td>0.996184</td>\n",
       "      <td>-18.683715</td>\n",
       "      <td>-0.405886</td>\n",
       "      <td>1.391970e-01</td>\n",
       "      <td>0.617412</td>\n",
       "      <td>7.848392</td>\n",
       "    </tr>\n",
       "    <tr>\n",
       "      <th>V13</th>\n",
       "      <td>227100.0</td>\n",
       "      <td>0.000600</td>\n",
       "      <td>0.995594</td>\n",
       "      <td>-5.791881</td>\n",
       "      <td>-0.648133</td>\n",
       "      <td>-1.296554e-02</td>\n",
       "      <td>0.661575</td>\n",
       "      <td>4.465413</td>\n",
       "    </tr>\n",
       "    <tr>\n",
       "      <th>V14</th>\n",
       "      <td>227100.0</td>\n",
       "      <td>0.001129</td>\n",
       "      <td>0.954579</td>\n",
       "      <td>-18.822087</td>\n",
       "      <td>-0.425865</td>\n",
       "      <td>5.124356e-02</td>\n",
       "      <td>0.493849</td>\n",
       "      <td>10.526766</td>\n",
       "    </tr>\n",
       "    <tr>\n",
       "      <th>V15</th>\n",
       "      <td>227100.0</td>\n",
       "      <td>0.000144</td>\n",
       "      <td>0.915634</td>\n",
       "      <td>-4.498945</td>\n",
       "      <td>-0.583381</td>\n",
       "      <td>4.833840e-02</td>\n",
       "      <td>0.649825</td>\n",
       "      <td>5.825654</td>\n",
       "    </tr>\n",
       "    <tr>\n",
       "      <th>V16</th>\n",
       "      <td>227100.0</td>\n",
       "      <td>0.001343</td>\n",
       "      <td>0.873831</td>\n",
       "      <td>-14.129855</td>\n",
       "      <td>-0.465941</td>\n",
       "      <td>6.702434e-02</td>\n",
       "      <td>0.524028</td>\n",
       "      <td>8.289890</td>\n",
       "    </tr>\n",
       "    <tr>\n",
       "      <th>V17</th>\n",
       "      <td>227100.0</td>\n",
       "      <td>0.000099</td>\n",
       "      <td>0.846407</td>\n",
       "      <td>-25.162799</td>\n",
       "      <td>-0.483653</td>\n",
       "      <td>-6.554848e-02</td>\n",
       "      <td>0.398267</td>\n",
       "      <td>9.253526</td>\n",
       "    </tr>\n",
       "    <tr>\n",
       "      <th>V18</th>\n",
       "      <td>227100.0</td>\n",
       "      <td>0.000341</td>\n",
       "      <td>0.838143</td>\n",
       "      <td>-9.498746</td>\n",
       "      <td>-0.498878</td>\n",
       "      <td>-1.981420e-03</td>\n",
       "      <td>0.501533</td>\n",
       "      <td>5.041069</td>\n",
       "    </tr>\n",
       "    <tr>\n",
       "      <th>V19</th>\n",
       "      <td>227100.0</td>\n",
       "      <td>-0.000343</td>\n",
       "      <td>0.812156</td>\n",
       "      <td>-7.213527</td>\n",
       "      <td>-0.456449</td>\n",
       "      <td>3.474015e-03</td>\n",
       "      <td>0.458762</td>\n",
       "      <td>5.572113</td>\n",
       "    </tr>\n",
       "    <tr>\n",
       "      <th>V20</th>\n",
       "      <td>227100.0</td>\n",
       "      <td>0.000813</td>\n",
       "      <td>0.771551</td>\n",
       "      <td>-28.009635</td>\n",
       "      <td>-0.211543</td>\n",
       "      <td>-6.252636e-02</td>\n",
       "      <td>0.133739</td>\n",
       "      <td>39.420904</td>\n",
       "    </tr>\n",
       "    <tr>\n",
       "      <th>V21</th>\n",
       "      <td>227100.0</td>\n",
       "      <td>0.000140</td>\n",
       "      <td>0.721481</td>\n",
       "      <td>-34.830382</td>\n",
       "      <td>-0.227949</td>\n",
       "      <td>-2.881869e-02</td>\n",
       "      <td>0.186654</td>\n",
       "      <td>27.202839</td>\n",
       "    </tr>\n",
       "    <tr>\n",
       "      <th>V22</th>\n",
       "      <td>227100.0</td>\n",
       "      <td>0.001176</td>\n",
       "      <td>0.723234</td>\n",
       "      <td>-10.933144</td>\n",
       "      <td>-0.541140</td>\n",
       "      <td>8.421713e-03</td>\n",
       "      <td>0.529176</td>\n",
       "      <td>10.503090</td>\n",
       "    </tr>\n",
       "    <tr>\n",
       "      <th>V23</th>\n",
       "      <td>227100.0</td>\n",
       "      <td>-0.000801</td>\n",
       "      <td>0.623962</td>\n",
       "      <td>-44.807735</td>\n",
       "      <td>-0.162123</td>\n",
       "      <td>-1.157440e-02</td>\n",
       "      <td>0.147175</td>\n",
       "      <td>22.528412</td>\n",
       "    </tr>\n",
       "    <tr>\n",
       "      <th>V24</th>\n",
       "      <td>227100.0</td>\n",
       "      <td>0.000356</td>\n",
       "      <td>0.606045</td>\n",
       "      <td>-2.836627</td>\n",
       "      <td>-0.354043</td>\n",
       "      <td>4.120822e-02</td>\n",
       "      <td>0.440107</td>\n",
       "      <td>4.022866</td>\n",
       "    </tr>\n",
       "    <tr>\n",
       "      <th>V25</th>\n",
       "      <td>227100.0</td>\n",
       "      <td>-0.000049</td>\n",
       "      <td>0.521253</td>\n",
       "      <td>-10.295397</td>\n",
       "      <td>-0.317729</td>\n",
       "      <td>1.584528e-02</td>\n",
       "      <td>0.351029</td>\n",
       "      <td>6.070850</td>\n",
       "    </tr>\n",
       "    <tr>\n",
       "      <th>V26</th>\n",
       "      <td>227100.0</td>\n",
       "      <td>-0.000982</td>\n",
       "      <td>0.482208</td>\n",
       "      <td>-2.604551</td>\n",
       "      <td>-0.327682</td>\n",
       "      <td>-5.329484e-02</td>\n",
       "      <td>0.239315</td>\n",
       "      <td>3.463246</td>\n",
       "    </tr>\n",
       "    <tr>\n",
       "      <th>V27</th>\n",
       "      <td>227100.0</td>\n",
       "      <td>0.001076</td>\n",
       "      <td>0.394269</td>\n",
       "      <td>-22.565679</td>\n",
       "      <td>-0.070825</td>\n",
       "      <td>1.442013e-03</td>\n",
       "      <td>0.091247</td>\n",
       "      <td>12.152401</td>\n",
       "    </tr>\n",
       "    <tr>\n",
       "      <th>V28</th>\n",
       "      <td>227100.0</td>\n",
       "      <td>0.000991</td>\n",
       "      <td>0.329430</td>\n",
       "      <td>-11.710896</td>\n",
       "      <td>-0.052962</td>\n",
       "      <td>1.125732e-02</td>\n",
       "      <td>0.078453</td>\n",
       "      <td>33.847808</td>\n",
       "    </tr>\n",
       "    <tr>\n",
       "      <th>scaled_amount</th>\n",
       "      <td>227100.0</td>\n",
       "      <td>0.927123</td>\n",
       "      <td>3.454702</td>\n",
       "      <td>-0.306023</td>\n",
       "      <td>-0.228126</td>\n",
       "      <td>0.000000e+00</td>\n",
       "      <td>0.771874</td>\n",
       "      <td>273.119071</td>\n",
       "    </tr>\n",
       "    <tr>\n",
       "      <th>scaled_time</th>\n",
       "      <td>227100.0</td>\n",
       "      <td>0.119124</td>\n",
       "      <td>0.557862</td>\n",
       "      <td>-0.993734</td>\n",
       "      <td>-0.357332</td>\n",
       "      <td>7.511192e-17</td>\n",
       "      <td>0.642668</td>\n",
       "      <td>1.035818</td>\n",
       "    </tr>\n",
       "  </tbody>\n",
       "</table>\n",
       "</div>"
      ],
      "text/plain": [
       "                  count      mean       std        min       25%  \\\n",
       "V1             227100.0  0.001791  1.952816 -56.407510 -0.919384   \n",
       "V2             227100.0 -0.005301  1.656315 -72.715728 -0.599724   \n",
       "V3             227100.0  0.002509  1.508516 -32.965346 -0.888268   \n",
       "V4             227100.0 -0.003076  1.413476  -5.683171 -0.850272   \n",
       "V5             227100.0  0.002376  1.363908 -42.147898 -0.689235   \n",
       "V6             227100.0 -0.000122  1.324954 -26.160506 -0.768359   \n",
       "V7             227100.0  0.001644  1.209975 -43.557242 -0.553775   \n",
       "V8             227100.0  0.001277  1.175528 -73.216718 -0.207922   \n",
       "V9             227100.0 -0.001757  1.094564 -13.434066 -0.644311   \n",
       "V10            227100.0 -0.002157  1.075832 -24.588262 -0.535715   \n",
       "V11            227100.0  0.002234  1.020356  -4.797473 -0.760389   \n",
       "V12            227100.0 -0.000552  0.996184 -18.683715 -0.405886   \n",
       "V13            227100.0  0.000600  0.995594  -5.791881 -0.648133   \n",
       "V14            227100.0  0.001129  0.954579 -18.822087 -0.425865   \n",
       "V15            227100.0  0.000144  0.915634  -4.498945 -0.583381   \n",
       "V16            227100.0  0.001343  0.873831 -14.129855 -0.465941   \n",
       "V17            227100.0  0.000099  0.846407 -25.162799 -0.483653   \n",
       "V18            227100.0  0.000341  0.838143  -9.498746 -0.498878   \n",
       "V19            227100.0 -0.000343  0.812156  -7.213527 -0.456449   \n",
       "V20            227100.0  0.000813  0.771551 -28.009635 -0.211543   \n",
       "V21            227100.0  0.000140  0.721481 -34.830382 -0.227949   \n",
       "V22            227100.0  0.001176  0.723234 -10.933144 -0.541140   \n",
       "V23            227100.0 -0.000801  0.623962 -44.807735 -0.162123   \n",
       "V24            227100.0  0.000356  0.606045  -2.836627 -0.354043   \n",
       "V25            227100.0 -0.000049  0.521253 -10.295397 -0.317729   \n",
       "V26            227100.0 -0.000982  0.482208  -2.604551 -0.327682   \n",
       "V27            227100.0  0.001076  0.394269 -22.565679 -0.070825   \n",
       "V28            227100.0  0.000991  0.329430 -11.710896 -0.052962   \n",
       "scaled_amount  227100.0  0.927123  3.454702  -0.306023 -0.228126   \n",
       "scaled_time    227100.0  0.119124  0.557862  -0.993734 -0.357332   \n",
       "\n",
       "                        50%       75%         max  \n",
       "V1             1.512736e-02  1.315237    2.454930  \n",
       "V2             6.496516e-02  0.801545   22.057729  \n",
       "V3             1.823457e-01  1.029116    9.382558  \n",
       "V4            -2.148551e-02  0.741161   16.875344  \n",
       "V5            -5.444162e-02  0.611081   34.801666  \n",
       "V6            -2.737758e-01  0.398910   22.529298  \n",
       "V7             4.090522e-02  0.570641   36.877368  \n",
       "V8             2.259952e-02  0.326712   20.007208  \n",
       "V9            -5.205855e-02  0.595705   15.594995  \n",
       "V10           -9.232904e-02  0.453780   23.745136  \n",
       "V11           -2.917350e-02  0.742567   11.669205  \n",
       "V12            1.391970e-01  0.617412    7.848392  \n",
       "V13           -1.296554e-02  0.661575    4.465413  \n",
       "V14            5.124356e-02  0.493849   10.526766  \n",
       "V15            4.833840e-02  0.649825    5.825654  \n",
       "V16            6.702434e-02  0.524028    8.289890  \n",
       "V17           -6.554848e-02  0.398267    9.253526  \n",
       "V18           -1.981420e-03  0.501533    5.041069  \n",
       "V19            3.474015e-03  0.458762    5.572113  \n",
       "V20           -6.252636e-02  0.133739   39.420904  \n",
       "V21           -2.881869e-02  0.186654   27.202839  \n",
       "V22            8.421713e-03  0.529176   10.503090  \n",
       "V23           -1.157440e-02  0.147175   22.528412  \n",
       "V24            4.120822e-02  0.440107    4.022866  \n",
       "V25            1.584528e-02  0.351029    6.070850  \n",
       "V26           -5.329484e-02  0.239315    3.463246  \n",
       "V27            1.442013e-03  0.091247   12.152401  \n",
       "V28            1.125732e-02  0.078453   33.847808  \n",
       "scaled_amount  0.000000e+00  0.771874  273.119071  \n",
       "scaled_time    7.511192e-17  0.642668    1.035818  "
      ]
     },
     "execution_count": 27,
     "metadata": {},
     "output_type": "execute_result"
    }
   ],
   "source": [
    "X_train.describe().T"
   ]
  },
  {
   "cell_type": "code",
   "execution_count": 28,
   "id": "employed-italic",
   "metadata": {},
   "outputs": [
    {
     "name": "stdout",
     "output_type": "stream",
     "text": [
      "(453438, 30)\n",
      "(453438,)\n"
     ]
    }
   ],
   "source": [
    "# oversampling tarin data\n",
    "oversample = RandomOverSampler(sampling_strategy='minority')\n",
    "\n",
    "# fit and apply the transform\n",
    "X_train_over, y_train_over = oversample.fit_resample(X_train, y_train)\n",
    "\n",
    "print(X_train_over.shape)\n",
    "print(y_train_over.shape)"
   ]
  },
  {
   "cell_type": "code",
   "execution_count": 29,
   "id": "minor-globe",
   "metadata": {},
   "outputs": [
    {
     "name": "stdout",
     "output_type": "stream",
     "text": [
      "(762, 30)\n",
      "(762,)\n"
     ]
    }
   ],
   "source": [
    "# undersampling tarin data\n",
    "undersample = RandomUnderSampler(sampling_strategy='majority')\n",
    "\n",
    "# fit and apply the transform\n",
    "X_train_under, y_train_under = undersample.fit_resample(X_train, y_train)\n",
    "\n",
    "print(X_train_under.shape)\n",
    "print(y_train_under.shape)"
   ]
  },
  {
   "cell_type": "code",
   "execution_count": 30,
   "id": "numerous-forwarding",
   "metadata": {},
   "outputs": [],
   "source": [
    "def modal_perfomance(model, X_train, Y_train, X_test, Y_test):\n",
    "    model.fit(X_train, Y_train)\n",
    "    predicted = model.predict(X_test)\n",
    "    report = classification_report(Y_test, predicted)\n",
    "    print(\"f1_score       : \", f1_score(Y_test, predicted, average=\"macro\"))\n",
    "    print(\"precision_score: \", precision_score(Y_test, predicted, average=\"macro\"))\n",
    "    print(\"recall_score   : \", recall_score(Y_test, predicted, average=\"macro\"))\n",
    "    print(\"\\nAccuracy Score :\",accuracy_score(predicted, Y_test))\n",
    "    print(report)\n",
    "    plot_roc_curve(model, X_test, Y_test)  \n",
    "    plt.show() \n",
    "#     roc_curve_plt(model, X_test, Y_test, predicted)"
   ]
  },
  {
   "cell_type": "code",
   "execution_count": 31,
   "id": "funny-tutorial",
   "metadata": {},
   "outputs": [
    {
     "name": "stderr",
     "output_type": "stream",
     "text": [
      "C:\\Users\\iamka\\anaconda3\\envs\\tfPractice\\lib\\site-packages\\sklearn\\linear_model\\_logistic.py:763: ConvergenceWarning: lbfgs failed to converge (status=1):\n",
      "STOP: TOTAL NO. of ITERATIONS REACHED LIMIT.\n",
      "\n",
      "Increase the number of iterations (max_iter) or scale the data as shown in:\n",
      "    https://scikit-learn.org/stable/modules/preprocessing.html\n",
      "Please also refer to the documentation for alternative solver options:\n",
      "    https://scikit-learn.org/stable/modules/linear_model.html#logistic-regression\n",
      "  n_iter_i = _check_optimize_result(\n"
     ]
    },
    {
     "name": "stdout",
     "output_type": "stream",
     "text": [
      "f1_score       :  0.5527717538690351\n",
      "precision_score:  0.531255947382738\n",
      "recall_score   :  0.9274674740183658\n",
      "\n",
      "Accuracy Score : 0.9772120317661115\n",
      "              precision    recall  f1-score   support\n",
      "\n",
      "           0       1.00      0.98      0.99     56818\n",
      "           1       0.06      0.88      0.12        98\n",
      "\n",
      "    accuracy                           0.98     56916\n",
      "   macro avg       0.53      0.93      0.55     56916\n",
      "weighted avg       1.00      0.98      0.99     56916\n",
      "\n"
     ]
    },
    {
     "data": {
      "image/png": "[encoded data removed]",
      "text/plain": [
       "<Figure size 432x288 with 1 Axes>"
      ]
     },
     "metadata": {
      "needs_background": "light"
     },
     "output_type": "display_data"
    }
   ],
   "source": [
    "lr = LogisticRegression(class_weight ='balanced')\n",
    "modal_perfomance(lr, X_train_over, y_train_over, X_test, y_test)"
   ]
  },
  {
   "cell_type": "markdown",
   "id": "destroyed-shelter",
   "metadata": {},
   "source": [
    "### Observations: Week 1\n",
    "- Traing set contains two days transaction details, the rate transaction low at night times\n",
    "- The amount of transcation is highy skewed distribution, only low number count detected for high amount transcation\n",
    "- There is no connection between Time, Amount, and the transaction being fraudulent\n",
    "- All the fraudulent transactions are low amount\n",
    "- This is highly class Imbalance problem, fraudulent transaction are very rare less than 0.17 %"
   ]
  },
  {
   "cell_type": "markdown",
   "id": "dental-summer",
   "metadata": {},
   "source": [
    "### Project Task: Week 2\n",
    "\n",
    "#### Modeling Techniques:\n",
    "- Try out models like Naive Bayes, Logistic Regression or SVM. Find out which one performs the best\n",
    "- Use different Tree-based classifiers like Random Forest and XGBoost. \n",
    "       a.    Remember Tree-based classifiers work on two ideologies: Bagging or Boosting\n",
    "       b.    Tree-based classifiers have fine-tuning parameters which takes care of the imbalanced class. Random-Forest and XGBboost.\n",
    "- Compare the results of 1 with 2 and check if there is any incremental gain."
   ]
  },
  {
   "cell_type": "code",
   "execution_count": 32,
   "id": "generic-engineering",
   "metadata": {},
   "outputs": [],
   "source": [
    "df_train = copy.deepcopy(df_train_original)\n",
    "df_test = copy.deepcopy(df_test_original)\n",
    "\n",
    "df_train.drop(['Time','Amount'], axis=1, inplace=True)\n",
    "df_test.drop(['Time','Amount'], axis=1, inplace=True)\n",
    "df_train.dropna(inplace=True)\n",
    "df_test.dropna(inplace=True)\n",
    "\n",
    "y_train = df_train.pop('Class')\n",
    "X_train = df_train\n",
    "y_test = df_test.pop('Class')\n",
    "X_test = df_test"
   ]
  },
  {
   "cell_type": "code",
   "execution_count": 33,
   "id": "sunrise-techno",
   "metadata": {},
   "outputs": [],
   "source": [
    "# Create logistic regression pipeline\n",
    "lr_pipeline = Pipeline(\n",
    "    steps=[\n",
    "        ('scaler', StandardScaler()), \n",
    "        ('lr', LogisticRegression(n_jobs = -1, verbose=2))\n",
    "    ]\n",
    ")"
   ]
  },
  {
   "cell_type": "code",
   "execution_count": 34,
   "id": "tight-investment",
   "metadata": {},
   "outputs": [],
   "source": [
    "# Create SVC pipeline\n",
    "svm_pipeline = Pipeline(\n",
    "    steps=[\n",
    "        ('scaler', StandardScaler()), \n",
    "        ('svm', SVC(verbose=2))\n",
    "    ]\n",
    ")"
   ]
  },
  {
   "cell_type": "code",
   "execution_count": 35,
   "id": "printable-trinity",
   "metadata": {},
   "outputs": [],
   "source": [
    "# Create Gaussian NB pipeline\n",
    "gnb_pipeline = Pipeline(\n",
    "    steps=[\n",
    "        ('scaler', StandardScaler()), \n",
    "        ('gnb', GaussianNB())\n",
    "    ]\n",
    ")"
   ]
  },
  {
   "cell_type": "code",
   "execution_count": 36,
   "id": "reverse-device",
   "metadata": {},
   "outputs": [],
   "source": [
    "pipelines = [\n",
    "    lr_pipeline, \n",
    "    svm_pipeline, \n",
    "    gnb_pipeline\n",
    "]"
   ]
  },
  {
   "cell_type": "code",
   "execution_count": 37,
   "id": "dominant-teens",
   "metadata": {},
   "outputs": [
    {
     "name": "stderr",
     "output_type": "stream",
     "text": [
      "[Parallel(n_jobs=-1)]: Using backend LokyBackend with 4 concurrent workers.\n",
      "[Parallel(n_jobs=-1)]: Done   1 out of   1 | elapsed:   14.3s finished\n"
     ]
    },
    {
     "name": "stdout",
     "output_type": "stream",
     "text": [
      "[LibSVM]"
     ]
    }
   ],
   "source": [
    "pipeline_dict = {\n",
    "    0 : 'LogisticRegression',\n",
    "    1 : 'SVM',\n",
    "    2 : 'Gaussian NB'\n",
    "}\n",
    "\n",
    "for pipe in pipelines:\n",
    "    pipe.fit(X_train, y_train)"
   ]
  },
  {
   "cell_type": "code",
   "execution_count": 38,
   "id": "multiple-garage",
   "metadata": {},
   "outputs": [
    {
     "name": "stdout",
     "output_type": "stream",
     "text": [
      "LogisticRegression Test accuracy 0.9991924440855307\n",
      "SVM Test accuracy 0.9992977774656788\n",
      "Gaussian NB Test accuracy 0.9780906569291808\n"
     ]
    }
   ],
   "source": [
    "# finding best modal\n",
    "for i,modal in enumerate(pipelines):\n",
    "    print(\"{} Test accuracy {}\".format(pipeline_dict[i], modal.score(X_test, y_test)))"
   ]
  },
  {
   "cell_type": "code",
   "execution_count": 39,
   "id": "stainless-devil",
   "metadata": {},
   "outputs": [],
   "source": [
    "def tree_perfomace_tracker(modal, X_test, y_test ):\n",
    "    predict = modal.predict(X_test)\n",
    "    cf_matrix = confusion_matrix(predict, y_test)\n",
    "    \n",
    "    group_names = ['True Neg','False Pos','False Neg','True Pos']\n",
    "    group_counts = [\"{0:0.0f}\".format(value) for value in cf_matrix.flatten()]\n",
    "    group_percentages = [\"{0:.2%}\".format(value) for value in cf_matrix.flatten()/np.sum(cf_matrix)]\n",
    "    labels = [f\"{v1}\\n{v2}\\n{v3}\" for v1, v2, v3 in zip(group_names,group_counts,group_percentages)]\n",
    "    labels = np.asarray(labels).reshape(2,2)\n",
    "    sns.heatmap(cf_matrix, annot=labels, fmt='')\n",
    "\n",
    "    print(\"Accuracy Score :\",accuracy_score(predict, y_test))\n",
    "    print(\"f1_score       : \", f1_score(predict, y_test))\n",
    "    "
   ]
  },
  {
   "cell_type": "code",
   "execution_count": 40,
   "id": "unauthorized-circular",
   "metadata": {},
   "outputs": [
    {
     "name": "stderr",
     "output_type": "stream",
     "text": [
      "[Parallel(n_jobs=-1)]: Using backend ThreadingBackend with 4 concurrent workers.\n",
      "[Parallel(n_jobs=-1)]: Done  42 tasks      | elapsed:   27.7s\n",
      "[Parallel(n_jobs=-1)]: Done 100 out of 100 | elapsed:  1.0min finished\n",
      "[Parallel(n_jobs=4)]: Using backend ThreadingBackend with 4 concurrent workers.\n",
      "[Parallel(n_jobs=4)]: Done  42 tasks      | elapsed:    0.3s\n",
      "[Parallel(n_jobs=4)]: Done 100 out of 100 | elapsed:    0.4s finished\n"
     ]
    },
    {
     "name": "stdout",
     "output_type": "stream",
     "text": [
      "Accuracy Score : 0.9995259997893332\n",
      "f1_score       :  0.8457142857142858\n"
     ]
    },
    {
     "data": {
      "image/png": "[encoded data removed]",
      "text/plain": [
       "<Figure size 432x288 with 2 Axes>"
      ]
     },
     "metadata": {
      "needs_background": "light"
     },
     "output_type": "display_data"
    }
   ],
   "source": [
    "# RAndom Forest\n",
    "rf = RandomForestClassifier(class_weight='balanced_subsample', random_state=42, n_jobs=-1, verbose=1)\n",
    "rf.fit(X_train, y_train)\n",
    "tree_perfomace_tracker(rf, X_test, y_test)"
   ]
  },
  {
   "cell_type": "code",
   "execution_count": 41,
   "id": "contrary-volume",
   "metadata": {},
   "outputs": [
    {
     "name": "stderr",
     "output_type": "stream",
     "text": [
      "C:\\Users\\iamka\\anaconda3\\envs\\tfPractice\\lib\\site-packages\\xgboost\\sklearn.py:888: UserWarning: The use of label encoder in XGBClassifier is deprecated and will be removed in a future release. To remove this warning, do the following: 1) Pass option use_label_encoder=False when constructing XGBClassifier object; and 2) Encode your labels (y) as integers starting with 0, i.e. 0, 1, 2, ..., [num_class - 1].\n",
      "  warnings.warn(label_encoder_deprecation_msg, UserWarning)\n"
     ]
    },
    {
     "name": "stdout",
     "output_type": "stream",
     "text": [
      "Accuracy Score : 0.9993679997191109\n",
      "f1_score       :  0.8\n"
     ]
    },
    {
     "data": {
      "image/png": "[encoded data removed]",
      "text/plain": [
       "<Figure size 432x288 with 2 Axes>"
      ]
     },
     "metadata": {
      "needs_background": "light"
     },
     "output_type": "display_data"
    }
   ],
   "source": [
    "# Xg Boost\n",
    "xb = xgb.XGBClassifier(learning_rate=0.001, n_jobs=-1)\n",
    "xb.fit(X_train, y_train, eval_metric='logloss', verbose=True)\n",
    "tree_perfomace_tracker(xb, X_test, y_test)"
   ]
  },
  {
   "cell_type": "code",
   "execution_count": 42,
   "id": "modern-thanksgiving",
   "metadata": {},
   "outputs": [
    {
     "name": "stdout",
     "output_type": "stream",
     "text": [
      "Accuracy Score : 0.9993153330290369\n",
      "f1_score       :  0.7547169811320755\n"
     ]
    },
    {
     "data": {
      "image/png": "[encoded data removed]",
      "text/plain": [
       "<Figure size 432x288 with 2 Axes>"
      ]
     },
     "metadata": {
      "needs_background": "light"
     },
     "output_type": "display_data"
    }
   ],
   "source": [
    "# Bagging Classifire\n",
    "BC_clf = BaggingClassifier(base_estimator=SVC(), random_state=0, n_jobs=-1)\n",
    "BC_clf.fit(X_train, y_train)\n",
    "tree_perfomace_tracker(BC_clf, X_test, y_test)"
   ]
  },
  {
   "cell_type": "code",
   "execution_count": 43,
   "id": "promotional-despite",
   "metadata": {},
   "outputs": [
    {
     "name": "stdout",
     "output_type": "stream",
     "text": [
      "Accuracy Score : 0.9994733330992591\n",
      "f1_score       :  0.8255813953488371\n"
     ]
    },
    {
     "data": {
      "image/png": "[encoded data removed]",
      "text/plain": [
       "<Figure size 432x288 with 2 Axes>"
      ]
     },
     "metadata": {
      "needs_background": "light"
     },
     "output_type": "display_data"
    }
   ],
   "source": [
    "# Bagging Classifire\n",
    "BC_RFC = BaggingClassifier(base_estimator=RandomForestClassifier(class_weight='balanced_subsample'),  n_jobs=-1)\n",
    "BC_RFC.fit(X_train, y_train)\n",
    "tree_perfomace_tracker(BC_RFC, X_test, y_test)"
   ]
  },
  {
   "cell_type": "code",
   "execution_count": 44,
   "id": "anonymous-removal",
   "metadata": {},
   "outputs": [
    {
     "name": "stdout",
     "output_type": "stream",
     "text": [
      "Accuracy Score : 0.9992626663389628\n",
      "f1_score       :  0.746987951807229\n"
     ]
    },
    {
     "data": {
      "image/png": "[encoded data removed]",
      "text/plain": [
       "<Figure size 432x288 with 2 Axes>"
      ]
     },
     "metadata": {
      "needs_background": "light"
     },
     "output_type": "display_data"
    }
   ],
   "source": [
    "# Gradient Classifire\n",
    "GBC = GradientBoostingClassifier(random_state=0, loss='deviance', learning_rate=0.01, criterion='mse')\n",
    "GBC.fit(X_train, y_train)\n",
    "tree_perfomace_tracker(GBC,  X_test, y_test)"
   ]
  },
  {
   "cell_type": "code",
   "execution_count": 45,
   "id": "printable-rochester",
   "metadata": {},
   "outputs": [
    {
     "name": "stdout",
     "output_type": "stream",
     "text": [
      "Accuracy Score : 0.9994908886626171\n",
      "f1_score       :  0.8284023668639053\n"
     ]
    },
    {
     "data": {
      "image/png": "[encoded data removed]",
      "text/plain": [
       "<Figure size 432x288 with 2 Axes>"
      ]
     },
     "metadata": {
      "needs_background": "light"
     },
     "output_type": "display_data"
    }
   ],
   "source": [
    "# Extra Classifire\n",
    "ETC = ExtraTreesClassifier(n_estimators=100, random_state=0, class_weight='balanced', n_jobs = 6)\n",
    "ETC.fit(X_train, y_train)\n",
    "tree_perfomace_tracker(ETC, X_test, y_test)"
   ]
  },
  {
   "cell_type": "code",
   "execution_count": 46,
   "id": "medieval-franchise",
   "metadata": {},
   "outputs": [
    {
     "name": "stdout",
     "output_type": "stream",
     "text": [
      "Accuracy Score : 0.9992099996488887\n",
      "f1_score       :  0.7513812154696133\n"
     ]
    },
    {
     "data": {
      "image/png": "[encoded data removed]",
      "text/plain": [
       "<Figure size 432x288 with 2 Axes>"
      ]
     },
     "metadata": {
      "needs_background": "light"
     },
     "output_type": "display_data"
    }
   ],
   "source": [
    "# Ada boost Classifire\n",
    "ADC = AdaBoostClassifier(n_estimators=100, random_state=0)\n",
    "ADC.fit(X_train, y_train)\n",
    "tree_perfomace_tracker(ADC, X_test, y_test)"
   ]
  },
  {
   "cell_type": "markdown",
   "id": "legendary-melissa",
   "metadata": {},
   "source": [
    "### Observations: Week 2\n"
   ]
  },
  {
   "cell_type": "markdown",
   "id": "royal-winning",
   "metadata": {},
   "source": [
    "### Project Task: Week 3\n",
    "\n",
    "#### Applying ANN:\n",
    "- Use ANN (Artificial Neural Network) to identify fradulent and non-fradulent.\n",
    "       a)    Fine-tune number of layers\n",
    "       b)    Number of Neurons in each layers\n",
    "       c)    Experiment in batch-size\n",
    "       d)    Experiment with number of epochs. Check the observations in loss and accuracy\n",
    "       e)    Play with different Learning Rate variants of Gradient Descent like Adam, SGD, RMS-prop\n",
    "       f)    Find out which activation performs best for this use case and why?\n",
    "       g)    Check Confusion Matrix, Precision, Recall and F1-Score\n",
    "- Try out Dropout for ANN. How is it performed? Compare model performance with the traditional ML based prediction models from above. \n",
    "- Find the best setting of neural net that can be best classified as fraudulent and non-fraudulent transactions. Use techniques like Grid Search, Cross-Validation and Random search.\n",
    "\n",
    "##### Anomaly Detection:\n",
    "- Implement anomaly detection algorithms.\n",
    "        a)    Assume that the data is coming from a single or a combination of multivariate Gaussian\n",
    "        b)    Formalize a scoring criterion, which gives a scoring probability for the given data point whether it belongs to the multivariate Gaussian or Normal Distribution fitted in a)"
   ]
  },
  {
   "cell_type": "code",
   "execution_count": 47,
   "id": "related-rolling",
   "metadata": {},
   "outputs": [
    {
     "data": {
      "text/html": [
       "<div>\n",
       "<style scoped>\n",
       "    .dataframe tbody tr th:only-of-type {\n",
       "        vertical-align: middle;\n",
       "    }\n",
       "\n",
       "    .dataframe tbody tr th {\n",
       "        vertical-align: top;\n",
       "    }\n",
       "\n",
       "    .dataframe thead th {\n",
       "        text-align: right;\n",
       "    }\n",
       "</style>\n",
       "<table border=\"1\" class=\"dataframe\">\n",
       "  <thead>\n",
       "    <tr style=\"text-align: right;\">\n",
       "      <th></th>\n",
       "      <th>V1</th>\n",
       "      <th>V2</th>\n",
       "      <th>V3</th>\n",
       "      <th>V4</th>\n",
       "      <th>V5</th>\n",
       "      <th>V6</th>\n",
       "      <th>V7</th>\n",
       "      <th>V8</th>\n",
       "      <th>V9</th>\n",
       "      <th>V10</th>\n",
       "      <th>...</th>\n",
       "      <th>V19</th>\n",
       "      <th>V20</th>\n",
       "      <th>V21</th>\n",
       "      <th>V22</th>\n",
       "      <th>V23</th>\n",
       "      <th>V24</th>\n",
       "      <th>V25</th>\n",
       "      <th>V26</th>\n",
       "      <th>V27</th>\n",
       "      <th>V28</th>\n",
       "    </tr>\n",
       "  </thead>\n",
       "  <tbody>\n",
       "    <tr>\n",
       "      <th>0</th>\n",
       "      <td>1.043949</td>\n",
       "      <td>0.318555</td>\n",
       "      <td>1.045810</td>\n",
       "      <td>2.805989</td>\n",
       "      <td>-0.561113</td>\n",
       "      <td>-0.367956</td>\n",
       "      <td>0.032736</td>\n",
       "      <td>-0.042333</td>\n",
       "      <td>-0.322674</td>\n",
       "      <td>0.499167</td>\n",
       "      <td>...</td>\n",
       "      <td>-0.720944</td>\n",
       "      <td>-0.084556</td>\n",
       "      <td>-0.240105</td>\n",
       "      <td>-0.680315</td>\n",
       "      <td>0.085328</td>\n",
       "      <td>0.684812</td>\n",
       "      <td>0.318620</td>\n",
       "      <td>-0.204963</td>\n",
       "      <td>0.001662</td>\n",
       "      <td>0.037894</td>\n",
       "    </tr>\n",
       "    <tr>\n",
       "      <th>1</th>\n",
       "      <td>-1.665159</td>\n",
       "      <td>0.808440</td>\n",
       "      <td>1.805627</td>\n",
       "      <td>1.903416</td>\n",
       "      <td>-0.821627</td>\n",
       "      <td>0.934790</td>\n",
       "      <td>-0.824802</td>\n",
       "      <td>0.975890</td>\n",
       "      <td>1.747469</td>\n",
       "      <td>-0.658751</td>\n",
       "      <td>...</td>\n",
       "      <td>1.325588</td>\n",
       "      <td>-0.373759</td>\n",
       "      <td>-0.335332</td>\n",
       "      <td>-0.510994</td>\n",
       "      <td>0.035839</td>\n",
       "      <td>0.147565</td>\n",
       "      <td>-0.529358</td>\n",
       "      <td>-0.566950</td>\n",
       "      <td>-0.595998</td>\n",
       "      <td>-0.220086</td>\n",
       "    </tr>\n",
       "    <tr>\n",
       "      <th>2</th>\n",
       "      <td>-0.324096</td>\n",
       "      <td>0.601836</td>\n",
       "      <td>0.865329</td>\n",
       "      <td>-2.138000</td>\n",
       "      <td>0.294663</td>\n",
       "      <td>-1.251553</td>\n",
       "      <td>1.072114</td>\n",
       "      <td>-0.334896</td>\n",
       "      <td>1.071268</td>\n",
       "      <td>-1.109522</td>\n",
       "      <td>...</td>\n",
       "      <td>0.095583</td>\n",
       "      <td>-0.039868</td>\n",
       "      <td>0.012220</td>\n",
       "      <td>0.352856</td>\n",
       "      <td>-0.341505</td>\n",
       "      <td>-0.145791</td>\n",
       "      <td>0.094194</td>\n",
       "      <td>-0.804026</td>\n",
       "      <td>0.229428</td>\n",
       "      <td>-0.021623</td>\n",
       "    </tr>\n",
       "    <tr>\n",
       "      <th>3</th>\n",
       "      <td>-0.258270</td>\n",
       "      <td>1.217501</td>\n",
       "      <td>-0.585348</td>\n",
       "      <td>-0.875347</td>\n",
       "      <td>1.222481</td>\n",
       "      <td>-0.311027</td>\n",
       "      <td>1.073860</td>\n",
       "      <td>-0.161408</td>\n",
       "      <td>0.200665</td>\n",
       "      <td>0.154307</td>\n",
       "      <td>...</td>\n",
       "      <td>0.136148</td>\n",
       "      <td>0.382305</td>\n",
       "      <td>-0.424626</td>\n",
       "      <td>-0.781158</td>\n",
       "      <td>0.019316</td>\n",
       "      <td>0.178614</td>\n",
       "      <td>-0.315616</td>\n",
       "      <td>0.096665</td>\n",
       "      <td>0.269740</td>\n",
       "      <td>-0.020635</td>\n",
       "    </tr>\n",
       "    <tr>\n",
       "      <th>4</th>\n",
       "      <td>2.142162</td>\n",
       "      <td>-0.494988</td>\n",
       "      <td>-1.936511</td>\n",
       "      <td>-0.818288</td>\n",
       "      <td>-0.025213</td>\n",
       "      <td>-1.027245</td>\n",
       "      <td>-0.151627</td>\n",
       "      <td>-0.305750</td>\n",
       "      <td>-0.869482</td>\n",
       "      <td>0.428729</td>\n",
       "      <td>...</td>\n",
       "      <td>1.064984</td>\n",
       "      <td>0.106592</td>\n",
       "      <td>0.010115</td>\n",
       "      <td>0.021722</td>\n",
       "      <td>0.079463</td>\n",
       "      <td>-0.480899</td>\n",
       "      <td>0.023846</td>\n",
       "      <td>-0.279076</td>\n",
       "      <td>-0.030121</td>\n",
       "      <td>-0.043888</td>\n",
       "    </tr>\n",
       "  </tbody>\n",
       "</table>\n",
       "<p>5 rows × 28 columns</p>\n",
       "</div>"
      ],
      "text/plain": [
       "         V1        V2        V3        V4        V5        V6        V7  \\\n",
       "0  1.043949  0.318555  1.045810  2.805989 -0.561113 -0.367956  0.032736   \n",
       "1 -1.665159  0.808440  1.805627  1.903416 -0.821627  0.934790 -0.824802   \n",
       "2 -0.324096  0.601836  0.865329 -2.138000  0.294663 -1.251553  1.072114   \n",
       "3 -0.258270  1.217501 -0.585348 -0.875347  1.222481 -0.311027  1.073860   \n",
       "4  2.142162 -0.494988 -1.936511 -0.818288 -0.025213 -1.027245 -0.151627   \n",
       "\n",
       "         V8        V9       V10  ...       V19       V20       V21       V22  \\\n",
       "0 -0.042333 -0.322674  0.499167  ... -0.720944 -0.084556 -0.240105 -0.680315   \n",
       "1  0.975890  1.747469 -0.658751  ...  1.325588 -0.373759 -0.335332 -0.510994   \n",
       "2 -0.334896  1.071268 -1.109522  ...  0.095583 -0.039868  0.012220  0.352856   \n",
       "3 -0.161408  0.200665  0.154307  ...  0.136148  0.382305 -0.424626 -0.781158   \n",
       "4 -0.305750 -0.869482  0.428729  ...  1.064984  0.106592  0.010115  0.021722   \n",
       "\n",
       "        V23       V24       V25       V26       V27       V28  \n",
       "0  0.085328  0.684812  0.318620 -0.204963  0.001662  0.037894  \n",
       "1  0.035839  0.147565 -0.529358 -0.566950 -0.595998 -0.220086  \n",
       "2 -0.341505 -0.145791  0.094194 -0.804026  0.229428 -0.021623  \n",
       "3  0.019316  0.178614 -0.315616  0.096665  0.269740 -0.020635  \n",
       "4  0.079463 -0.480899  0.023846 -0.279076 -0.030121 -0.043888  \n",
       "\n",
       "[5 rows x 28 columns]"
      ]
     },
     "execution_count": 47,
     "metadata": {},
     "output_type": "execute_result"
    }
   ],
   "source": [
    "df_train.head(5)"
   ]
  },
  {
   "cell_type": "code",
   "execution_count": 48,
   "id": "welcome-brazil",
   "metadata": {},
   "outputs": [],
   "source": [
    "def model_building(optimizer='Adam', learn_rate = 0.01, dropout_rate = 0.2):\n",
    "    model = Sequential()\n",
    "    model.add(Dense(input_dim = 28, units = 256, activation = 'relu'))\n",
    "    model.add(BatchNormalization())\n",
    "    model.add(Dense(units =  512 , activation = 'relu'))\n",
    "    model.add(Dropout(dropout_rate))\n",
    "    model.add(Dense(units = 256, activation = 'relu'))\n",
    "    model.add(Dropout(dropout_rate))\n",
    "    model.add(Dense(units = 114, activation = 'relu'))\n",
    "    model.add(Dropout(dropout_rate))\n",
    "    model.add(Dense(units = 56, activation = 'relu'))\n",
    "    model.add(Dropout(dropout_rate))\n",
    "    model.add(Dense(units =1, activation = 'sigmoid'))    \n",
    "    \n",
    "    model.compile(optimizer = optimizer, loss='binary_crossentropy', metrics = ['accuracy',tf.keras.metrics.AUC()])\n",
    "    return model"
   ]
  },
  {
   "cell_type": "code",
   "execution_count": 49,
   "id": "tough-ordering",
   "metadata": {},
   "outputs": [
    {
     "name": "stdout",
     "output_type": "stream",
     "text": [
      "Model: \"sequential\"\n",
      "_________________________________________________________________\n",
      "Layer (type)                 Output Shape              Param #   \n",
      "=================================================================\n",
      "dense (Dense)                (None, 256)               7424      \n",
      "_________________________________________________________________\n",
      "batch_normalization (BatchNo (None, 256)               1024      \n",
      "_________________________________________________________________\n",
      "dense_1 (Dense)              (None, 512)               131584    \n",
      "_________________________________________________________________\n",
      "dropout (Dropout)            (None, 512)               0         \n",
      "_________________________________________________________________\n",
      "dense_2 (Dense)              (None, 256)               131328    \n",
      "_________________________________________________________________\n",
      "dropout_1 (Dropout)          (None, 256)               0         \n",
      "_________________________________________________________________\n",
      "dense_3 (Dense)              (None, 114)               29298     \n",
      "_________________________________________________________________\n",
      "dropout_2 (Dropout)          (None, 114)               0         \n",
      "_________________________________________________________________\n",
      "dense_4 (Dense)              (None, 56)                6440      \n",
      "_________________________________________________________________\n",
      "dropout_3 (Dropout)          (None, 56)                0         \n",
      "_________________________________________________________________\n",
      "dense_5 (Dense)              (None, 1)                 57        \n",
      "=================================================================\n",
      "Total params: 307,155\n",
      "Trainable params: 306,643\n",
      "Non-trainable params: 512\n",
      "_________________________________________________________________\n"
     ]
    }
   ],
   "source": [
    "model_building().summary()"
   ]
  },
  {
   "cell_type": "code",
   "execution_count": 50,
   "id": "important-modern",
   "metadata": {},
   "outputs": [],
   "source": [
    "# tf.keras.metrics.AUC(),tf.keras.metrics.Precision(),tf.keras.metrics.Recall()\n",
    "adam_optimizer = tf.keras.optimizers.Adam(learning_rate=0.01)\n",
    "model_building().compile(optimizer=adam_optimizer, loss='binary_crossentropy', metrics=['accuracy'])"
   ]
  },
  {
   "cell_type": "code",
   "execution_count": 51,
   "id": "conventional-system",
   "metadata": {},
   "outputs": [
    {
     "name": "stdout",
     "output_type": "stream",
     "text": [
      "Epoch 1/10\n",
      "5064/5064 [==============================] - 34s 7ms/step - loss: 0.0069 - accuracy: 0.9989 - auc_2: 0.9127 - val_loss: 0.0059 - val_accuracy: 0.9994 - val_auc_2: 0.9223\n",
      "Epoch 2/10\n",
      "5064/5064 [==============================] - 31s 6ms/step - loss: 0.0066 - accuracy: 0.9991 - auc_2: 0.9247 - val_loss: 0.0044 - val_accuracy: 0.9993 - val_auc_2: 0.9325\n",
      "Epoch 3/10\n",
      "5064/5064 [==============================] - 31s 6ms/step - loss: 0.0053 - accuracy: 0.9992 - auc_2: 0.9314 - val_loss: 0.0111 - val_accuracy: 0.9993 - val_auc_2: 0.8825\n",
      "Epoch 4/10\n",
      "5064/5064 [==============================] - 30s 6ms/step - loss: 0.0062 - accuracy: 0.9992 - auc_2: 0.9364 - val_loss: 0.0073 - val_accuracy: 0.9993 - val_auc_2: 0.9130\n",
      "Epoch 5/10\n",
      "5064/5064 [==============================] - 36s 7ms/step - loss: 0.0057 - accuracy: 0.9991 - auc_2: 0.9325 - val_loss: 0.0060 - val_accuracy: 0.9993 - val_auc_2: 0.9429\n",
      "Epoch 6/10\n",
      "5064/5064 [==============================] - 33s 6ms/step - loss: 0.0049 - accuracy: 0.9991 - auc_2: 0.9481 - val_loss: 0.0062 - val_accuracy: 0.9993 - val_auc_2: 0.9465\n",
      "Epoch 7/10\n",
      "5064/5064 [==============================] - 34s 7ms/step - loss: 0.0047 - accuracy: 0.9991 - auc_2: 0.9530 - val_loss: 0.0162 - val_accuracy: 0.9991 - val_auc_2: 0.9180\n",
      "Epoch 8/10\n",
      "5064/5064 [==============================] - 35s 7ms/step - loss: 0.0055 - accuracy: 0.9991 - auc_2: 0.9416 - val_loss: 0.0115 - val_accuracy: 0.9994 - val_auc_2: 0.9379\n",
      "Epoch 9/10\n",
      "5064/5064 [==============================] - 33s 7ms/step - loss: 0.0048 - accuracy: 0.9991 - auc_2: 0.9440 - val_loss: 0.0215 - val_accuracy: 0.9993 - val_auc_2: 0.9229\n",
      "Epoch 10/10\n",
      "5064/5064 [==============================] - 34s 7ms/step - loss: 0.0052 - accuracy: 0.9991 - auc_2: 0.9493 - val_loss: 0.0131 - val_accuracy: 0.9991 - val_auc_2: 0.9661\n"
     ]
    }
   ],
   "source": [
    "# print(os.getcwd())\n",
    "logdir=\"logs/fit/\"+ datetime.now().strftime(\"%Y%m%d-%H%M%S\")\n",
    "tensorboard_callback = tf.keras.callbacks.TensorBoard(log_dir=logdir)\n",
    "history = model_building().fit(X_train, y_train, epochs=10, batch_size=45, validation_data=(X_test, y_test))"
   ]
  },
  {
   "cell_type": "code",
   "execution_count": 52,
   "id": "renewable-guarantee",
   "metadata": {},
   "outputs": [
    {
     "data": {
      "image/png": "[encoded data removed]",
      "text/plain": [
       "<Figure size 432x288 with 1 Axes>"
      ]
     },
     "metadata": {
      "needs_background": "light"
     },
     "output_type": "display_data"
    }
   ],
   "source": [
    "# Experiment with number of epochs. Check the observations in loss and accuracy\n",
    "plt.plot(history.history['loss'])\n",
    "plt.plot(history.history['val_loss'])\n",
    "plt.title('model loss')\n",
    "plt.ylabel('loss')\n",
    "plt.xlabel('epoch')\n",
    "plt.legend(['train', 'val'], loc='upper right')\n",
    "plt.show()"
   ]
  },
  {
   "cell_type": "code",
   "execution_count": 53,
   "id": "compressed-discovery",
   "metadata": {},
   "outputs": [
    {
     "data": {
      "image/png": "[encoded data removed]",
      "text/plain": [
       "<Figure size 432x288 with 1 Axes>"
      ]
     },
     "metadata": {
      "needs_background": "light"
     },
     "output_type": "display_data"
    }
   ],
   "source": [
    "plt.plot(history.history['accuracy'])\n",
    "plt.plot(history.history['val_accuracy'])\n",
    "plt.title('model accuracy')\n",
    "plt.ylabel('accuracy')\n",
    "plt.xlabel('epoch')\n",
    "plt.legend(['train', 'val'], loc='lower right')\n",
    "plt.show()"
   ]
  },
  {
   "cell_type": "code",
   "execution_count": 54,
   "id": "aboriginal-excess",
   "metadata": {},
   "outputs": [],
   "source": [
    "ann_modal = KerasClassifier(build_fn=model_building, epochs=30)\n",
    "batch_size = [10, 20, 40, 60, 80, 100]\n",
    "epochs = [10, 50, 100]\n",
    "learn_rate = [0.01, 0.02, 0.2]\n",
    "dropout_rate = [0.0, 0.1, 0.2, 0.4]\n",
    "param_grid = dict(batch_size=batch_size, epochs=epochs,learn_rate=learn_rate, dropout_rate=dropout_rate)"
   ]
  },
  {
   "cell_type": "markdown",
   "id": "general-briefing",
   "metadata": {},
   "source": [
    "#### RandamSearch"
   ]
  },
  {
   "cell_type": "code",
   "execution_count": null,
   "id": "apart-viking",
   "metadata": {},
   "outputs": [],
   "source": [
    "grid = RandomizedSearchCV(estimator=ann_modal, param_distributions =param_grid, n_jobs=-1, cv=3)\n",
    "grid_result = grid.fit(X_train, y_train, validation_data=(X_test, y_test))"
   ]
  },
  {
   "cell_type": "code",
   "execution_count": null,
   "id": "governing-restriction",
   "metadata": {},
   "outputs": [],
   "source": [
    "print(\"\\nBest: %f using %s\" % (grid_result.best_score_, grid_result.best_params_))"
   ]
  },
  {
   "cell_type": "markdown",
   "id": "expensive-baseball",
   "metadata": {},
   "source": [
    "#### Cross-Validation"
   ]
  },
  {
   "cell_type": "code",
   "execution_count": null,
   "id": "royal-brother",
   "metadata": {},
   "outputs": [],
   "source": [
    "scores = cross_val_score(ann_modal, X_train, y_train, cv=5, scoring='f1')\n",
    "print(\"f1 score is: \", scores.mean())"
   ]
  },
  {
   "cell_type": "code",
   "execution_count": null,
   "id": "sexual-marriage",
   "metadata": {},
   "outputs": [],
   "source": [
    "# Experiment in batch-size\n",
    "batch_size = [10, 20, 40, 60, 80, 100]\n",
    "param_grid = dict(batch_size = batch_size)\n",
    "grid = GridSearchCV(estimator = ann_modal, param_grid = param_grid, n_jobs=-1, cv=3)\n",
    "grid_result = grid.fit(X_train,y_train,validation_data=(X_test, y_test))\n",
    "print(\"\\nBest: %f using %s\" % (grid_result.best_score_, grid_result.best_params_))"
   ]
  },
  {
   "cell_type": "code",
   "execution_count": null,
   "id": "affected-collectible",
   "metadata": {},
   "outputs": [],
   "source": [
    "#  Play with different Learning Rate variants of Gradient Descent like Adam, SGD, RMS-prop\n",
    "optimizers = ['SGD', 'RMSprop', 'Adam']\n",
    "param_grid = dict(optimizer=optimizers)\n",
    "grid = GridSearchCV(estimator = ann_modal, param_grid = param_grid, n_jobs = -1, cv = 3)\n",
    "grid_result = grid.fit(X_train, y_train, validation_data=(X_test, y_test))\n",
    "print(\"Best optimizers With Best score: \",grid_result.best_score_, grid_result.best_params_)"
   ]
  },
  {
   "cell_type": "markdown",
   "id": "living-contrary",
   "metadata": {},
   "source": [
    "#### Perfomace Evalution"
   ]
  },
  {
   "cell_type": "code",
   "execution_count": null,
   "id": "liable-warrant",
   "metadata": {},
   "outputs": [],
   "source": [
    "# ann_predictions = model_building().predict(X_test)\n",
    "ann_predictions = model_building().predict(X_test, verbose=0)\n",
    "yhat_classes = model_building().predict_classes(X_test, verbose=0)\n",
    "yhat_probs = ann_predictions[:, 0]\n",
    "yhat_classes = yhat_classes[:, 0]\n",
    "\n",
    "accuracy = accuracy_score(y_test, yhat_classes)\n",
    "f1 = f1_score(y_test, yhat_classes)\n",
    "\n",
    "cm = tf.math.confusion_matrix(labels=y_test, predictions=ann_predictions, num_classes=2)\n",
    "sns.heatmap(cm, annot=True)\n",
    "\n",
    "print(\"Accuracy Score :\", accuracy)\n",
    "print(\"f1_score       : \", f1)"
   ]
  },
  {
   "cell_type": "markdown",
   "id": "pregnant-kinase",
   "metadata": {},
   "source": [
    "#### Anomaly Detection:"
   ]
  },
  {
   "cell_type": "code",
   "execution_count": null,
   "id": "primary-thursday",
   "metadata": {},
   "outputs": [],
   "source": [
    "df_train = copy.deepcopy(df_train_original)\n",
    "df_test = copy.deepcopy(df_test_original)\n",
    "\n",
    "fraud = df_train[df_train['Class'] == 1]\n",
    "valid = df_train[df_train['Class'] == 0]\n",
    "outlier_fraction = len(fraud) / float(len(valid))\n",
    "n_outliers = len(fraud)\n",
    "\n",
    "df_train.dropna(inplace=True)\n",
    "df_test.dropna(inplace=True)\n",
    "\n",
    "y_train = df_train.pop('Class')\n",
    "X_train = df_train"
   ]
  },
  {
   "cell_type": "code",
   "execution_count": null,
   "id": "generous-ideal",
   "metadata": {},
   "outputs": [],
   "source": [
    "\n",
    "classifiers = {\n",
    "    \"Isolation Forest\" : IsolationForest(\n",
    "        n_estimators = 100, \n",
    "        max_samples = len(X_train), \n",
    "        contamination = outlier_fraction,\n",
    "        random_state = 1, \n",
    "        verbose = 1,\n",
    "        n_jobs = -1\n",
    "    ),\n",
    "    \"Local Outlier Factor\" : LocalOutlierFactor(\n",
    "        n_neighbors=20, \n",
    "        algorithm='auto', \n",
    "        leaf_size=30, \n",
    "        metric='minkowski',\n",
    "        p=2, metric_params = None, \n",
    "        contamination = outlier_fraction,\n",
    "        n_jobs = -1\n",
    "    )   \n",
    "}"
   ]
  },
  {
   "cell_type": "code",
   "execution_count": null,
   "id": "stretch-accuracy",
   "metadata": {},
   "outputs": [],
   "source": [
    "\n",
    "for i, (clf_name,clf) in enumerate(classifiers.items()):\n",
    "    #Fit the data and tag outliers\n",
    "    if clf_name == \"Local Outlier Factor\":\n",
    "        y_pred = clf.fit_predict(X_train)\n",
    "        scores_prediction = clf.negative_outlier_factor_\n",
    "    else:    \n",
    "        clf.fit(X_train)\n",
    "        scores_prediction = clf.decision_function(X_train)\n",
    "        y_pred = clf.predict(X_train)\n",
    "    #Reshape the prediction values to 0 for Valid transactions , 1 for Fraud transactions\n",
    "    y_pred[y_pred == 1] = 0\n",
    "    y_pred[y_pred == -1] = 1\n",
    "    n_errors = (y_pred != y_train).sum()\n",
    "    # Run Classification Metrics\n",
    "    print(\"{}: {}\".format(clf_name, n_errors))\n",
    "    print(\"Accuracy Score :\")\n",
    "    print(accuracy_score(y_train, y_pred))\n",
    "    print(\"Classification Report :\")\n",
    "    print(classification_report(y_train, y_pred))"
   ]
  },
  {
   "cell_type": "code",
   "execution_count": null,
   "id": "southwest-germany",
   "metadata": {},
   "outputs": [],
   "source": []
  }
 ],
 "metadata": {
  "instance_type": "ml.g4dn.xlarge",
  "kernelspec": {
   "display_name": "Python 3",
   "language": "python",
   "name": "python3"
  },
  "language_info": {
   "codemirror_mode": {
    "name": "ipython",
    "version": 3
   },
   "file_extension": ".py",
   "mimetype": "text/x-python",
   "name": "python",
   "nbconvert_exporter": "python",
   "pygments_lexer": "ipython3",
   "version": "3.8.8"
  }
 },
 "nbformat": 4,
 "nbformat_minor": 5
}
